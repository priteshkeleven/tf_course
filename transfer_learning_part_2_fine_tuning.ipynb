{
  "nbformat": 4,
  "nbformat_minor": 0,
  "metadata": {
    "colab": {
      "name": "transfer_learning_part_2_fine_tuning.ipynb",
      "provenance": [],
      "authorship_tag": "ABX9TyNM+0lBv58FPm3+7XfmGIlj"
    },
    "kernelspec": {
      "name": "python3",
      "display_name": "Python 3"
    },
    "language_info": {
      "name": "python"
    },
    "accelerator": "GPU"
  },
  "cells": [
    {
      "cell_type": "code",
      "metadata": {
        "id": "y5mjdQGiFXPe",
        "colab": {
          "base_uri": "https://localhost:8080/"
        },
        "outputId": "cff0b6ff-3e3a-4224-8aaf-154f6bc99507"
      },
      "source": [
        "!nvidia-smi"
      ],
      "execution_count": 1,
      "outputs": [
        {
          "output_type": "stream",
          "text": [
            "Wed Jul 21 15:42:09 2021       \n",
            "+-----------------------------------------------------------------------------+\n",
            "| NVIDIA-SMI 470.42.01    Driver Version: 460.32.03    CUDA Version: 11.2     |\n",
            "|-------------------------------+----------------------+----------------------+\n",
            "| GPU  Name        Persistence-M| Bus-Id        Disp.A | Volatile Uncorr. ECC |\n",
            "| Fan  Temp  Perf  Pwr:Usage/Cap|         Memory-Usage | GPU-Util  Compute M. |\n",
            "|                               |                      |               MIG M. |\n",
            "|===============================+======================+======================|\n",
            "|   0  Tesla T4            Off  | 00000000:00:04.0 Off |                    0 |\n",
            "| N/A   47C    P8    10W /  70W |      0MiB / 15109MiB |      0%      Default |\n",
            "|                               |                      |                  N/A |\n",
            "+-------------------------------+----------------------+----------------------+\n",
            "                                                                               \n",
            "+-----------------------------------------------------------------------------+\n",
            "| Processes:                                                                  |\n",
            "|  GPU   GI   CI        PID   Type   Process name                  GPU Memory |\n",
            "|        ID   ID                                                   Usage      |\n",
            "|=============================================================================|\n",
            "|  No running processes found                                                 |\n",
            "+-----------------------------------------------------------------------------+\n"
          ],
          "name": "stdout"
        }
      ]
    },
    {
      "cell_type": "code",
      "metadata": {
        "id": "xvFtBgmBYIqz",
        "colab": {
          "base_uri": "https://localhost:8080/"
        },
        "outputId": "c3fe9c96-1520-435d-ea2d-305b0448a8c9"
      },
      "source": [
        "!wget https://raw.githubusercontent.com/mrdbourke/tensorflow-deep-learning/main/extras/helper_functions.py"
      ],
      "execution_count": 2,
      "outputs": [
        {
          "output_type": "stream",
          "text": [
            "--2021-07-21 15:42:11--  https://raw.githubusercontent.com/mrdbourke/tensorflow-deep-learning/main/extras/helper_functions.py\n",
            "Resolving raw.githubusercontent.com (raw.githubusercontent.com)... 185.199.111.133, 185.199.108.133, 185.199.109.133, ...\n",
            "Connecting to raw.githubusercontent.com (raw.githubusercontent.com)|185.199.111.133|:443... connected.\n",
            "HTTP request sent, awaiting response... 200 OK\n",
            "Length: 10246 (10K) [text/plain]\n",
            "Saving to: ‘helper_functions.py’\n",
            "\n",
            "helper_functions.py 100%[===================>]  10.01K  --.-KB/s    in 0s      \n",
            "\n",
            "2021-07-21 15:42:12 (81.4 MB/s) - ‘helper_functions.py’ saved [10246/10246]\n",
            "\n"
          ],
          "name": "stdout"
        }
      ]
    },
    {
      "cell_type": "code",
      "metadata": {
        "id": "Hik1UGRMYo04"
      },
      "source": [
        " from helper_functions import create_tensorboard_callback, plot_loss_curves, unzip_data, walk_through_dir"
      ],
      "execution_count": 3,
      "outputs": []
    },
    {
      "cell_type": "markdown",
      "metadata": {
        "id": "mvNkObEMZftP"
      },
      "source": [
        "# Download the data"
      ]
    },
    {
      "cell_type": "code",
      "metadata": {
        "id": "E37-lw5Uu7mq",
        "outputId": "ae0f8c4a-e2b7-4d42-9046-f6fa840e94a1",
        "colab": {
          "base_uri": "https://localhost:8080/"
        }
      },
      "source": [
        "# Get 10% of the data\n",
        "!wget https://storage.googleapis.com/ztm_tf_course/food_vision/10_food_classes_10_percent.zip\n",
        "\n",
        "unzip_data(\"10_food_classes_10_percent.zip\")"
      ],
      "execution_count": 4,
      "outputs": [
        {
          "output_type": "stream",
          "text": [
            "--2021-07-21 15:45:00--  https://storage.googleapis.com/ztm_tf_course/food_vision/10_food_classes_10_percent.zip\n",
            "Resolving storage.googleapis.com (storage.googleapis.com)... 108.177.98.128, 74.125.142.128, 74.125.197.128, ...\n",
            "Connecting to storage.googleapis.com (storage.googleapis.com)|108.177.98.128|:443... connected.\n",
            "HTTP request sent, awaiting response... 200 OK\n",
            "Length: 168546183 (161M) [application/zip]\n",
            "Saving to: ‘10_food_classes_10_percent.zip’\n",
            "\n",
            "10_food_classes_10_ 100%[===================>] 160.74M   231MB/s    in 0.7s    \n",
            "\n",
            "2021-07-21 15:45:01 (231 MB/s) - ‘10_food_classes_10_percent.zip’ saved [168546183/168546183]\n",
            "\n"
          ],
          "name": "stdout"
        }
      ]
    },
    {
      "cell_type": "code",
      "metadata": {
        "id": "cXxak0CLvdeQ",
        "outputId": "1913779d-ea89-4ece-91c0-8b37d1acbfc7",
        "colab": {
          "base_uri": "https://localhost:8080/"
        }
      },
      "source": [
        "# Check images and subdirectories\n",
        "walk_through_dir(\"10_food_classes_10_percent\")"
      ],
      "execution_count": 5,
      "outputs": [
        {
          "output_type": "stream",
          "text": [
            "There are 2 directories and 0 images in '10_food_classes_10_percent'.\n",
            "There are 10 directories and 0 images in '10_food_classes_10_percent/train'.\n",
            "There are 0 directories and 75 images in '10_food_classes_10_percent/train/chicken_wings'.\n",
            "There are 0 directories and 75 images in '10_food_classes_10_percent/train/sushi'.\n",
            "There are 0 directories and 75 images in '10_food_classes_10_percent/train/steak'.\n",
            "There are 0 directories and 75 images in '10_food_classes_10_percent/train/pizza'.\n",
            "There are 0 directories and 75 images in '10_food_classes_10_percent/train/ice_cream'.\n",
            "There are 0 directories and 75 images in '10_food_classes_10_percent/train/ramen'.\n",
            "There are 0 directories and 75 images in '10_food_classes_10_percent/train/fried_rice'.\n",
            "There are 0 directories and 75 images in '10_food_classes_10_percent/train/chicken_curry'.\n",
            "There are 0 directories and 75 images in '10_food_classes_10_percent/train/grilled_salmon'.\n",
            "There are 0 directories and 75 images in '10_food_classes_10_percent/train/hamburger'.\n",
            "There are 10 directories and 0 images in '10_food_classes_10_percent/test'.\n",
            "There are 0 directories and 250 images in '10_food_classes_10_percent/test/chicken_wings'.\n",
            "There are 0 directories and 250 images in '10_food_classes_10_percent/test/sushi'.\n",
            "There are 0 directories and 250 images in '10_food_classes_10_percent/test/steak'.\n",
            "There are 0 directories and 250 images in '10_food_classes_10_percent/test/pizza'.\n",
            "There are 0 directories and 250 images in '10_food_classes_10_percent/test/ice_cream'.\n",
            "There are 0 directories and 250 images in '10_food_classes_10_percent/test/ramen'.\n",
            "There are 0 directories and 250 images in '10_food_classes_10_percent/test/fried_rice'.\n",
            "There are 0 directories and 250 images in '10_food_classes_10_percent/test/chicken_curry'.\n",
            "There are 0 directories and 250 images in '10_food_classes_10_percent/test/grilled_salmon'.\n",
            "There are 0 directories and 250 images in '10_food_classes_10_percent/test/hamburger'.\n"
          ],
          "name": "stdout"
        }
      ]
    },
    {
      "cell_type": "code",
      "metadata": {
        "id": "u9fgsK1rvk8J"
      },
      "source": [
        "# Create training and test directories paths\n",
        "train_dir = \"10_food_classes_10_percent/train\"\n",
        "test_dir = \"10_food_classes_10_percent/test\""
      ],
      "execution_count": 6,
      "outputs": []
    },
    {
      "cell_type": "code",
      "metadata": {
        "id": "d2D5v5DmwNPR",
        "outputId": "fac98d7f-c843-48cf-a9c3-599ae84115b8",
        "colab": {
          "base_uri": "https://localhost:8080/"
        }
      },
      "source": [
        "import tensorflow as tf\n",
        "\n",
        "IMG_SIZE = (224, 224)\n",
        "BATCH_SIZE = 32\n",
        "train_data_10_precent = tf.keras.preprocessing.image_dataset_from_directory(\n",
        "    directory=train_dir,\n",
        "    image_size=IMG_SIZE,\n",
        "    label_mode=\"categorical\",\n",
        "    batch_size=BATCH_SIZE\n",
        ")\n",
        "\n",
        "test_data = tf.keras.preprocessing.image_dataset_from_directory(\n",
        "    directory=test_dir,\n",
        "    image_size=(224, 224),\n",
        "    label_mode=\"categorical\",\n",
        "    batch_size=BATCH_SIZE\n",
        ")"
      ],
      "execution_count": 7,
      "outputs": [
        {
          "output_type": "stream",
          "text": [
            "Found 750 files belonging to 10 classes.\n",
            "Found 2500 files belonging to 10 classes.\n"
          ],
          "name": "stdout"
        }
      ]
    },
    {
      "cell_type": "code",
      "metadata": {
        "id": "XEpZhX3axecr",
        "outputId": "d0b1ae16-732d-465c-9792-433fae3d8f8a",
        "colab": {
          "base_uri": "https://localhost:8080/"
        }
      },
      "source": [
        "train_data_10_precent"
      ],
      "execution_count": 8,
      "outputs": [
        {
          "output_type": "execute_result",
          "data": {
            "text/plain": [
              "<BatchDataset shapes: ((None, 224, 224, 3), (None, 10)), types: (tf.float32, tf.float32)>"
            ]
          },
          "metadata": {
            "tags": []
          },
          "execution_count": 8
        }
      ]
    },
    {
      "cell_type": "code",
      "metadata": {
        "id": "oMl6txZxxh4i",
        "outputId": "ae217f58-2d03-49b6-e87e-103c8d7b1a71",
        "colab": {
          "base_uri": "https://localhost:8080/"
        }
      },
      "source": [
        "# Check out class names of dataset\n",
        "train_data_10_precent.class_names"
      ],
      "execution_count": 9,
      "outputs": [
        {
          "output_type": "execute_result",
          "data": {
            "text/plain": [
              "['chicken_curry',\n",
              " 'chicken_wings',\n",
              " 'fried_rice',\n",
              " 'grilled_salmon',\n",
              " 'hamburger',\n",
              " 'ice_cream',\n",
              " 'pizza',\n",
              " 'ramen',\n",
              " 'steak',\n",
              " 'sushi']"
            ]
          },
          "metadata": {
            "tags": []
          },
          "execution_count": 9
        }
      ]
    },
    {
      "cell_type": "code",
      "metadata": {
        "id": "c8v5lRK9x-j4",
        "outputId": "4f5b3654-600b-40f9-b4a7-e861e454672d",
        "colab": {
          "base_uri": "https://localhost:8080/"
        }
      },
      "source": [
        "for images, labels in train_data_10_precent.take(1):\n",
        "  print(images, labels)"
      ],
      "execution_count": 12,
      "outputs": [
        {
          "output_type": "stream",
          "text": [
            "tf.Tensor(\n",
            "[[[[  3.4225128    7.422513     6.422513  ]\n",
            "   [  3.9285717    7.9285717    8.928572  ]\n",
            "   [  2.2142859    3.2142859    7.214286  ]\n",
            "   ...\n",
            "   [ 41.6027      25.602701    25.602701  ]\n",
            "   [ 39.687157    23.687157    23.687157  ]\n",
            "   [ 37.          23.          22.        ]]\n",
            "\n",
            "  [[  4.067283     8.067283     7.067283  ]\n",
            "   [  3.9285717    7.9285717    8.928572  ]\n",
            "   [  1.4690691    3.763393     7.3319516 ]\n",
            "   ...\n",
            "   [ 40.668083    24.668081    24.668081  ]\n",
            "   [ 39.477665    23.477665    23.477665  ]\n",
            "   [ 37.549107    23.549107    22.549107  ]]\n",
            "\n",
            "  [[  4.357143     8.357142     7.357143  ]\n",
            "   [  3.9285717    7.9285717    8.928572  ]\n",
            "   [  0.6610335    4.018176     7.232462  ]\n",
            "   ...\n",
            "   [ 40.571472    24.571472    24.571472  ]\n",
            "   [ 40.84374     24.843737    24.843737  ]\n",
            "   [ 39.24206     25.24206     24.24206   ]]\n",
            "\n",
            "  ...\n",
            "\n",
            "  [[188.64891    181.81859    153.73375   ]\n",
            "   [189.49702    182.50914    153.50308   ]\n",
            "   [189.09914    183.09914    150.53726   ]\n",
            "   ...\n",
            "   [ 44.93545    151.30945    202.04204   ]\n",
            "   [ 71.63345    169.81047    213.70471   ]\n",
            "   [152.31319    244.98631    254.69698   ]]\n",
            "\n",
            "  [[185.46138    180.91228    151.91228   ]\n",
            "   [180.56087    174.60551    145.08319   ]\n",
            "   [187.11638    180.82652    146.92314   ]\n",
            "   ...\n",
            "   [ 36.082916   141.3856     191.79893   ]\n",
            "   [ 67.50793    171.36026    210.80302   ]\n",
            "   [149.59761    242.56535    252.71663   ]]\n",
            "\n",
            "  [[182.60876    181.05972    151.24274   ]\n",
            "   [176.40242    173.06255    142.23248   ]\n",
            "   [183.58826    176.9454     143.15968   ]\n",
            "   ...\n",
            "   [ 38.70792    143.07224    192.85797   ]\n",
            "   [ 63.795227   172.98747    209.33934   ]\n",
            "   [152.79205    245.1369     253.17685   ]]]\n",
            "\n",
            "\n",
            " [[[ 22.          12.          10.        ]\n",
            "   [ 21.714285    11.714286     9.714286  ]\n",
            "   [ 23.061224    11.846939    10.275511  ]\n",
            "   ...\n",
            "   [138.7755      67.775505    25.346975  ]\n",
            "   [140.1633      69.16329     27.163296  ]\n",
            "   [141.80098     69.80097     29.800974  ]]\n",
            "\n",
            "  [[ 20.760202    10.760204     8.760204  ]\n",
            "   [ 18.071428     8.071428     6.0714283 ]\n",
            "   [ 23.642857    12.428572    10.857143  ]\n",
            "   ...\n",
            "   [132.44385     61.44385     19.443853  ]\n",
            "   [142.01022     71.010216    29.01022   ]\n",
            "   [141.45401     70.45401     28.454014  ]]\n",
            "\n",
            "  [[ 19.92347     10.137755     7.494898  ]\n",
            "   [ 22.142857    11.928572     9.5       ]\n",
            "   [ 23.551022    11.403061     9.785714  ]\n",
            "   ...\n",
            "   [133.21428     60.214287    19.214287  ]\n",
            "   [143.19894     70.19895     29.19895   ]\n",
            "   [139.29597     66.29597     25.295969  ]]\n",
            "\n",
            "  ...\n",
            "\n",
            "  [[124.29612     74.36744     44.867287  ]\n",
            "   [125.87277     74.158356    44.229675  ]\n",
            "   [131.11754     77.18886     47.045914  ]\n",
            "   ...\n",
            "   [148.57147     85.3113      41.571472  ]\n",
            "   [151.23978     89.35205     42.18365   ]\n",
            "   [151.16324     90.73471     40.948975  ]]\n",
            "\n",
            "  [[132.12242     78.19386     40.050976  ]\n",
            "   [136.70914     80.78057     43.637688  ]\n",
            "   [131.44382     73.41319     36.357063  ]\n",
            "   ...\n",
            "   [147.5612      86.7296      41.5612    ]\n",
            "   [146.48988     88.48988     38.489883  ]\n",
            "   [150.12227     93.12226     40.12226   ]]\n",
            "\n",
            "  [[130.77028     77.77028     37.770283  ]\n",
            "   [130.14268     77.142685    37.142685  ]\n",
            "   [126.79076     71.147896    32.362183  ]\n",
            "   ...\n",
            "   [142.07135     84.07135     36.499878  ]\n",
            "   [148.30614     92.37759     41.16326   ]\n",
            "   [146.89798     91.89797     37.897976  ]]]\n",
            "\n",
            "\n",
            " [[[154.11734    156.65816    163.65816   ]\n",
            "   [153.83163    151.23979    152.52551   ]\n",
            "   [153.21428    143.77042    137.35204   ]\n",
            "   ...\n",
            "   [171.58673    144.42859     44.505116  ]\n",
            "   [170.59184    145.94899     46.66327   ]\n",
            "   [171.4796     146.83673     47.551025  ]]\n",
            "\n",
            "  [[151.88266    158.33673    168.97958   ]\n",
            "   [152.5        153.56633    157.77042   ]\n",
            "   [150.33163    144.07652    141.2296    ]\n",
            "   ...\n",
            "   [170.09702    137.38272     32.597008  ]\n",
            "   [166.78056    135.93362     30.081554  ]\n",
            "   [163.09187    132.37758     24.591866  ]]\n",
            "\n",
            "  [[182.48979    192.36224    205.35715   ]\n",
            "   [169.06122    173.94388    183.2857    ]\n",
            "   [148.53061    147.93367    149.71939   ]\n",
            "   ...\n",
            "   [169.92357    131.92352     22.418427  ]\n",
            "   [167.8826     130.39793     16.239735  ]\n",
            "   [161.41318    124.69896      8.989745  ]]\n",
            "\n",
            "  ...\n",
            "\n",
            "  [[137.05618    112.270454    22.270452  ]\n",
            "   [140.19894    115.19894     22.270367  ]\n",
            "   [146.02042    120.02042     25.448992  ]\n",
            "   ...\n",
            "   [128.94426     95.561646    27.536238  ]\n",
            "   [144.03098    109.10236     40.10242   ]\n",
            "   [152.87262    114.65836     42.240013  ]]\n",
            "\n",
            "  [[136.97449    111.97449     19.974485  ]\n",
            "   [138.7959     113.7959      20.795895  ]\n",
            "   [138.65814    112.87243     18.316307  ]\n",
            "   ...\n",
            "   [140.39835    101.954445    36.454475  ]\n",
            "   [151.30107    111.8163      46.73465   ]\n",
            "   [144.6684     101.38264     32.99994   ]]\n",
            "\n",
            "  [[137.15308    112.153076    19.923462  ]\n",
            "   [135.61731    111.54588     15.760166  ]\n",
            "   [138.78072    112.994995    18.637852  ]\n",
            "   ...\n",
            "   [148.22026    101.9498      34.86312   ]\n",
            "   [156.02061    107.709366    41.209305  ]\n",
            "   [155.94395    104.87242     35.515247  ]]]\n",
            "\n",
            "\n",
            " ...\n",
            "\n",
            "\n",
            " [[[118.66901    109.66901     92.66901   ]\n",
            "   [114.373085   105.373085    88.373085  ]\n",
            "   [112.748726   103.748726    86.748726  ]\n",
            "   ...\n",
            "   [138.02922    131.02922    113.02923   ]\n",
            "   [111.70967    104.70967     86.70967   ]\n",
            "   [127.3094     120.3094     102.3094    ]]\n",
            "\n",
            "  [[114.33275    105.33275     88.33275   ]\n",
            "   [116.10364    107.10364     90.10364   ]\n",
            "   [114.08769    105.08769     88.08769   ]\n",
            "   ...\n",
            "   [138.92798    131.92798    113.92798   ]\n",
            "   [131.18819    124.18819    106.18819   ]\n",
            "   [126.73958    119.73958    101.73958   ]]\n",
            "\n",
            "  [[113.28571    104.28571     87.28571   ]\n",
            "   [116.92857    107.92857     90.92857   ]\n",
            "   [114.984215   105.984215    88.984215  ]\n",
            "   ...\n",
            "   [142.35136    135.35136    117.351364  ]\n",
            "   [132.83212    125.83213    107.83213   ]\n",
            "   [143.308      136.308      118.30799   ]]\n",
            "\n",
            "  ...\n",
            "\n",
            "  [[ 29.465406    24.460144    18.265446  ]\n",
            "   [ 15.412784    11.341355     8.269927  ]\n",
            "   [ 12.          10.926331     9.147339  ]\n",
            "   ...\n",
            "   [ 20.638397    21.167768    15.218909  ]\n",
            "   [ 15.063144    15.989474     9.842135  ]\n",
            "   [ 15.421814    16.98883     11.248162  ]]\n",
            "\n",
            "  [[ 30.499702    24.571577    15.89699   ]\n",
            "   [ 15.626769    10.730372     8.896398  ]\n",
            "   [ 12.6980505    9.650975    11.6980505 ]\n",
            "   ...\n",
            "   [ 18.785736    18.785736    10.785736  ]\n",
            "   [ 15.857117    15.857117     7.8571167 ]\n",
            "   [ 12.801486    12.642728     5.7145433 ]]\n",
            "\n",
            "  [[ 31.214285    24.214285    15.5       ]\n",
            "   [ 16.142857    10.214285     9.928572  ]\n",
            "   [ 13.571428     9.214286    12.571428  ]\n",
            "   ...\n",
            "   [ 18.61117     18.61117     10.611169  ]\n",
            "   [ 16.671844    16.671844     8.6718445 ]\n",
            "   [ 13.          13.           5.        ]]]\n",
            "\n",
            "\n",
            " [[[202.05612     71.05612     17.056124  ]\n",
            "   [202.78061     71.78061     17.780611  ]\n",
            "   [195.26021     64.2602      10.260203  ]\n",
            "   ...\n",
            "   [ 51.15311     22.806135    12.086755  ]\n",
            "   [ 56.709156    23.903017    13.3060875 ]\n",
            "   [ 49.387592    12.030449     4.8672576 ]]\n",
            "\n",
            "  [[197.78572     68.78572     13.785715  ]\n",
            "   [202.65306     73.65306     18.653063  ]\n",
            "   [202.15816     72.94388     18.586739  ]\n",
            "   ...\n",
            "   [ 37.50013     11.040882     2.127594  ]\n",
            "   [ 46.076553    17.918388     6.99492   ]\n",
            "   [ 51.377613    21.137815    11.209244  ]]\n",
            "\n",
            "  [[193.86224     66.86224     11.862245  ]\n",
            "   [196.90306     69.90306     14.903061  ]\n",
            "   [198.44388     71.44387     18.872448  ]\n",
            "   ...\n",
            "   [ 27.239758     7.6683292    0.47448543]\n",
            "   [ 28.341848     6.6122274    0.8265255 ]\n",
            "   [ 28.198957     4.4132433    0.        ]]\n",
            "\n",
            "  ...\n",
            "\n",
            "  [[151.13268     68.42352     22.341904  ]\n",
            "   [150.24487     63.612206    18.270409  ]\n",
            "   [154.33672     64.403076    20.739845  ]\n",
            "   ...\n",
            "   [ 31.785736     6.785736     2.5714722 ]\n",
            "   [ 31.7296       6.729602     2.515338  ]\n",
            "   [ 30.214264     5.214264     1.        ]]\n",
            "\n",
            "  [[156.06615     81.94884     38.015163  ]\n",
            "   [140.91318     62.341793    19.474457  ]\n",
            "   [148.602       66.91835     24.428572  ]\n",
            "   ...\n",
            "   [ 27.586718     6.729602     1.6581602 ]\n",
            "   [ 26.714233     6.           0.8622206 ]\n",
            "   [ 24.454014     3.7397814    0.        ]]\n",
            "\n",
            "  [[117.57605     51.647583     7.4384766 ]\n",
            "   [129.68367     59.918457    15.515365  ]\n",
            "   [139.77542     64.908134    22.198921  ]\n",
            "   ...\n",
            "   [ 23.158058     6.7193527    0.        ]\n",
            "   [ 20.668339     6.382695     0.        ]\n",
            "   [ 20.7704       8.841931     0.48475367]]]\n",
            "\n",
            "\n",
            " [[[183.2143     168.2143     125.21428   ]\n",
            "   [182.20409    167.20409    124.20408   ]\n",
            "   [181.54082    166.54082    123.54082   ]\n",
            "   ...\n",
            "   [ 93.959175    52.67346     54.13265   ]\n",
            "   [ 94.92857     52.908184    53.70411   ]\n",
            "   [ 92.11223     51.19387     50.18366   ]]\n",
            "\n",
            "  [[180.07143    165.07143    122.07143   ]\n",
            "   [180.07143    165.07143    122.07143   ]\n",
            "   [180.73468    165.73468    122.734695  ]\n",
            "   ...\n",
            "   [110.40814     58.82653     58.163258  ]\n",
            "   [112.54082     58.887756    58.928574  ]\n",
            "   [110.79591     57.204075    55.499985  ]]\n",
            "\n",
            "  [[180.21428    165.42857    122.        ]\n",
            "   [180.7347     165.94899    122.52041   ]\n",
            "   [182.70409    167.91837    124.4898    ]\n",
            "   ...\n",
            "   [113.98978     64.42856     62.857143  ]\n",
            "   [116.591805    65.530624    62.979588  ]\n",
            "   [115.642845    63.57142     61.357136  ]]\n",
            "\n",
            "  ...\n",
            "\n",
            "  [[194.22441    204.22441    195.22441   ]\n",
            "   [197.86732    207.86732    199.2959    ]\n",
            "   [200.90822    210.90822    202.90822   ]\n",
            "   ...\n",
            "   [214.33676    209.90823    175.1225    ]\n",
            "   [214.03055    208.70406    174.3673    ]\n",
            "   [215.19376    209.19376    175.19376   ]]\n",
            "\n",
            "  [[200.13264    210.13264    201.13264   ]\n",
            "   [201.35713    211.35713    202.7857    ]\n",
            "   [201.87753    211.87753    203.87753   ]\n",
            "   ...\n",
            "   [224.03055    220.03055    185.03055   ]\n",
            "   [218.48994    214.48994    179.48994   ]\n",
            "   [209.33676    205.33676    170.33676   ]]\n",
            "\n",
            "  [[199.14285    209.14285    200.14285   ]\n",
            "   [200.30615    210.30615    201.73473   ]\n",
            "   [200.45923    210.45923    202.45923   ]\n",
            "   ...\n",
            "   [211.44887    207.44887    172.44887   ]\n",
            "   [212.06104    208.06104    173.06104   ]\n",
            "   [212.52026    208.52026    173.52026   ]]]], shape=(32, 224, 224, 3), dtype=float32) tf.Tensor(\n",
            "[[0. 0. 0. 0. 0. 0. 0. 1. 0. 0.]\n",
            " [0. 0. 0. 0. 0. 1. 0. 0. 0. 0.]\n",
            " [0. 0. 0. 0. 1. 0. 0. 0. 0. 0.]\n",
            " [0. 0. 0. 1. 0. 0. 0. 0. 0. 0.]\n",
            " [0. 0. 0. 0. 0. 0. 1. 0. 0. 0.]\n",
            " [0. 0. 0. 0. 0. 0. 1. 0. 0. 0.]\n",
            " [0. 1. 0. 0. 0. 0. 0. 0. 0. 0.]\n",
            " [0. 1. 0. 0. 0. 0. 0. 0. 0. 0.]\n",
            " [1. 0. 0. 0. 0. 0. 0. 0. 0. 0.]\n",
            " [0. 0. 0. 0. 1. 0. 0. 0. 0. 0.]\n",
            " [0. 0. 0. 0. 1. 0. 0. 0. 0. 0.]\n",
            " [0. 0. 0. 1. 0. 0. 0. 0. 0. 0.]\n",
            " [0. 0. 0. 0. 0. 0. 0. 1. 0. 0.]\n",
            " [0. 0. 1. 0. 0. 0. 0. 0. 0. 0.]\n",
            " [0. 0. 0. 0. 0. 0. 0. 0. 1. 0.]\n",
            " [1. 0. 0. 0. 0. 0. 0. 0. 0. 0.]\n",
            " [0. 0. 0. 0. 0. 0. 0. 1. 0. 0.]\n",
            " [0. 0. 1. 0. 0. 0. 0. 0. 0. 0.]\n",
            " [0. 0. 0. 0. 0. 0. 0. 1. 0. 0.]\n",
            " [0. 0. 0. 1. 0. 0. 0. 0. 0. 0.]\n",
            " [0. 0. 0. 0. 0. 0. 1. 0. 0. 0.]\n",
            " [0. 0. 0. 0. 0. 0. 0. 0. 1. 0.]\n",
            " [1. 0. 0. 0. 0. 0. 0. 0. 0. 0.]\n",
            " [0. 0. 0. 0. 0. 0. 0. 1. 0. 0.]\n",
            " [0. 0. 0. 0. 0. 0. 0. 0. 0. 1.]\n",
            " [1. 0. 0. 0. 0. 0. 0. 0. 0. 0.]\n",
            " [0. 0. 0. 0. 0. 1. 0. 0. 0. 0.]\n",
            " [0. 0. 0. 0. 0. 1. 0. 0. 0. 0.]\n",
            " [0. 0. 0. 0. 0. 0. 0. 0. 0. 1.]\n",
            " [0. 0. 1. 0. 0. 0. 0. 0. 0. 0.]\n",
            " [0. 0. 0. 0. 0. 0. 0. 1. 0. 0.]\n",
            " [0. 1. 0. 0. 0. 0. 0. 0. 0. 0.]], shape=(32, 10), dtype=float32)\n"
          ],
          "name": "stdout"
        }
      ]
    },
    {
      "cell_type": "code",
      "metadata": {
        "id": "twM9mZlXyJFg"
      },
      "source": [
        ""
      ],
      "execution_count": null,
      "outputs": []
    }
  ]
}