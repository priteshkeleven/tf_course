{
 "cells": [
  {
   "cell_type": "code",
   "execution_count": 1,
   "metadata": {
    "colab": {
     "base_uri": "https://localhost:8080/"
    },
    "id": "y5mjdQGiFXPe",
    "outputId": "607b6500-0211-49a4-cc73-36835279ac9f",
    "pycharm": {
     "name": "#%%\n"
    }
   },
   "outputs": [
    {
     "name": "stdout",
     "output_type": "stream",
     "text": [
      "Fri Jun 17 21:22:24 2022       \n",
      "+-----------------------------------------------------------------------------+\n",
      "| NVIDIA-SMI 516.40       Driver Version: 516.40       CUDA Version: 11.7     |\n",
      "|-------------------------------+----------------------+----------------------+\n",
      "| GPU  Name            TCC/WDDM | Bus-Id        Disp.A | Volatile Uncorr. ECC |\n",
      "| Fan  Temp  Perf  Pwr:Usage/Cap|         Memory-Usage | GPU-Util  Compute M. |\n",
      "|                               |                      |               MIG M. |\n",
      "|===============================+======================+======================|\n",
      "|   0  NVIDIA GeForce ... WDDM  | 00000000:01:00.0  On |                  N/A |\n",
      "| N/A   55C    P8    12W /  N/A |    544MiB /  6144MiB |      2%      Default |\n",
      "|                               |                      |                  N/A |\n",
      "+-------------------------------+----------------------+----------------------+\n",
      "                                                                               \n",
      "+-----------------------------------------------------------------------------+\n",
      "| Processes:                                                                  |\n",
      "|  GPU   GI   CI        PID   Type   Process name                  GPU Memory |\n",
      "|        ID   ID                                                   Usage      |\n",
      "|=============================================================================|\n",
      "|    0   N/A  N/A      5108    C+G   ...artMenuExperienceHost.exe    N/A      |\n",
      "|    0   N/A  N/A      6744    C+G   ...6bftszj\\TranslucentTB.exe    N/A      |\n",
      "|    0   N/A  N/A      7604    C+G   ...t\\Teams\\current\\Teams.exe    N/A      |\n",
      "|    0   N/A  N/A      9504    C+G   ...werToys.ColorPickerUI.exe    N/A      |\n",
      "|    0   N/A  N/A     10848    C+G   ...ows\\System32\\prevhost.exe    N/A      |\n",
      "|    0   N/A  N/A     11512    C+G   ...2txyewy\\TextInputHost.exe    N/A      |\n",
      "|    0   N/A  N/A     14952    C+G   C:\\Windows\\explorer.exe         N/A      |\n",
      "|    0   N/A  N/A     16768    C+G   ...n1h2txyewy\\SearchHost.exe    N/A      |\n",
      "|    0   N/A  N/A     16956    C+G   ...erver\\YourPhoneServer.exe    N/A      |\n",
      "|    0   N/A  N/A     17200    C+G   ...ekyb3d8bbwe\\onenoteim.exe    N/A      |\n",
      "|    0   N/A  N/A     18124    C+G   ...cw5n1h2txyewy\\LockApp.exe    N/A      |\n",
      "|    0   N/A  N/A     18736    C+G   ...y\\ShellExperienceHost.exe    N/A      |\n",
      "|    0   N/A  N/A     18876    C+G   ...8bbwe\\WindowsTerminal.exe    N/A      |\n",
      "|    0   N/A  N/A     20436    C+G   ...dows\\System32\\dllhost.exe    N/A      |\n",
      "|    0   N/A  N/A     24820    C+G   ...210.53\\msedgewebview2.exe    N/A      |\n",
      "|    0   N/A  N/A     25968    C+G   ...ekyb3d8bbwe\\HxOutlook.exe    N/A      |\n",
      "|    0   N/A  N/A     27180    C+G   ...me\\Application\\chrome.exe    N/A      |\n",
      "|    0   N/A  N/A     28644    C+G   ...4vj0pshhgkwm\\Telegram.exe    N/A      |\n",
      "+-----------------------------------------------------------------------------+\n"
     ]
    }
   ],
   "source": [
    "!nvidia-smi"
   ]
  },
  {
   "cell_type": "code",
   "execution_count": 4,
   "metadata": {
    "colab": {
     "base_uri": "https://localhost:8080/"
    },
    "id": "xvFtBgmBYIqz",
    "outputId": "bd0638cf-7639-4e3d-ed35-600801a6383a",
    "pycharm": {
     "name": "#%%\n"
    }
   },
   "outputs": [
    {
     "name": "stdout",
     "output_type": "stream",
     "text": [
      "\n",
      "Saved under helper_functions.py\n"
     ]
    }
   ],
   "source": [
    "!python -m wget https://raw.githubusercontent.com/mrdbourke/tensorflow-deep-learning/main/extras/helper_functions.py"
   ]
  },
  {
   "cell_type": "code",
   "execution_count": 2,
   "metadata": {
    "id": "Hik1UGRMYo04",
    "pycharm": {
     "name": "#%%\n"
    }
   },
   "outputs": [],
   "source": [
    "from helper_functions import create_tensorboard_callback, plot_loss_curves, unzip_data, walk_through_dir"
   ]
  },
  {
   "cell_type": "markdown",
   "metadata": {
    "id": "mvNkObEMZftP",
    "jp-MarkdownHeadingCollapsed": true,
    "pycharm": {
     "name": "#%% md\n"
    },
    "tags": []
   },
   "source": [
    "# Download the data"
   ]
  },
  {
   "cell_type": "code",
   "execution_count": 10,
   "metadata": {
    "colab": {
     "base_uri": "https://localhost:8080/"
    },
    "id": "E37-lw5Uu7mq",
    "outputId": "ea226c5b-cd0f-43cd-ae45-e714fdfc63c2",
    "pycharm": {
     "name": "#%%\n"
    }
   },
   "outputs": [
    {
     "name": "stdout",
     "output_type": "stream",
     "text": [
      "\n",
      "Saved under 10_food_classes_10_percent.zip\n"
     ]
    }
   ],
   "source": [
    "# Get 10% of the data\n",
    "!python -m wget https://storage.googleapis.com/ztm_tf_course/food_vision/10_food_classes_10_percent.zip\n",
    "\n",
    "unzip_data(\"10_food_classes_10_percent.zip\")"
   ]
  },
  {
   "cell_type": "code",
   "execution_count": 3,
   "metadata": {
    "colab": {
     "base_uri": "https://localhost:8080/"
    },
    "id": "cXxak0CLvdeQ",
    "outputId": "0656be91-583a-446c-f29d-b28558d1049f",
    "pycharm": {
     "name": "#%%\n"
    }
   },
   "outputs": [
    {
     "name": "stdout",
     "output_type": "stream",
     "text": [
      "There are 2 directories and 0 images in '10_food_classes_10_percent'.\n",
      "There are 10 directories and 0 images in '10_food_classes_10_percent\\test'.\n",
      "There are 0 directories and 250 images in '10_food_classes_10_percent\\test\\chicken_curry'.\n",
      "There are 0 directories and 250 images in '10_food_classes_10_percent\\test\\chicken_wings'.\n",
      "There are 0 directories and 250 images in '10_food_classes_10_percent\\test\\fried_rice'.\n",
      "There are 0 directories and 250 images in '10_food_classes_10_percent\\test\\grilled_salmon'.\n",
      "There are 0 directories and 250 images in '10_food_classes_10_percent\\test\\hamburger'.\n",
      "There are 0 directories and 250 images in '10_food_classes_10_percent\\test\\ice_cream'.\n",
      "There are 0 directories and 250 images in '10_food_classes_10_percent\\test\\pizza'.\n",
      "There are 0 directories and 250 images in '10_food_classes_10_percent\\test\\ramen'.\n",
      "There are 0 directories and 250 images in '10_food_classes_10_percent\\test\\steak'.\n",
      "There are 0 directories and 250 images in '10_food_classes_10_percent\\test\\sushi'.\n",
      "There are 10 directories and 0 images in '10_food_classes_10_percent\\train'.\n",
      "There are 0 directories and 75 images in '10_food_classes_10_percent\\train\\chicken_curry'.\n",
      "There are 0 directories and 75 images in '10_food_classes_10_percent\\train\\chicken_wings'.\n",
      "There are 0 directories and 75 images in '10_food_classes_10_percent\\train\\fried_rice'.\n",
      "There are 0 directories and 75 images in '10_food_classes_10_percent\\train\\grilled_salmon'.\n",
      "There are 0 directories and 75 images in '10_food_classes_10_percent\\train\\hamburger'.\n",
      "There are 0 directories and 75 images in '10_food_classes_10_percent\\train\\ice_cream'.\n",
      "There are 0 directories and 75 images in '10_food_classes_10_percent\\train\\pizza'.\n",
      "There are 0 directories and 75 images in '10_food_classes_10_percent\\train\\ramen'.\n",
      "There are 0 directories and 75 images in '10_food_classes_10_percent\\train\\steak'.\n",
      "There are 0 directories and 75 images in '10_food_classes_10_percent\\train\\sushi'.\n"
     ]
    }
   ],
   "source": [
    "# Check images and subdirectories\n",
    "walk_through_dir(\"10_food_classes_10_percent\")"
   ]
  },
  {
   "cell_type": "code",
   "execution_count": 4,
   "metadata": {
    "id": "u9fgsK1rvk8J",
    "pycharm": {
     "name": "#%%\n"
    }
   },
   "outputs": [],
   "source": [
    "# Create training and test directories paths\n",
    "train_dir = \"10_food_classes_10_percent/train\"\n",
    "test_dir = \"10_food_classes_10_percent/test\""
   ]
  },
  {
   "cell_type": "code",
   "execution_count": 5,
   "metadata": {
    "colab": {
     "base_uri": "https://localhost:8080/"
    },
    "id": "d2D5v5DmwNPR",
    "outputId": "4e04a944-7a14-437e-ef07-0999aab7eb62",
    "pycharm": {
     "name": "#%%\n"
    }
   },
   "outputs": [
    {
     "name": "stdout",
     "output_type": "stream",
     "text": [
      "Found 750 files belonging to 10 classes.\n",
      "Found 2500 files belonging to 10 classes.\n"
     ]
    }
   ],
   "source": [
    "import tensorflow as tf\n",
    "\n",
    "IMG_SIZE = (224, 224)\n",
    "BATCH_SIZE = 32\n",
    "train_data_10_precent = tf.keras.preprocessing.image_dataset_from_directory(\n",
    "    directory=train_dir,\n",
    "    image_size=IMG_SIZE,\n",
    "    label_mode=\"categorical\",\n",
    "    batch_size=BATCH_SIZE\n",
    ")\n",
    "\n",
    "test_data = tf.keras.preprocessing.image_dataset_from_directory(\n",
    "    directory=test_dir,\n",
    "    image_size=(224, 224),\n",
    "    label_mode=\"categorical\",\n",
    "    batch_size=BATCH_SIZE\n",
    ")"
   ]
  },
  {
   "cell_type": "code",
   "execution_count": 6,
   "metadata": {
    "colab": {
     "base_uri": "https://localhost:8080/"
    },
    "id": "XEpZhX3axecr",
    "outputId": "8c41346a-c8f6-46be-8e97-f8c4f949f22a",
    "pycharm": {
     "name": "#%%\n"
    }
   },
   "outputs": [
    {
     "data": {
      "text/plain": [
       "<BatchDataset element_spec=(TensorSpec(shape=(None, 224, 224, 3), dtype=tf.float32, name=None), TensorSpec(shape=(None, 10), dtype=tf.float32, name=None))>"
      ]
     },
     "execution_count": 6,
     "metadata": {},
     "output_type": "execute_result"
    }
   ],
   "source": [
    "train_data_10_precent"
   ]
  },
  {
   "cell_type": "code",
   "execution_count": 7,
   "metadata": {
    "colab": {
     "base_uri": "https://localhost:8080/"
    },
    "id": "oMl6txZxxh4i",
    "outputId": "f4858c52-c41e-40b8-f51e-d1aa5093ce1e",
    "pycharm": {
     "name": "#%%\n"
    }
   },
   "outputs": [
    {
     "data": {
      "text/plain": [
       "['chicken_curry',\n",
       " 'chicken_wings',\n",
       " 'fried_rice',\n",
       " 'grilled_salmon',\n",
       " 'hamburger',\n",
       " 'ice_cream',\n",
       " 'pizza',\n",
       " 'ramen',\n",
       " 'steak',\n",
       " 'sushi']"
      ]
     },
     "execution_count": 7,
     "metadata": {},
     "output_type": "execute_result"
    }
   ],
   "source": [
    "# Check out class names of dataset\n",
    "train_data_10_precent.class_names"
   ]
  },
  {
   "cell_type": "code",
   "execution_count": 8,
   "metadata": {
    "pycharm": {
     "name": "#%%\n"
    }
   },
   "outputs": [
    {
     "name": "stdout",
     "output_type": "stream",
     "text": [
      "tf.Tensor(\n",
      "[[[[177.64287   161.64287   136.64287  ]\n",
      "   [179.38264   163.38264   138.38264  ]\n",
      "   [177.43367   161.43367   136.43367  ]\n",
      "   ...\n",
      "   [106.658035   88.44377    76.576485 ]\n",
      "   [116.57643    99.719315   92.719315 ]\n",
      "   [ 83.948425   70.361664   66.12193  ]]\n",
      "\n",
      "  [[175.18878   158.18878   132.18878  ]\n",
      "   [175.21428   158.21428   132.21428  ]\n",
      "   [173.21428   156.        130.42856  ]\n",
      "   ...\n",
      "   [189.14284   170.92857   158.50005  ]\n",
      "   [201.03064   184.17352   176.3113   ]\n",
      "   [178.9023    165.9023    159.9023   ]]\n",
      "\n",
      "  [[168.86224   151.43367   123.005104 ]\n",
      "   [167.9847    150.55612   122.12755  ]\n",
      "   [168.61734   150.97449   124.7602   ]\n",
      "   ...\n",
      "   [190.19397   172.40823   157.9797   ]\n",
      "   [195.41336   181.41336   170.52562  ]\n",
      "   [191.67818   178.67818   170.46388  ]]\n",
      "\n",
      "  ...\n",
      "\n",
      "  [[140.92342   103.28062    14.494884 ]\n",
      "   [137.35712   100.35712    12.3571205]\n",
      "   [133.99998    95.99998    11.42855  ]\n",
      "   ...\n",
      "   [143.78574    64.142944   21.785736 ]\n",
      "   [145.80104    67.80104    21.801043 ]\n",
      "   [144.64282    66.64282    19.07135  ]]\n",
      "\n",
      "  [[142.95407   105.95407    16.954073 ]\n",
      "   [139.14285   102.14285    14.142857 ]\n",
      "   [134.77042    96.7704     12.1989765]\n",
      "   ...\n",
      "   [143.49991    63.857117   21.499908 ]\n",
      "   [144.         66.         20.       ]\n",
      "   [143.64282    65.64282    17.642822 ]]\n",
      "\n",
      "  [[142.71432   105.71432    16.714321 ]\n",
      "   [138.50003   102.90313    14.096941 ]\n",
      "   [133.86226    97.43368    12.076538 ]\n",
      "   ...\n",
      "   [139.56627    60.137733   17.137733 ]\n",
      "   [142.14288    64.14288    18.142883 ]\n",
      "   [144.35718    66.35718    18.357178 ]]]\n",
      "\n",
      "\n",
      " [[[ 64.015305   47.015305   17.015305 ]\n",
      "   [ 54.59694    37.59694     9.596938 ]\n",
      "   [ 48.         32.352043    6.581633 ]\n",
      "   ...\n",
      "   [ 83.21942    73.78576    69.27561  ]\n",
      "   [ 81.50507    75.25001    73.7194   ]\n",
      "   [ 77.203926   74.51519    76.91828  ]]\n",
      "\n",
      "  [[ 62.596935   43.596935   11.596938 ]\n",
      "   [ 55.07143    37.938774    7.9387755]\n",
      "   [ 48.459183   32.887756    6.8877554]\n",
      "   ...\n",
      "   [ 81.14776    74.14776    67.71923  ]\n",
      "   [ 80.98977    77.785675   73.07141  ]\n",
      "   [ 76.04591    74.97449    73.188774 ]]\n",
      "\n",
      "  [[ 66.72449    46.57143    11.142857 ]\n",
      "   [ 71.         51.928574   18.89796  ]\n",
      "   [ 59.5        44.714287   16.142857 ]\n",
      "   ...\n",
      "   [ 93.35655    89.57084    80.66267  ]\n",
      "   [ 75.77045    72.81637    65.37249  ]\n",
      "   [ 78.79076    78.79076    70.36218  ]]\n",
      "\n",
      "  ...\n",
      "\n",
      "  [[162.        162.        164.       ]\n",
      "   [162.        162.        164.       ]\n",
      "   [162.95409   163.        165.       ]\n",
      "   ...\n",
      "   [122.        118.42853   107.045906 ]\n",
      "   [124.15813   120.15813   108.15813  ]\n",
      "   [122.49991   116.92844   104.92844  ]]\n",
      "\n",
      "  [[161.07144   159.07144   162.07144  ]\n",
      "   [160.07144   160.07144   162.07144  ]\n",
      "   [161.07144   161.07144   163.07144  ]\n",
      "   ...\n",
      "   [121.58678   117.80104   107.22957  ]\n",
      "   [127.005104  120.005104  110.005104 ]\n",
      "   [124.785706  117.785706  107.785706 ]]\n",
      "\n",
      "  [[161.28564   159.28564   162.28564  ]\n",
      "   [160.64282   160.64282   162.64282  ]\n",
      "   [161.28564   161.28564   163.28564  ]\n",
      "   ...\n",
      "   [123.290794  119.290794  110.290794 ]\n",
      "   [125.714264  118.714264  110.714264 ]\n",
      "   [126.64282   119.64282   111.64282  ]]]\n",
      "\n",
      "\n",
      " [[[  9.571428   10.928572   11.857143 ]\n",
      "   [ 16.882654   16.954082   26.596941 ]\n",
      "   [ 17.57143    16.         38.07653  ]\n",
      "   ...\n",
      "   [140.3928    143.3928    150.3928   ]\n",
      "   [110.32158   111.39302   115.03581  ]\n",
      "   [142.17867   142.17867   141.46431  ]]\n",
      "\n",
      "  [[ 10.928572   10.928572   12.214286 ]\n",
      "   [ 16.         15.         22.785715 ]\n",
      "   [ 16.301022   15.285714   30.015305 ]\n",
      "   ...\n",
      "   [119.15783   122.15783   127.6986   ]\n",
      "   [110.40827   111.413376  115.25518  ]\n",
      "   [130.63277   130.63277   129.91841  ]]\n",
      "\n",
      "  [[ 10.933674    8.290816   11.505102 ]\n",
      "   [ 13.142858   10.5        15.285714 ]\n",
      "   [ 13.52551    11.357142   16.17347  ]\n",
      "   ...\n",
      "   [123.0556    126.0556    131.48413  ]\n",
      "   [ 95.45409    96.45409   100.3112   ]\n",
      "   [ 97.20421    97.20421    97.20421  ]]\n",
      "\n",
      "  ...\n",
      "\n",
      "  [[232.30672   231.2357    241.09276  ]\n",
      "   [232.42926   230.92972   240.57251  ]\n",
      "   [229.85771   225.57243   234.38358  ]\n",
      "   ...\n",
      "   [130.95409    87.045906   50.       ]\n",
      "   [127.515335   83.515335   46.51534  ]\n",
      "   [126.367325   82.367325   45.367325 ]]\n",
      "\n",
      "  [[232.50514   254.00511   249.29082  ]\n",
      "   [235.28064   255.        250.34184  ]\n",
      "   [232.72966   253.47452   246.54596  ]\n",
      "   ...\n",
      "   [130.85712    86.85712    49.857117 ]\n",
      "   [131.93365    87.93366    50.933662 ]\n",
      "   [128.40302    82.40301    46.40301  ]]\n",
      "\n",
      "  [[241.22969   253.4438    254.77042  ]\n",
      "   [241.8113    254.33667   255.       ]\n",
      "   [243.80104   253.86726   254.86226  ]\n",
      "   ...\n",
      "   [128.21426    84.214264   47.214264 ]\n",
      "   [132.66833    86.66834    50.66834  ]\n",
      "   [129.57129    83.57129    47.57129  ]]]\n",
      "\n",
      "\n",
      " ...\n",
      "\n",
      "\n",
      " [[[  0.          0.          2.       ]\n",
      "   [  0.          0.          2.       ]\n",
      "   [  0.          0.          2.       ]\n",
      "   ...\n",
      "   [  0.          0.          2.       ]\n",
      "   [  0.          0.          2.       ]\n",
      "   [  0.          0.          2.       ]]\n",
      "\n",
      "  [[  0.          0.          2.       ]\n",
      "   [  0.          0.          2.       ]\n",
      "   [  0.          0.          2.       ]\n",
      "   ...\n",
      "   [  0.          0.          2.       ]\n",
      "   [  0.          0.          2.       ]\n",
      "   [  0.          0.          2.       ]]\n",
      "\n",
      "  [[  0.          0.          2.       ]\n",
      "   [  0.          0.          2.       ]\n",
      "   [  0.          0.          2.       ]\n",
      "   ...\n",
      "   [  0.          0.          2.       ]\n",
      "   [  0.          0.          2.       ]\n",
      "   [  0.          0.          2.       ]]\n",
      "\n",
      "  ...\n",
      "\n",
      "  [[  0.          0.          2.       ]\n",
      "   [  0.          0.          2.       ]\n",
      "   [  0.          0.          2.       ]\n",
      "   ...\n",
      "   [  0.          0.          2.       ]\n",
      "   [  0.          0.          2.       ]\n",
      "   [  0.          0.          2.       ]]\n",
      "\n",
      "  [[  0.          0.          2.       ]\n",
      "   [  0.          0.          2.       ]\n",
      "   [  0.          0.          2.       ]\n",
      "   ...\n",
      "   [  0.          0.          2.       ]\n",
      "   [  0.          0.          2.       ]\n",
      "   [  0.          0.          2.       ]]\n",
      "\n",
      "  [[  0.          0.          2.       ]\n",
      "   [  0.          0.          2.       ]\n",
      "   [  0.          0.          2.       ]\n",
      "   ...\n",
      "   [  0.          0.          2.       ]\n",
      "   [  0.          0.          2.       ]\n",
      "   [  0.          0.          2.       ]]]\n",
      "\n",
      "\n",
      " [[[192.12755   183.55612   159.60204  ]\n",
      "   [187.54593   168.5204    144.59183  ]\n",
      "   [147.7653    117.89796    93.83673  ]\n",
      "   ...\n",
      "   [197.86226   223.86226   248.86226  ]\n",
      "   [198.        224.        249.       ]\n",
      "   [197.87244   223.87244   248.87244  ]]\n",
      "\n",
      "  [[199.31122   184.31122   158.00511  ]\n",
      "   [176.69388   151.20407   124.2755   ]\n",
      "   [110.5051     75.17857    47.44898  ]\n",
      "   ...\n",
      "   [196.80104   222.80104   247.80104  ]\n",
      "   [198.        224.        249.       ]\n",
      "   [198.        224.        249.       ]]\n",
      "\n",
      "  [[179.16837   154.10204   122.2551   ]\n",
      "   [150.38776   117.0153     85.44386  ]\n",
      "   [136.30101    94.22959    61.632652 ]\n",
      "   ...\n",
      "   [197.        223.        248.       ]\n",
      "   [196.9847    222.9847    247.9847   ]\n",
      "   [195.78572   221.78572   246.78572  ]]\n",
      "\n",
      "  ...\n",
      "\n",
      "  [[172.7908    189.36227   209.57654  ]\n",
      "   [174.0561    190.62758   210.84184  ]\n",
      "   [175.83163   192.4031    212.61737  ]\n",
      "   ...\n",
      "   [142.55098   171.78574   210.16835  ]\n",
      "   [141.21426   170.42853   210.       ]\n",
      "   [141.49492   170.70918   210.28065  ]]\n",
      "\n",
      "  [[173.73979   190.73979   210.73979  ]\n",
      "   [174.79082   191.79082   211.79082  ]\n",
      "   [174.92856   191.92856   211.92856  ]\n",
      "   ...\n",
      "   [141.84187   171.05614   210.62761  ]\n",
      "   [142.0051    171.0051    211.0051   ]\n",
      "   [138.7857    167.7857    207.7857   ]]\n",
      "\n",
      "  [[175.07143   192.07143   212.07143  ]\n",
      "   [174.52548   191.52548   211.52548  ]\n",
      "   [172.42854   189.42854   209.42854  ]\n",
      "   ...\n",
      "   [140.1479    169.36217   208.93364  ]\n",
      "   [141.9795    170.9795    210.9795   ]\n",
      "   [143.12758   172.12758   212.12758  ]]]\n",
      "\n",
      "\n",
      " [[[150.0153    154.68367   153.03061  ]\n",
      "   [158.19897   155.4847    146.69897  ]\n",
      "   [113.86734   108.36224    90.87755  ]\n",
      "   ...\n",
      "   [121.35185   115.994644   80.637436 ]\n",
      "   [119.90825   107.83681    67.6429   ]\n",
      "   [130.76016   115.2755     71.688705 ]]\n",
      "\n",
      "  [[ 89.82143    90.89285    85.39796  ]\n",
      "   [106.07141   104.219376   92.37243  ]\n",
      "   [ 50.08162    46.913254   29.969378 ]\n",
      "   ...\n",
      "   [110.83145   107.64259    72.87216  ]\n",
      "   [113.88263   104.464226   65.448906 ]\n",
      "   [119.566635  107.4952     66.63799  ]]\n",
      "\n",
      "  [[ 41.071426   36.642857   25.42857  ]\n",
      "   [ 42.811222   38.38265    25.954077 ]\n",
      "   [ 26.811224   23.239798   11.071429 ]\n",
      "   ...\n",
      "   [111.81114   109.45393    76.23967  ]\n",
      "   [110.673386  105.703964   67.84681  ]\n",
      "   [105.34713    98.27063    58.48992  ]]\n",
      "\n",
      "  ...\n",
      "\n",
      "  [[ 18.214264   15.214264   10.214264 ]\n",
      "   [ 16.84186    14.270388    9.270388 ]\n",
      "   [ 16.16835    15.260178   10.42855  ]\n",
      "   ...\n",
      "   [ 33.004913   16.550974   11.550974 ]\n",
      "   [ 27.270336   18.41322    13.341779 ]\n",
      "   [ 27.352211   21.495094   15.418564 ]]\n",
      "\n",
      "  [[ 20.188745   17.188745   10.188745 ]\n",
      "   [ 18.923443   15.923442   10.923442 ]\n",
      "   [ 16.785675   15.785675   10.785675 ]\n",
      "   ...\n",
      "   [ 50.51018    37.11227    30.882698 ]\n",
      "   [ 36.63787    23.494987   17.56643  ]\n",
      "   [ 45.117275   30.831509   27.90295  ]]\n",
      "\n",
      "  [[ 19.785854   14.785853    8.785853 ]\n",
      "   [ 17.50014    14.500139    7.500139 ]\n",
      "   [ 14.428711   13.428711    8.428711 ]\n",
      "   ...\n",
      "   [ 37.16327    24.80606    18.163269 ]\n",
      "   [ 45.388046   29.17874    24.58184  ]\n",
      "   [ 42.566345   22.851992   19.20917  ]]]], shape=(32, 224, 224, 3), dtype=float32) tf.Tensor(\n",
      "[[1. 0. 0. 0. 0. 0. 0. 0. 0. 0.]\n",
      " [0. 0. 1. 0. 0. 0. 0. 0. 0. 0.]\n",
      " [0. 0. 0. 0. 0. 0. 1. 0. 0. 0.]\n",
      " [0. 1. 0. 0. 0. 0. 0. 0. 0. 0.]\n",
      " [0. 0. 1. 0. 0. 0. 0. 0. 0. 0.]\n",
      " [0. 0. 0. 0. 0. 0. 0. 1. 0. 0.]\n",
      " [0. 0. 0. 1. 0. 0. 0. 0. 0. 0.]\n",
      " [0. 0. 0. 0. 0. 0. 0. 0. 1. 0.]\n",
      " [0. 0. 0. 0. 0. 0. 1. 0. 0. 0.]\n",
      " [0. 0. 0. 0. 0. 0. 0. 0. 1. 0.]\n",
      " [0. 0. 0. 1. 0. 0. 0. 0. 0. 0.]\n",
      " [0. 0. 0. 1. 0. 0. 0. 0. 0. 0.]\n",
      " [0. 0. 0. 0. 0. 0. 0. 0. 1. 0.]\n",
      " [0. 0. 0. 0. 0. 0. 0. 1. 0. 0.]\n",
      " [1. 0. 0. 0. 0. 0. 0. 0. 0. 0.]\n",
      " [0. 0. 0. 0. 0. 1. 0. 0. 0. 0.]\n",
      " [0. 0. 0. 0. 0. 0. 1. 0. 0. 0.]\n",
      " [0. 0. 0. 1. 0. 0. 0. 0. 0. 0.]\n",
      " [0. 1. 0. 0. 0. 0. 0. 0. 0. 0.]\n",
      " [1. 0. 0. 0. 0. 0. 0. 0. 0. 0.]\n",
      " [0. 1. 0. 0. 0. 0. 0. 0. 0. 0.]\n",
      " [0. 1. 0. 0. 0. 0. 0. 0. 0. 0.]\n",
      " [1. 0. 0. 0. 0. 0. 0. 0. 0. 0.]\n",
      " [0. 0. 0. 0. 0. 0. 0. 1. 0. 0.]\n",
      " [0. 0. 0. 0. 0. 1. 0. 0. 0. 0.]\n",
      " [0. 0. 0. 0. 0. 0. 0. 0. 1. 0.]\n",
      " [0. 0. 0. 0. 1. 0. 0. 0. 0. 0.]\n",
      " [0. 0. 1. 0. 0. 0. 0. 0. 0. 0.]\n",
      " [0. 0. 0. 0. 1. 0. 0. 0. 0. 0.]\n",
      " [0. 0. 0. 0. 0. 0. 0. 1. 0. 0.]\n",
      " [0. 0. 1. 0. 0. 0. 0. 0. 0. 0.]\n",
      " [0. 0. 0. 0. 0. 0. 0. 1. 0. 0.]], shape=(32, 10), dtype=float32)\n"
     ]
    }
   ],
   "source": [
    "# See the example of batch data\n",
    "for images, labels in train_data_10_precent.take(1):\n",
    "    print(images, labels)"
   ]
  },
  {
   "cell_type": "markdown",
   "metadata": {
    "id": "twM9mZlXyJFg",
    "pycharm": {
     "name": "#%% md\n"
    },
    "tags": []
   },
   "source": [
    "## Model 0: Functional API (Baseline)"
   ]
  },
  {
   "cell_type": "code",
   "execution_count": 8,
   "metadata": {
    "colab": {
     "base_uri": "https://localhost:8080/"
    },
    "id": "6nnl18iVMiFR",
    "outputId": "9d955964-1d69-4c0d-f178-43544d77907f",
    "pycharm": {
     "name": "#%%\n"
    }
   },
   "outputs": [
    {
     "name": "stdout",
     "output_type": "stream",
     "text": [
      "Shape after passing inputs through base model:  (None, 7, 7, 1280)\n",
      "Shape after GlobalAveragePooling2D:  (None, 1280)\n"
     ]
    }
   ],
   "source": [
    "# Create model using tf.keras.applications\n",
    "base_model = tf.keras.applications.EfficientNetB0(include_top=False)\n",
    "\n",
    "# Freeze the base model\n",
    "base_model.trainable = False\n",
    "\n",
    "#Create inputs into model\n",
    "inputs = tf.keras.layers.Input(shape=(224, 224,3), name=\"input_layer\")\n",
    "\n",
    "# if using models like ResNet50V2, we need to normalize inputs\n",
    "# x = tf.keras.layers.experimental.preprocessing.Normalization(1./255)(inputs)\n",
    "\n",
    "# Pass the inputs to the base model\n",
    "x = base_model(inputs)\n",
    "print(\"Shape after passing inputs through base model: \", x.shape)\n",
    "\n",
    "# Average pool the outputs of the base model\n",
    "x = tf.keras.layers.GlobalAveragePooling2D(name=\"global_average_pooling_layer\")(x)\n",
    "print(\"Shape after GlobalAveragePooling2D: \", x.shape)\n",
    "\n",
    "# Create the output activation layer\n",
    "outputs = tf.keras.layers.Dense(10, activation=\"softmax\", name=\"output_layer\")(x)\n",
    "\n",
    "# Combine the inputs with the outputs into a model\n",
    "model_0 = tf.keras.Model(inputs, outputs)"
   ]
  },
  {
   "cell_type": "code",
   "execution_count": 9,
   "metadata": {
    "id": "xE_15zF9OvE7",
    "pycharm": {
     "name": "#%%\n"
    }
   },
   "outputs": [],
   "source": [
    "# Compile the model\n",
    "model_0.compile(\n",
    "    loss=tf.keras.losses.CategoricalCrossentropy(),\n",
    "    optimizer=tf.keras.optimizers.Adam(),\n",
    "    metrics=[\"accuracy\"]\n",
    ")"
   ]
  },
  {
   "cell_type": "code",
   "execution_count": 10,
   "metadata": {
    "colab": {
     "base_uri": "https://localhost:8080/"
    },
    "id": "4kq_vd3LPHhQ",
    "outputId": "85a78c35-7362-450e-e49d-f0aa4ebedb65",
    "pycharm": {
     "name": "#%%\n"
    }
   },
   "outputs": [
    {
     "name": "stdout",
     "output_type": "stream",
     "text": [
      "Saving TensorBoard log files to: transfer_learning/10_percent_feature_extraction/20220616-203928\n",
      "Epoch 1/5\n",
      "24/24 [==============================] - 15s 184ms/step - loss: 1.8267 - accuracy: 0.4600 - val_loss: 1.2925 - val_accuracy: 0.7303\n",
      "Epoch 2/5\n",
      "24/24 [==============================] - 3s 107ms/step - loss: 1.0698 - accuracy: 0.7653 - val_loss: 0.8872 - val_accuracy: 0.8207\n",
      "Epoch 3/5\n",
      "24/24 [==============================] - 3s 107ms/step - loss: 0.7610 - accuracy: 0.8307 - val_loss: 0.7097 - val_accuracy: 0.8405\n",
      "Epoch 4/5\n",
      "24/24 [==============================] - 3s 107ms/step - loss: 0.6310 - accuracy: 0.8547 - val_loss: 0.6397 - val_accuracy: 0.8438\n",
      "Epoch 5/5\n",
      "24/24 [==============================] - 3s 107ms/step - loss: 0.5344 - accuracy: 0.8813 - val_loss: 0.5869 - val_accuracy: 0.8536\n"
     ]
    }
   ],
   "source": [
    "# Fit the model\n",
    "history_0 = model_0.fit(\n",
    "    train_data_10_precent,\n",
    "    epochs=5,\n",
    "    steps_per_epoch=len(train_data_10_precent),\n",
    "    validation_data=test_data,\n",
    "    validation_steps=int(0.25 * len(test_data)),\n",
    "    callbacks=[create_tensorboard_callback(dir_name=\"transfer_learning\", \n",
    "                                           experiment_name=\"10_percent_feature_extraction\")]\n",
    ")"
   ]
  },
  {
   "cell_type": "code",
   "execution_count": 11,
   "metadata": {
    "colab": {
     "base_uri": "https://localhost:8080/"
    },
    "id": "Pjiorvv9P3ZC",
    "outputId": "9d668652-775b-45db-d84e-c1c986cd2ab9",
    "pycharm": {
     "name": "#%%\n"
    }
   },
   "outputs": [
    {
     "name": "stdout",
     "output_type": "stream",
     "text": [
      "Model: \"model\"\n",
      "_________________________________________________________________\n",
      " Layer (type)                Output Shape              Param #   \n",
      "=================================================================\n",
      " input_layer (InputLayer)    [(None, 224, 224, 3)]     0         \n",
      "                                                                 \n",
      " efficientnetb0 (Functional)  (None, None, None, 1280)  4049571  \n",
      "                                                                 \n",
      " global_average_pooling_laye  (None, 1280)             0         \n",
      " r (GlobalAveragePooling2D)                                      \n",
      "                                                                 \n",
      " output_layer (Dense)        (None, 10)                12810     \n",
      "                                                                 \n",
      "=================================================================\n",
      "Total params: 4,062,381\n",
      "Trainable params: 12,810\n",
      "Non-trainable params: 4,049,571\n",
      "_________________________________________________________________\n"
     ]
    }
   ],
   "source": [
    "model_0.summary()"
   ]
  },
  {
   "cell_type": "code",
   "execution_count": 12,
   "metadata": {
    "colab": {
     "base_uri": "https://localhost:8080/",
     "height": 573
    },
    "id": "3PtYSaIvQkcJ",
    "outputId": "0c28c382-691b-44de-870d-990ea080d848",
    "pycharm": {
     "name": "#%%\n"
    }
   },
   "outputs": [
    {
     "data": {
      "image/png": "[encoded data removed]",
      "text/plain": [
       "<Figure size 432x288 with 1 Axes>"
      ]
     },
     "metadata": {
      "needs_background": "light"
     },
     "output_type": "display_data"
    },
    {
     "data": {
      "image/png": "[encoded data removed]",
      "text/plain": [
       "<Figure size 432x288 with 1 Axes>"
      ]
     },
     "metadata": {
      "needs_background": "light"
     },
     "output_type": "display_data"
    }
   ],
   "source": [
    "plot_loss_curves(history_0)"
   ]
  },
  {
   "cell_type": "code",
   "execution_count": 14,
   "metadata": {
    "colab": {
     "base_uri": "https://localhost:8080/"
    },
    "id": "riqmXTccQudg",
    "outputId": "aade38de-228f-4522-bfb7-94bf073251fe",
    "pycharm": {
     "name": "#%%\n"
    }
   },
   "outputs": [
    {
     "name": "stdout",
     "output_type": "stream",
     "text": [
      "79/79 [==============================] - 5s 57ms/step - loss: 0.5606 - accuracy: 0.8588\n"
     ]
    },
    {
     "data": {
      "text/plain": [
       "[0.5605648756027222, 0.8587999939918518]"
      ]
     },
     "execution_count": 14,
     "metadata": {},
     "output_type": "execute_result"
    }
   ],
   "source": [
    "model_0.evaluate(test_data)"
   ]
  },
  {
   "cell_type": "code",
   "execution_count": 15,
   "metadata": {
    "colab": {
     "base_uri": "https://localhost:8080/"
    },
    "id": "Y-T1AKxiQz2g",
    "outputId": "7cbdeae7-2ea3-402e-8c51-f954040a32ca",
    "pycharm": {
     "name": "#%%\n"
    }
   },
   "outputs": [
    {
     "name": "stdout",
     "output_type": "stream",
     "text": [
      "Model: \"efficientnetb0\"\n",
      "__________________________________________________________________________________________________\n",
      " Layer (type)                   Output Shape         Param #     Connected to                     \n",
      "==================================================================================================\n",
      " input_1 (InputLayer)           [(None, None, None,  0           []                               \n",
      "                                 3)]                                                              \n",
      "                                                                                                  \n",
      " rescaling (Rescaling)          (None, None, None,   0           ['input_1[0][0]']                \n",
      "                                3)                                                                \n",
      "                                                                                                  \n",
      " normalization (Normalization)  (None, None, None,   7           ['rescaling[0][0]']              \n",
      "                                3)                                                                \n",
      "                                                                                                  \n",
      " tf.math.truediv (TFOpLambda)   (None, None, None,   0           ['normalization[0][0]']          \n",
      "                                3)                                                                \n",
      "                                                                                                  \n",
      " stem_conv_pad (ZeroPadding2D)  (None, None, None,   0           ['tf.math.truediv[0][0]']        \n",
      "                                3)                                                                \n",
      "                                                                                                  \n",
      " stem_conv (Conv2D)             (None, None, None,   864         ['stem_conv_pad[0][0]']          \n",
      "                                32)                                                               \n",
      "                                                                                                  \n",
      " stem_bn (BatchNormalization)   (None, None, None,   128         ['stem_conv[0][0]']              \n",
      "                                32)                                                               \n",
      "                                                                                                  \n",
      " stem_activation (Activation)   (None, None, None,   0           ['stem_bn[0][0]']                \n",
      "                                32)                                                               \n",
      "                                                                                                  \n",
      " block1a_dwconv (DepthwiseConv2  (None, None, None,   288        ['stem_activation[0][0]']        \n",
      " D)                             32)                                                               \n",
      "                                                                                                  \n",
      " block1a_bn (BatchNormalization  (None, None, None,   128        ['block1a_dwconv[0][0]']         \n",
      " )                              32)                                                               \n",
      "                                                                                                  \n",
      " block1a_activation (Activation  (None, None, None,   0          ['block1a_bn[0][0]']             \n",
      " )                              32)                                                               \n",
      "                                                                                                  \n",
      " block1a_se_squeeze (GlobalAver  (None, 32)          0           ['block1a_activation[0][0]']     \n",
      " agePooling2D)                                                                                    \n",
      "                                                                                                  \n",
      " block1a_se_reshape (Reshape)   (None, 1, 1, 32)     0           ['block1a_se_squeeze[0][0]']     \n",
      "                                                                                                  \n",
      " block1a_se_reduce (Conv2D)     (None, 1, 1, 8)      264         ['block1a_se_reshape[0][0]']     \n",
      "                                                                                                  \n",
      " block1a_se_expand (Conv2D)     (None, 1, 1, 32)     288         ['block1a_se_reduce[0][0]']      \n",
      "                                                                                                  \n",
      " block1a_se_excite (Multiply)   (None, None, None,   0           ['block1a_activation[0][0]',     \n",
      "                                32)                               'block1a_se_expand[0][0]']      \n",
      "                                                                                                  \n",
      " block1a_project_conv (Conv2D)  (None, None, None,   512         ['block1a_se_excite[0][0]']      \n",
      "                                16)                                                               \n",
      "                                                                                                  \n",
      " block1a_project_bn (BatchNorma  (None, None, None,   64         ['block1a_project_conv[0][0]']   \n",
      " lization)                      16)                                                               \n",
      "                                                                                                  \n",
      " block2a_expand_conv (Conv2D)   (None, None, None,   1536        ['block1a_project_bn[0][0]']     \n",
      "                                96)                                                               \n",
      "                                                                                                  \n",
      " block2a_expand_bn (BatchNormal  (None, None, None,   384        ['block2a_expand_conv[0][0]']    \n",
      " ization)                       96)                                                               \n",
      "                                                                                                  \n",
      " block2a_expand_activation (Act  (None, None, None,   0          ['block2a_expand_bn[0][0]']      \n",
      " ivation)                       96)                                                               \n",
      "                                                                                                  \n",
      " block2a_dwconv_pad (ZeroPaddin  (None, None, None,   0          ['block2a_expand_activation[0][0]\n",
      " g2D)                           96)                              ']                               \n",
      "                                                                                                  \n",
      " block2a_dwconv (DepthwiseConv2  (None, None, None,   864        ['block2a_dwconv_pad[0][0]']     \n",
      " D)                             96)                                                               \n",
      "                                                                                                  \n",
      " block2a_bn (BatchNormalization  (None, None, None,   384        ['block2a_dwconv[0][0]']         \n",
      " )                              96)                                                               \n",
      "                                                                                                  \n",
      " block2a_activation (Activation  (None, None, None,   0          ['block2a_bn[0][0]']             \n",
      " )                              96)                                                               \n",
      "                                                                                                  \n",
      " block2a_se_squeeze (GlobalAver  (None, 96)          0           ['block2a_activation[0][0]']     \n",
      " agePooling2D)                                                                                    \n",
      "                                                                                                  \n",
      " block2a_se_reshape (Reshape)   (None, 1, 1, 96)     0           ['block2a_se_squeeze[0][0]']     \n",
      "                                                                                                  \n",
      " block2a_se_reduce (Conv2D)     (None, 1, 1, 4)      388         ['block2a_se_reshape[0][0]']     \n",
      "                                                                                                  \n",
      " block2a_se_expand (Conv2D)     (None, 1, 1, 96)     480         ['block2a_se_reduce[0][0]']      \n",
      "                                                                                                  \n",
      " block2a_se_excite (Multiply)   (None, None, None,   0           ['block2a_activation[0][0]',     \n",
      "                                96)                               'block2a_se_expand[0][0]']      \n",
      "                                                                                                  \n",
      " block2a_project_conv (Conv2D)  (None, None, None,   2304        ['block2a_se_excite[0][0]']      \n",
      "                                24)                                                               \n",
      "                                                                                                  \n",
      " block2a_project_bn (BatchNorma  (None, None, None,   96         ['block2a_project_conv[0][0]']   \n",
      " lization)                      24)                                                               \n",
      "                                                                                                  \n",
      " block2b_expand_conv (Conv2D)   (None, None, None,   3456        ['block2a_project_bn[0][0]']     \n",
      "                                144)                                                              \n",
      "                                                                                                  \n",
      " block2b_expand_bn (BatchNormal  (None, None, None,   576        ['block2b_expand_conv[0][0]']    \n",
      " ization)                       144)                                                              \n",
      "                                                                                                  \n",
      " block2b_expand_activation (Act  (None, None, None,   0          ['block2b_expand_bn[0][0]']      \n",
      " ivation)                       144)                                                              \n",
      "                                                                                                  \n",
      " block2b_dwconv (DepthwiseConv2  (None, None, None,   1296       ['block2b_expand_activation[0][0]\n",
      " D)                             144)                             ']                               \n",
      "                                                                                                  \n",
      " block2b_bn (BatchNormalization  (None, None, None,   576        ['block2b_dwconv[0][0]']         \n",
      " )                              144)                                                              \n",
      "                                                                                                  \n",
      " block2b_activation (Activation  (None, None, None,   0          ['block2b_bn[0][0]']             \n",
      " )                              144)                                                              \n",
      "                                                                                                  \n",
      " block2b_se_squeeze (GlobalAver  (None, 144)         0           ['block2b_activation[0][0]']     \n",
      " agePooling2D)                                                                                    \n",
      "                                                                                                  \n",
      " block2b_se_reshape (Reshape)   (None, 1, 1, 144)    0           ['block2b_se_squeeze[0][0]']     \n",
      "                                                                                                  \n",
      " block2b_se_reduce (Conv2D)     (None, 1, 1, 6)      870         ['block2b_se_reshape[0][0]']     \n",
      "                                                                                                  \n",
      " block2b_se_expand (Conv2D)     (None, 1, 1, 144)    1008        ['block2b_se_reduce[0][0]']      \n",
      "                                                                                                  \n",
      " block2b_se_excite (Multiply)   (None, None, None,   0           ['block2b_activation[0][0]',     \n",
      "                                144)                              'block2b_se_expand[0][0]']      \n",
      "                                                                                                  \n",
      " block2b_project_conv (Conv2D)  (None, None, None,   3456        ['block2b_se_excite[0][0]']      \n",
      "                                24)                                                               \n",
      "                                                                                                  \n",
      " block2b_project_bn (BatchNorma  (None, None, None,   96         ['block2b_project_conv[0][0]']   \n",
      " lization)                      24)                                                               \n",
      "                                                                                                  \n",
      " block2b_drop (Dropout)         (None, None, None,   0           ['block2b_project_bn[0][0]']     \n",
      "                                24)                                                               \n",
      "                                                                                                  \n",
      " block2b_add (Add)              (None, None, None,   0           ['block2b_drop[0][0]',           \n",
      "                                24)                               'block2a_project_bn[0][0]']     \n",
      "                                                                                                  \n",
      " block3a_expand_conv (Conv2D)   (None, None, None,   3456        ['block2b_add[0][0]']            \n",
      "                                144)                                                              \n",
      "                                                                                                  \n",
      " block3a_expand_bn (BatchNormal  (None, None, None,   576        ['block3a_expand_conv[0][0]']    \n",
      " ization)                       144)                                                              \n",
      "                                                                                                  \n",
      " block3a_expand_activation (Act  (None, None, None,   0          ['block3a_expand_bn[0][0]']      \n",
      " ivation)                       144)                                                              \n",
      "                                                                                                  \n",
      " block3a_dwconv_pad (ZeroPaddin  (None, None, None,   0          ['block3a_expand_activation[0][0]\n",
      " g2D)                           144)                             ']                               \n",
      "                                                                                                  \n",
      " block3a_dwconv (DepthwiseConv2  (None, None, None,   3600       ['block3a_dwconv_pad[0][0]']     \n",
      " D)                             144)                                                              \n",
      "                                                                                                  \n",
      " block3a_bn (BatchNormalization  (None, None, None,   576        ['block3a_dwconv[0][0]']         \n",
      " )                              144)                                                              \n",
      "                                                                                                  \n",
      " block3a_activation (Activation  (None, None, None,   0          ['block3a_bn[0][0]']             \n",
      " )                              144)                                                              \n",
      "                                                                                                  \n",
      " block3a_se_squeeze (GlobalAver  (None, 144)         0           ['block3a_activation[0][0]']     \n",
      " agePooling2D)                                                                                    \n",
      "                                                                                                  \n",
      " block3a_se_reshape (Reshape)   (None, 1, 1, 144)    0           ['block3a_se_squeeze[0][0]']     \n",
      "                                                                                                  \n",
      " block3a_se_reduce (Conv2D)     (None, 1, 1, 6)      870         ['block3a_se_reshape[0][0]']     \n",
      "                                                                                                  \n",
      " block3a_se_expand (Conv2D)     (None, 1, 1, 144)    1008        ['block3a_se_reduce[0][0]']      \n",
      "                                                                                                  \n",
      " block3a_se_excite (Multiply)   (None, None, None,   0           ['block3a_activation[0][0]',     \n",
      "                                144)                              'block3a_se_expand[0][0]']      \n",
      "                                                                                                  \n",
      " block3a_project_conv (Conv2D)  (None, None, None,   5760        ['block3a_se_excite[0][0]']      \n",
      "                                40)                                                               \n",
      "                                                                                                  \n",
      " block3a_project_bn (BatchNorma  (None, None, None,   160        ['block3a_project_conv[0][0]']   \n",
      " lization)                      40)                                                               \n",
      "                                                                                                  \n",
      " block3b_expand_conv (Conv2D)   (None, None, None,   9600        ['block3a_project_bn[0][0]']     \n",
      "                                240)                                                              \n",
      "                                                                                                  \n",
      " block3b_expand_bn (BatchNormal  (None, None, None,   960        ['block3b_expand_conv[0][0]']    \n",
      " ization)                       240)                                                              \n",
      "                                                                                                  \n",
      " block3b_expand_activation (Act  (None, None, None,   0          ['block3b_expand_bn[0][0]']      \n",
      " ivation)                       240)                                                              \n",
      "                                                                                                  \n",
      " block3b_dwconv (DepthwiseConv2  (None, None, None,   6000       ['block3b_expand_activation[0][0]\n",
      " D)                             240)                             ']                               \n",
      "                                                                                                  \n",
      " block3b_bn (BatchNormalization  (None, None, None,   960        ['block3b_dwconv[0][0]']         \n",
      " )                              240)                                                              \n",
      "                                                                                                  \n",
      " block3b_activation (Activation  (None, None, None,   0          ['block3b_bn[0][0]']             \n",
      " )                              240)                                                              \n",
      "                                                                                                  \n",
      " block3b_se_squeeze (GlobalAver  (None, 240)         0           ['block3b_activation[0][0]']     \n",
      " agePooling2D)                                                                                    \n",
      "                                                                                                  \n",
      " block3b_se_reshape (Reshape)   (None, 1, 1, 240)    0           ['block3b_se_squeeze[0][0]']     \n",
      "                                                                                                  \n",
      " block3b_se_reduce (Conv2D)     (None, 1, 1, 10)     2410        ['block3b_se_reshape[0][0]']     \n",
      "                                                                                                  \n",
      " block3b_se_expand (Conv2D)     (None, 1, 1, 240)    2640        ['block3b_se_reduce[0][0]']      \n",
      "                                                                                                  \n",
      " block3b_se_excite (Multiply)   (None, None, None,   0           ['block3b_activation[0][0]',     \n",
      "                                240)                              'block3b_se_expand[0][0]']      \n",
      "                                                                                                  \n",
      " block3b_project_conv (Conv2D)  (None, None, None,   9600        ['block3b_se_excite[0][0]']      \n",
      "                                40)                                                               \n",
      "                                                                                                  \n",
      " block3b_project_bn (BatchNorma  (None, None, None,   160        ['block3b_project_conv[0][0]']   \n",
      " lization)                      40)                                                               \n",
      "                                                                                                  \n",
      " block3b_drop (Dropout)         (None, None, None,   0           ['block3b_project_bn[0][0]']     \n",
      "                                40)                                                               \n",
      "                                                                                                  \n",
      " block3b_add (Add)              (None, None, None,   0           ['block3b_drop[0][0]',           \n",
      "                                40)                               'block3a_project_bn[0][0]']     \n",
      "                                                                                                  \n",
      " block4a_expand_conv (Conv2D)   (None, None, None,   9600        ['block3b_add[0][0]']            \n",
      "                                240)                                                              \n",
      "                                                                                                  \n",
      " block4a_expand_bn (BatchNormal  (None, None, None,   960        ['block4a_expand_conv[0][0]']    \n",
      " ization)                       240)                                                              \n",
      "                                                                                                  \n",
      " block4a_expand_activation (Act  (None, None, None,   0          ['block4a_expand_bn[0][0]']      \n",
      " ivation)                       240)                                                              \n",
      "                                                                                                  \n",
      " block4a_dwconv_pad (ZeroPaddin  (None, None, None,   0          ['block4a_expand_activation[0][0]\n",
      " g2D)                           240)                             ']                               \n",
      "                                                                                                  \n",
      " block4a_dwconv (DepthwiseConv2  (None, None, None,   2160       ['block4a_dwconv_pad[0][0]']     \n",
      " D)                             240)                                                              \n",
      "                                                                                                  \n",
      " block4a_bn (BatchNormalization  (None, None, None,   960        ['block4a_dwconv[0][0]']         \n",
      " )                              240)                                                              \n",
      "                                                                                                  \n",
      " block4a_activation (Activation  (None, None, None,   0          ['block4a_bn[0][0]']             \n",
      " )                              240)                                                              \n",
      "                                                                                                  \n",
      " block4a_se_squeeze (GlobalAver  (None, 240)         0           ['block4a_activation[0][0]']     \n",
      " agePooling2D)                                                                                    \n",
      "                                                                                                  \n",
      " block4a_se_reshape (Reshape)   (None, 1, 1, 240)    0           ['block4a_se_squeeze[0][0]']     \n",
      "                                                                                                  \n",
      " block4a_se_reduce (Conv2D)     (None, 1, 1, 10)     2410        ['block4a_se_reshape[0][0]']     \n",
      "                                                                                                  \n",
      " block4a_se_expand (Conv2D)     (None, 1, 1, 240)    2640        ['block4a_se_reduce[0][0]']      \n",
      "                                                                                                  \n",
      " block4a_se_excite (Multiply)   (None, None, None,   0           ['block4a_activation[0][0]',     \n",
      "                                240)                              'block4a_se_expand[0][0]']      \n",
      "                                                                                                  \n",
      " block4a_project_conv (Conv2D)  (None, None, None,   19200       ['block4a_se_excite[0][0]']      \n",
      "                                80)                                                               \n",
      "                                                                                                  \n",
      " block4a_project_bn (BatchNorma  (None, None, None,   320        ['block4a_project_conv[0][0]']   \n",
      " lization)                      80)                                                               \n",
      "                                                                                                  \n",
      " block4b_expand_conv (Conv2D)   (None, None, None,   38400       ['block4a_project_bn[0][0]']     \n",
      "                                480)                                                              \n",
      "                                                                                                  \n",
      " block4b_expand_bn (BatchNormal  (None, None, None,   1920       ['block4b_expand_conv[0][0]']    \n",
      " ization)                       480)                                                              \n",
      "                                                                                                  \n",
      " block4b_expand_activation (Act  (None, None, None,   0          ['block4b_expand_bn[0][0]']      \n",
      " ivation)                       480)                                                              \n",
      "                                                                                                  \n",
      " block4b_dwconv (DepthwiseConv2  (None, None, None,   4320       ['block4b_expand_activation[0][0]\n",
      " D)                             480)                             ']                               \n",
      "                                                                                                  \n",
      " block4b_bn (BatchNormalization  (None, None, None,   1920       ['block4b_dwconv[0][0]']         \n",
      " )                              480)                                                              \n",
      "                                                                                                  \n",
      " block4b_activation (Activation  (None, None, None,   0          ['block4b_bn[0][0]']             \n",
      " )                              480)                                                              \n",
      "                                                                                                  \n",
      " block4b_se_squeeze (GlobalAver  (None, 480)         0           ['block4b_activation[0][0]']     \n",
      " agePooling2D)                                                                                    \n",
      "                                                                                                  \n",
      " block4b_se_reshape (Reshape)   (None, 1, 1, 480)    0           ['block4b_se_squeeze[0][0]']     \n",
      "                                                                                                  \n",
      " block4b_se_reduce (Conv2D)     (None, 1, 1, 20)     9620        ['block4b_se_reshape[0][0]']     \n",
      "                                                                                                  \n",
      " block4b_se_expand (Conv2D)     (None, 1, 1, 480)    10080       ['block4b_se_reduce[0][0]']      \n",
      "                                                                                                  \n",
      " block4b_se_excite (Multiply)   (None, None, None,   0           ['block4b_activation[0][0]',     \n",
      "                                480)                              'block4b_se_expand[0][0]']      \n",
      "                                                                                                  \n",
      " block4b_project_conv (Conv2D)  (None, None, None,   38400       ['block4b_se_excite[0][0]']      \n",
      "                                80)                                                               \n",
      "                                                                                                  \n",
      " block4b_project_bn (BatchNorma  (None, None, None,   320        ['block4b_project_conv[0][0]']   \n",
      " lization)                      80)                                                               \n",
      "                                                                                                  \n",
      " block4b_drop (Dropout)         (None, None, None,   0           ['block4b_project_bn[0][0]']     \n",
      "                                80)                                                               \n",
      "                                                                                                  \n",
      " block4b_add (Add)              (None, None, None,   0           ['block4b_drop[0][0]',           \n",
      "                                80)                               'block4a_project_bn[0][0]']     \n",
      "                                                                                                  \n",
      " block4c_expand_conv (Conv2D)   (None, None, None,   38400       ['block4b_add[0][0]']            \n",
      "                                480)                                                              \n",
      "                                                                                                  \n",
      " block4c_expand_bn (BatchNormal  (None, None, None,   1920       ['block4c_expand_conv[0][0]']    \n",
      " ization)                       480)                                                              \n",
      "                                                                                                  \n",
      " block4c_expand_activation (Act  (None, None, None,   0          ['block4c_expand_bn[0][0]']      \n",
      " ivation)                       480)                                                              \n",
      "                                                                                                  \n",
      " block4c_dwconv (DepthwiseConv2  (None, None, None,   4320       ['block4c_expand_activation[0][0]\n",
      " D)                             480)                             ']                               \n",
      "                                                                                                  \n",
      " block4c_bn (BatchNormalization  (None, None, None,   1920       ['block4c_dwconv[0][0]']         \n",
      " )                              480)                                                              \n",
      "                                                                                                  \n",
      " block4c_activation (Activation  (None, None, None,   0          ['block4c_bn[0][0]']             \n",
      " )                              480)                                                              \n",
      "                                                                                                  \n",
      " block4c_se_squeeze (GlobalAver  (None, 480)         0           ['block4c_activation[0][0]']     \n",
      " agePooling2D)                                                                                    \n",
      "                                                                                                  \n",
      " block4c_se_reshape (Reshape)   (None, 1, 1, 480)    0           ['block4c_se_squeeze[0][0]']     \n",
      "                                                                                                  \n",
      " block4c_se_reduce (Conv2D)     (None, 1, 1, 20)     9620        ['block4c_se_reshape[0][0]']     \n",
      "                                                                                                  \n",
      " block4c_se_expand (Conv2D)     (None, 1, 1, 480)    10080       ['block4c_se_reduce[0][0]']      \n",
      "                                                                                                  \n",
      " block4c_se_excite (Multiply)   (None, None, None,   0           ['block4c_activation[0][0]',     \n",
      "                                480)                              'block4c_se_expand[0][0]']      \n",
      "                                                                                                  \n",
      " block4c_project_conv (Conv2D)  (None, None, None,   38400       ['block4c_se_excite[0][0]']      \n",
      "                                80)                                                               \n",
      "                                                                                                  \n",
      " block4c_project_bn (BatchNorma  (None, None, None,   320        ['block4c_project_conv[0][0]']   \n",
      " lization)                      80)                                                               \n",
      "                                                                                                  \n",
      " block4c_drop (Dropout)         (None, None, None,   0           ['block4c_project_bn[0][0]']     \n",
      "                                80)                                                               \n",
      "                                                                                                  \n",
      " block4c_add (Add)              (None, None, None,   0           ['block4c_drop[0][0]',           \n",
      "                                80)                               'block4b_add[0][0]']            \n",
      "                                                                                                  \n",
      " block5a_expand_conv (Conv2D)   (None, None, None,   38400       ['block4c_add[0][0]']            \n",
      "                                480)                                                              \n",
      "                                                                                                  \n",
      " block5a_expand_bn (BatchNormal  (None, None, None,   1920       ['block5a_expand_conv[0][0]']    \n",
      " ization)                       480)                                                              \n",
      "                                                                                                  \n",
      " block5a_expand_activation (Act  (None, None, None,   0          ['block5a_expand_bn[0][0]']      \n",
      " ivation)                       480)                                                              \n",
      "                                                                                                  \n",
      " block5a_dwconv (DepthwiseConv2  (None, None, None,   12000      ['block5a_expand_activation[0][0]\n",
      " D)                             480)                             ']                               \n",
      "                                                                                                  \n",
      " block5a_bn (BatchNormalization  (None, None, None,   1920       ['block5a_dwconv[0][0]']         \n",
      " )                              480)                                                              \n",
      "                                                                                                  \n",
      " block5a_activation (Activation  (None, None, None,   0          ['block5a_bn[0][0]']             \n",
      " )                              480)                                                              \n",
      "                                                                                                  \n",
      " block5a_se_squeeze (GlobalAver  (None, 480)         0           ['block5a_activation[0][0]']     \n",
      " agePooling2D)                                                                                    \n",
      "                                                                                                  \n",
      " block5a_se_reshape (Reshape)   (None, 1, 1, 480)    0           ['block5a_se_squeeze[0][0]']     \n",
      "                                                                                                  \n",
      " block5a_se_reduce (Conv2D)     (None, 1, 1, 20)     9620        ['block5a_se_reshape[0][0]']     \n",
      "                                                                                                  \n",
      " block5a_se_expand (Conv2D)     (None, 1, 1, 480)    10080       ['block5a_se_reduce[0][0]']      \n",
      "                                                                                                  \n",
      " block5a_se_excite (Multiply)   (None, None, None,   0           ['block5a_activation[0][0]',     \n",
      "                                480)                              'block5a_se_expand[0][0]']      \n",
      "                                                                                                  \n",
      " block5a_project_conv (Conv2D)  (None, None, None,   53760       ['block5a_se_excite[0][0]']      \n",
      "                                112)                                                              \n",
      "                                                                                                  \n",
      " block5a_project_bn (BatchNorma  (None, None, None,   448        ['block5a_project_conv[0][0]']   \n",
      " lization)                      112)                                                              \n",
      "                                                                                                  \n",
      " block5b_expand_conv (Conv2D)   (None, None, None,   75264       ['block5a_project_bn[0][0]']     \n",
      "                                672)                                                              \n",
      "                                                                                                  \n",
      " block5b_expand_bn (BatchNormal  (None, None, None,   2688       ['block5b_expand_conv[0][0]']    \n",
      " ization)                       672)                                                              \n",
      "                                                                                                  \n",
      " block5b_expand_activation (Act  (None, None, None,   0          ['block5b_expand_bn[0][0]']      \n",
      " ivation)                       672)                                                              \n",
      "                                                                                                  \n",
      " block5b_dwconv (DepthwiseConv2  (None, None, None,   16800      ['block5b_expand_activation[0][0]\n",
      " D)                             672)                             ']                               \n",
      "                                                                                                  \n",
      " block5b_bn (BatchNormalization  (None, None, None,   2688       ['block5b_dwconv[0][0]']         \n",
      " )                              672)                                                              \n",
      "                                                                                                  \n",
      " block5b_activation (Activation  (None, None, None,   0          ['block5b_bn[0][0]']             \n",
      " )                              672)                                                              \n",
      "                                                                                                  \n",
      " block5b_se_squeeze (GlobalAver  (None, 672)         0           ['block5b_activation[0][0]']     \n",
      " agePooling2D)                                                                                    \n",
      "                                                                                                  \n",
      " block5b_se_reshape (Reshape)   (None, 1, 1, 672)    0           ['block5b_se_squeeze[0][0]']     \n",
      "                                                                                                  \n",
      " block5b_se_reduce (Conv2D)     (None, 1, 1, 28)     18844       ['block5b_se_reshape[0][0]']     \n",
      "                                                                                                  \n",
      " block5b_se_expand (Conv2D)     (None, 1, 1, 672)    19488       ['block5b_se_reduce[0][0]']      \n",
      "                                                                                                  \n",
      " block5b_se_excite (Multiply)   (None, None, None,   0           ['block5b_activation[0][0]',     \n",
      "                                672)                              'block5b_se_expand[0][0]']      \n",
      "                                                                                                  \n",
      " block5b_project_conv (Conv2D)  (None, None, None,   75264       ['block5b_se_excite[0][0]']      \n",
      "                                112)                                                              \n",
      "                                                                                                  \n",
      " block5b_project_bn (BatchNorma  (None, None, None,   448        ['block5b_project_conv[0][0]']   \n",
      " lization)                      112)                                                              \n",
      "                                                                                                  \n",
      " block5b_drop (Dropout)         (None, None, None,   0           ['block5b_project_bn[0][0]']     \n",
      "                                112)                                                              \n",
      "                                                                                                  \n",
      " block5b_add (Add)              (None, None, None,   0           ['block5b_drop[0][0]',           \n",
      "                                112)                              'block5a_project_bn[0][0]']     \n",
      "                                                                                                  \n",
      " block5c_expand_conv (Conv2D)   (None, None, None,   75264       ['block5b_add[0][0]']            \n",
      "                                672)                                                              \n",
      "                                                                                                  \n",
      " block5c_expand_bn (BatchNormal  (None, None, None,   2688       ['block5c_expand_conv[0][0]']    \n",
      " ization)                       672)                                                              \n",
      "                                                                                                  \n",
      " block5c_expand_activation (Act  (None, None, None,   0          ['block5c_expand_bn[0][0]']      \n",
      " ivation)                       672)                                                              \n",
      "                                                                                                  \n",
      " block5c_dwconv (DepthwiseConv2  (None, None, None,   16800      ['block5c_expand_activation[0][0]\n",
      " D)                             672)                             ']                               \n",
      "                                                                                                  \n",
      " block5c_bn (BatchNormalization  (None, None, None,   2688       ['block5c_dwconv[0][0]']         \n",
      " )                              672)                                                              \n",
      "                                                                                                  \n",
      " block5c_activation (Activation  (None, None, None,   0          ['block5c_bn[0][0]']             \n",
      " )                              672)                                                              \n",
      "                                                                                                  \n",
      " block5c_se_squeeze (GlobalAver  (None, 672)         0           ['block5c_activation[0][0]']     \n",
      " agePooling2D)                                                                                    \n",
      "                                                                                                  \n",
      " block5c_se_reshape (Reshape)   (None, 1, 1, 672)    0           ['block5c_se_squeeze[0][0]']     \n",
      "                                                                                                  \n",
      " block5c_se_reduce (Conv2D)     (None, 1, 1, 28)     18844       ['block5c_se_reshape[0][0]']     \n",
      "                                                                                                  \n",
      " block5c_se_expand (Conv2D)     (None, 1, 1, 672)    19488       ['block5c_se_reduce[0][0]']      \n",
      "                                                                                                  \n",
      " block5c_se_excite (Multiply)   (None, None, None,   0           ['block5c_activation[0][0]',     \n",
      "                                672)                              'block5c_se_expand[0][0]']      \n",
      "                                                                                                  \n",
      " block5c_project_conv (Conv2D)  (None, None, None,   75264       ['block5c_se_excite[0][0]']      \n",
      "                                112)                                                              \n",
      "                                                                                                  \n",
      " block5c_project_bn (BatchNorma  (None, None, None,   448        ['block5c_project_conv[0][0]']   \n",
      " lization)                      112)                                                              \n",
      "                                                                                                  \n",
      " block5c_drop (Dropout)         (None, None, None,   0           ['block5c_project_bn[0][0]']     \n",
      "                                112)                                                              \n",
      "                                                                                                  \n",
      " block5c_add (Add)              (None, None, None,   0           ['block5c_drop[0][0]',           \n",
      "                                112)                              'block5b_add[0][0]']            \n",
      "                                                                                                  \n",
      " block6a_expand_conv (Conv2D)   (None, None, None,   75264       ['block5c_add[0][0]']            \n",
      "                                672)                                                              \n",
      "                                                                                                  \n",
      " block6a_expand_bn (BatchNormal  (None, None, None,   2688       ['block6a_expand_conv[0][0]']    \n",
      " ization)                       672)                                                              \n",
      "                                                                                                  \n",
      " block6a_expand_activation (Act  (None, None, None,   0          ['block6a_expand_bn[0][0]']      \n",
      " ivation)                       672)                                                              \n",
      "                                                                                                  \n",
      " block6a_dwconv_pad (ZeroPaddin  (None, None, None,   0          ['block6a_expand_activation[0][0]\n",
      " g2D)                           672)                             ']                               \n",
      "                                                                                                  \n",
      " block6a_dwconv (DepthwiseConv2  (None, None, None,   16800      ['block6a_dwconv_pad[0][0]']     \n",
      " D)                             672)                                                              \n",
      "                                                                                                  \n",
      " block6a_bn (BatchNormalization  (None, None, None,   2688       ['block6a_dwconv[0][0]']         \n",
      " )                              672)                                                              \n",
      "                                                                                                  \n",
      " block6a_activation (Activation  (None, None, None,   0          ['block6a_bn[0][0]']             \n",
      " )                              672)                                                              \n",
      "                                                                                                  \n",
      " block6a_se_squeeze (GlobalAver  (None, 672)         0           ['block6a_activation[0][0]']     \n",
      " agePooling2D)                                                                                    \n",
      "                                                                                                  \n",
      " block6a_se_reshape (Reshape)   (None, 1, 1, 672)    0           ['block6a_se_squeeze[0][0]']     \n",
      "                                                                                                  \n",
      " block6a_se_reduce (Conv2D)     (None, 1, 1, 28)     18844       ['block6a_se_reshape[0][0]']     \n",
      "                                                                                                  \n",
      " block6a_se_expand (Conv2D)     (None, 1, 1, 672)    19488       ['block6a_se_reduce[0][0]']      \n",
      "                                                                                                  \n",
      " block6a_se_excite (Multiply)   (None, None, None,   0           ['block6a_activation[0][0]',     \n",
      "                                672)                              'block6a_se_expand[0][0]']      \n",
      "                                                                                                  \n",
      " block6a_project_conv (Conv2D)  (None, None, None,   129024      ['block6a_se_excite[0][0]']      \n",
      "                                192)                                                              \n",
      "                                                                                                  \n",
      " block6a_project_bn (BatchNorma  (None, None, None,   768        ['block6a_project_conv[0][0]']   \n",
      " lization)                      192)                                                              \n",
      "                                                                                                  \n",
      " block6b_expand_conv (Conv2D)   (None, None, None,   221184      ['block6a_project_bn[0][0]']     \n",
      "                                1152)                                                             \n",
      "                                                                                                  \n",
      " block6b_expand_bn (BatchNormal  (None, None, None,   4608       ['block6b_expand_conv[0][0]']    \n",
      " ization)                       1152)                                                             \n",
      "                                                                                                  \n",
      " block6b_expand_activation (Act  (None, None, None,   0          ['block6b_expand_bn[0][0]']      \n",
      " ivation)                       1152)                                                             \n",
      "                                                                                                  \n",
      " block6b_dwconv (DepthwiseConv2  (None, None, None,   28800      ['block6b_expand_activation[0][0]\n",
      " D)                             1152)                            ']                               \n",
      "                                                                                                  \n",
      " block6b_bn (BatchNormalization  (None, None, None,   4608       ['block6b_dwconv[0][0]']         \n",
      " )                              1152)                                                             \n",
      "                                                                                                  \n",
      " block6b_activation (Activation  (None, None, None,   0          ['block6b_bn[0][0]']             \n",
      " )                              1152)                                                             \n",
      "                                                                                                  \n",
      " block6b_se_squeeze (GlobalAver  (None, 1152)        0           ['block6b_activation[0][0]']     \n",
      " agePooling2D)                                                                                    \n",
      "                                                                                                  \n",
      " block6b_se_reshape (Reshape)   (None, 1, 1, 1152)   0           ['block6b_se_squeeze[0][0]']     \n",
      "                                                                                                  \n",
      " block6b_se_reduce (Conv2D)     (None, 1, 1, 48)     55344       ['block6b_se_reshape[0][0]']     \n",
      "                                                                                                  \n",
      " block6b_se_expand (Conv2D)     (None, 1, 1, 1152)   56448       ['block6b_se_reduce[0][0]']      \n",
      "                                                                                                  \n",
      " block6b_se_excite (Multiply)   (None, None, None,   0           ['block6b_activation[0][0]',     \n",
      "                                1152)                             'block6b_se_expand[0][0]']      \n",
      "                                                                                                  \n",
      " block6b_project_conv (Conv2D)  (None, None, None,   221184      ['block6b_se_excite[0][0]']      \n",
      "                                192)                                                              \n",
      "                                                                                                  \n",
      " block6b_project_bn (BatchNorma  (None, None, None,   768        ['block6b_project_conv[0][0]']   \n",
      " lization)                      192)                                                              \n",
      "                                                                                                  \n",
      " block6b_drop (Dropout)         (None, None, None,   0           ['block6b_project_bn[0][0]']     \n",
      "                                192)                                                              \n",
      "                                                                                                  \n",
      " block6b_add (Add)              (None, None, None,   0           ['block6b_drop[0][0]',           \n",
      "                                192)                              'block6a_project_bn[0][0]']     \n",
      "                                                                                                  \n",
      " block6c_expand_conv (Conv2D)   (None, None, None,   221184      ['block6b_add[0][0]']            \n",
      "                                1152)                                                             \n",
      "                                                                                                  \n",
      " block6c_expand_bn (BatchNormal  (None, None, None,   4608       ['block6c_expand_conv[0][0]']    \n",
      " ization)                       1152)                                                             \n",
      "                                                                                                  \n",
      " block6c_expand_activation (Act  (None, None, None,   0          ['block6c_expand_bn[0][0]']      \n",
      " ivation)                       1152)                                                             \n",
      "                                                                                                  \n",
      " block6c_dwconv (DepthwiseConv2  (None, None, None,   28800      ['block6c_expand_activation[0][0]\n",
      " D)                             1152)                            ']                               \n",
      "                                                                                                  \n",
      " block6c_bn (BatchNormalization  (None, None, None,   4608       ['block6c_dwconv[0][0]']         \n",
      " )                              1152)                                                             \n",
      "                                                                                                  \n",
      " block6c_activation (Activation  (None, None, None,   0          ['block6c_bn[0][0]']             \n",
      " )                              1152)                                                             \n",
      "                                                                                                  \n",
      " block6c_se_squeeze (GlobalAver  (None, 1152)        0           ['block6c_activation[0][0]']     \n",
      " agePooling2D)                                                                                    \n",
      "                                                                                                  \n",
      " block6c_se_reshape (Reshape)   (None, 1, 1, 1152)   0           ['block6c_se_squeeze[0][0]']     \n",
      "                                                                                                  \n",
      " block6c_se_reduce (Conv2D)     (None, 1, 1, 48)     55344       ['block6c_se_reshape[0][0]']     \n",
      "                                                                                                  \n",
      " block6c_se_expand (Conv2D)     (None, 1, 1, 1152)   56448       ['block6c_se_reduce[0][0]']      \n",
      "                                                                                                  \n",
      " block6c_se_excite (Multiply)   (None, None, None,   0           ['block6c_activation[0][0]',     \n",
      "                                1152)                             'block6c_se_expand[0][0]']      \n",
      "                                                                                                  \n",
      " block6c_project_conv (Conv2D)  (None, None, None,   221184      ['block6c_se_excite[0][0]']      \n",
      "                                192)                                                              \n",
      "                                                                                                  \n",
      " block6c_project_bn (BatchNorma  (None, None, None,   768        ['block6c_project_conv[0][0]']   \n",
      " lization)                      192)                                                              \n",
      "                                                                                                  \n",
      " block6c_drop (Dropout)         (None, None, None,   0           ['block6c_project_bn[0][0]']     \n",
      "                                192)                                                              \n",
      "                                                                                                  \n",
      " block6c_add (Add)              (None, None, None,   0           ['block6c_drop[0][0]',           \n",
      "                                192)                              'block6b_add[0][0]']            \n",
      "                                                                                                  \n",
      " block6d_expand_conv (Conv2D)   (None, None, None,   221184      ['block6c_add[0][0]']            \n",
      "                                1152)                                                             \n",
      "                                                                                                  \n",
      " block6d_expand_bn (BatchNormal  (None, None, None,   4608       ['block6d_expand_conv[0][0]']    \n",
      " ization)                       1152)                                                             \n",
      "                                                                                                  \n",
      " block6d_expand_activation (Act  (None, None, None,   0          ['block6d_expand_bn[0][0]']      \n",
      " ivation)                       1152)                                                             \n",
      "                                                                                                  \n",
      " block6d_dwconv (DepthwiseConv2  (None, None, None,   28800      ['block6d_expand_activation[0][0]\n",
      " D)                             1152)                            ']                               \n",
      "                                                                                                  \n",
      " block6d_bn (BatchNormalization  (None, None, None,   4608       ['block6d_dwconv[0][0]']         \n",
      " )                              1152)                                                             \n",
      "                                                                                                  \n",
      " block6d_activation (Activation  (None, None, None,   0          ['block6d_bn[0][0]']             \n",
      " )                              1152)                                                             \n",
      "                                                                                                  \n",
      " block6d_se_squeeze (GlobalAver  (None, 1152)        0           ['block6d_activation[0][0]']     \n",
      " agePooling2D)                                                                                    \n",
      "                                                                                                  \n",
      " block6d_se_reshape (Reshape)   (None, 1, 1, 1152)   0           ['block6d_se_squeeze[0][0]']     \n",
      "                                                                                                  \n",
      " block6d_se_reduce (Conv2D)     (None, 1, 1, 48)     55344       ['block6d_se_reshape[0][0]']     \n",
      "                                                                                                  \n",
      " block6d_se_expand (Conv2D)     (None, 1, 1, 1152)   56448       ['block6d_se_reduce[0][0]']      \n",
      "                                                                                                  \n",
      " block6d_se_excite (Multiply)   (None, None, None,   0           ['block6d_activation[0][0]',     \n",
      "                                1152)                             'block6d_se_expand[0][0]']      \n",
      "                                                                                                  \n",
      " block6d_project_conv (Conv2D)  (None, None, None,   221184      ['block6d_se_excite[0][0]']      \n",
      "                                192)                                                              \n",
      "                                                                                                  \n",
      " block6d_project_bn (BatchNorma  (None, None, None,   768        ['block6d_project_conv[0][0]']   \n",
      " lization)                      192)                                                              \n",
      "                                                                                                  \n",
      " block6d_drop (Dropout)         (None, None, None,   0           ['block6d_project_bn[0][0]']     \n",
      "                                192)                                                              \n",
      "                                                                                                  \n",
      " block6d_add (Add)              (None, None, None,   0           ['block6d_drop[0][0]',           \n",
      "                                192)                              'block6c_add[0][0]']            \n",
      "                                                                                                  \n",
      " block7a_expand_conv (Conv2D)   (None, None, None,   221184      ['block6d_add[0][0]']            \n",
      "                                1152)                                                             \n",
      "                                                                                                  \n",
      " block7a_expand_bn (BatchNormal  (None, None, None,   4608       ['block7a_expand_conv[0][0]']    \n",
      " ization)                       1152)                                                             \n",
      "                                                                                                  \n",
      " block7a_expand_activation (Act  (None, None, None,   0          ['block7a_expand_bn[0][0]']      \n",
      " ivation)                       1152)                                                             \n",
      "                                                                                                  \n",
      " block7a_dwconv (DepthwiseConv2  (None, None, None,   10368      ['block7a_expand_activation[0][0]\n",
      " D)                             1152)                            ']                               \n",
      "                                                                                                  \n",
      " block7a_bn (BatchNormalization  (None, None, None,   4608       ['block7a_dwconv[0][0]']         \n",
      " )                              1152)                                                             \n",
      "                                                                                                  \n",
      " block7a_activation (Activation  (None, None, None,   0          ['block7a_bn[0][0]']             \n",
      " )                              1152)                                                             \n",
      "                                                                                                  \n",
      " block7a_se_squeeze (GlobalAver  (None, 1152)        0           ['block7a_activation[0][0]']     \n",
      " agePooling2D)                                                                                    \n",
      "                                                                                                  \n",
      " block7a_se_reshape (Reshape)   (None, 1, 1, 1152)   0           ['block7a_se_squeeze[0][0]']     \n",
      "                                                                                                  \n",
      " block7a_se_reduce (Conv2D)     (None, 1, 1, 48)     55344       ['block7a_se_reshape[0][0]']     \n",
      "                                                                                                  \n",
      " block7a_se_expand (Conv2D)     (None, 1, 1, 1152)   56448       ['block7a_se_reduce[0][0]']      \n",
      "                                                                                                  \n",
      " block7a_se_excite (Multiply)   (None, None, None,   0           ['block7a_activation[0][0]',     \n",
      "                                1152)                             'block7a_se_expand[0][0]']      \n",
      "                                                                                                  \n",
      " block7a_project_conv (Conv2D)  (None, None, None,   368640      ['block7a_se_excite[0][0]']      \n",
      "                                320)                                                              \n",
      "                                                                                                  \n",
      " block7a_project_bn (BatchNorma  (None, None, None,   1280       ['block7a_project_conv[0][0]']   \n",
      " lization)                      320)                                                              \n",
      "                                                                                                  \n",
      " top_conv (Conv2D)              (None, None, None,   409600      ['block7a_project_bn[0][0]']     \n",
      "                                1280)                                                             \n",
      "                                                                                                  \n",
      " top_bn (BatchNormalization)    (None, None, None,   5120        ['top_conv[0][0]']               \n",
      "                                1280)                                                             \n",
      "                                                                                                  \n",
      " top_activation (Activation)    (None, None, None,   0           ['top_bn[0][0]']                 \n",
      "                                1280)                                                             \n",
      "                                                                                                  \n",
      "==================================================================================================\n",
      "Total params: 4,049,571\n",
      "Trainable params: 0\n",
      "Non-trainable params: 4,049,571\n",
      "__________________________________________________________________________________________________\n"
     ]
    }
   ],
   "source": [
    "base_model.summary()"
   ]
  },
  {
   "cell_type": "markdown",
   "metadata": {
    "id": "WNoa36_RRV9R",
    "pycharm": {
     "name": "#%% md\n"
    }
   },
   "source": [
    "## Getting a Feature Vector from trained model"
   ]
  },
  {
   "cell_type": "code",
   "execution_count": 17,
   "metadata": {
    "colab": {
     "base_uri": "https://localhost:8080/"
    },
    "id": "2nkmqeDyYm6s",
    "outputId": "7a5d6bd6-59fe-479d-ee79-198849b088c8",
    "pycharm": {
     "name": "#%%\n"
    }
   },
   "outputs": [
    {
     "name": "stdout",
     "output_type": "stream",
     "text": [
      "Random input tensor:\n",
      "[[[[ 0.3274685  -0.8426258   0.3194337 ]\n",
      "   [-1.4075519  -2.3880599  -1.0392479 ]\n",
      "   [-0.5573232   0.539707    1.6994323 ]\n",
      "   [ 0.28893656 -1.5066116  -0.2645474 ]]\n",
      "\n",
      "  [[-0.59722406 -1.9171132  -0.62044144]\n",
      "   [ 0.8504023  -0.40604794 -3.0258412 ]\n",
      "   [ 0.9058464   0.29855987 -0.22561555]\n",
      "   [-0.7616443  -1.8917141  -0.93847126]]\n",
      "\n",
      "  [[ 0.77852213 -0.47338897  0.97772694]\n",
      "   [ 0.24694404  0.20573747 -0.5256233 ]\n",
      "   [ 0.32410017  0.02545409 -0.10638497]\n",
      "   [-0.6369475   1.1603122   0.2507359 ]]\n",
      "\n",
      "  [[-0.41728503  0.4012578  -1.4145443 ]\n",
      "   [-0.5931857  -1.6617213   0.33567193]\n",
      "   [ 0.10815629  0.23479682 -0.56668764]\n",
      "   [-0.35819843  0.88698614  0.52744764]]]] \n",
      "\n",
      "2D global average pooled random tensor:\n",
      " [[-0.09368646 -0.45840448 -0.2885598 ]] \n",
      "\n",
      "Shape of input tensor: (1, 4, 4, 3)\n",
      "\n",
      "Shape of global average pooled random tensor: (1, 3)\n",
      "\n"
     ]
    }
   ],
   "source": [
    "# Define the input shape\n",
    "input_shape = (1,4,4,3)\n",
    "\n",
    "# Create a random tensor\n",
    "tf.random.set_seed(42)\n",
    "input_tensor = tf.random.normal(input_shape)\n",
    "print(f\"Random input tensor:\\n{input_tensor} \\n\")\n",
    "\n",
    "# Pass the random tensor through a global average pooling 2D layer\n",
    "global_average_pooled_tensor = tf.keras.layers.GlobalAveragePooling2D()(input_tensor)\n",
    "print(f\"2D global average pooled random tensor:\\n {global_average_pooled_tensor} \\n\")\n",
    "\n",
    "print(f\"Shape of input tensor: {input_tensor.shape}\\n\")\n",
    "print(f\"Shape of global average pooled random tensor: {global_average_pooled_tensor.shape}\\n\")"
   ]
  },
  {
   "cell_type": "code",
   "execution_count": 18,
   "metadata": {
    "colab": {
     "base_uri": "https://localhost:8080/"
    },
    "id": "sf2qi4-TZgOS",
    "outputId": "26025ffc-d02a-4017-e400-5feef8cdef5f",
    "pycharm": {
     "name": "#%%\n"
    }
   },
   "outputs": [
    {
     "data": {
      "text/plain": [
       "<tf.Tensor: shape=(1, 3), dtype=float32, numpy=array([[-0.09368646, -0.45840448, -0.2885598 ]], dtype=float32)>"
      ]
     },
     "execution_count": 18,
     "metadata": {},
     "output_type": "execute_result"
    }
   ],
   "source": [
    "# Raplicate GlobalAveragePooled2D layer\n",
    "tf.reduce_mean(input_tensor, axis=[1, 2])"
   ]
  },
  {
   "cell_type": "markdown",
   "metadata": {
    "pycharm": {
     "name": "#%% md\n"
    }
   },
   "source": [
    "## Runing a series of transfer learning experiments"
   ]
  },
  {
   "cell_type": "markdown",
   "metadata": {
    "jp-MarkdownHeadingCollapsed": true,
    "pycharm": {
     "name": "#%% md\n"
    },
    "tags": []
   },
   "source": [
    "# Model 1: 1% of the data"
   ]
  },
  {
   "cell_type": "code",
   "execution_count": 19,
   "metadata": {
    "pycharm": {
     "name": "#%%\n"
    }
   },
   "outputs": [
    {
     "name": "stdout",
     "output_type": "stream",
     "text": [
      "\n",
      "Saved under 10_food_classes_1_percent (1).zip\n"
     ]
    }
   ],
   "source": [
    "# Download and unzip data - preprocessed from Food101\n",
    "!python -m wget https://storage.googleapis.com/ztm_tf_course/food_vision/10_food_classes_1_percent.zip\n",
    "unzip_data(\"10_food_classes_1_percent.zip\")"
   ]
  },
  {
   "cell_type": "code",
   "execution_count": 20,
   "metadata": {
    "pycharm": {
     "name": "#%%\n"
    }
   },
   "outputs": [],
   "source": [
    "# Creating train and test dirs\n",
    "train_dir_1_percent = \"10_food_classes_1_percent/train\"\n",
    "test_dir = \"10_food_classes_1_percent/test\""
   ]
  },
  {
   "cell_type": "code",
   "execution_count": 21,
   "metadata": {
    "pycharm": {
     "name": "#%%\n"
    }
   },
   "outputs": [
    {
     "name": "stdout",
     "output_type": "stream",
     "text": [
      "There are 2 directories and 0 images in '10_food_classes_1_percent'.\n",
      "There are 10 directories and 0 images in '10_food_classes_1_percent\\test'.\n",
      "There are 0 directories and 250 images in '10_food_classes_1_percent\\test\\chicken_curry'.\n",
      "There are 0 directories and 250 images in '10_food_classes_1_percent\\test\\chicken_wings'.\n",
      "There are 0 directories and 250 images in '10_food_classes_1_percent\\test\\fried_rice'.\n",
      "There are 0 directories and 250 images in '10_food_classes_1_percent\\test\\grilled_salmon'.\n",
      "There are 0 directories and 250 images in '10_food_classes_1_percent\\test\\hamburger'.\n",
      "There are 0 directories and 250 images in '10_food_classes_1_percent\\test\\ice_cream'.\n",
      "There are 0 directories and 250 images in '10_food_classes_1_percent\\test\\pizza'.\n",
      "There are 0 directories and 250 images in '10_food_classes_1_percent\\test\\ramen'.\n",
      "There are 0 directories and 250 images in '10_food_classes_1_percent\\test\\steak'.\n",
      "There are 0 directories and 250 images in '10_food_classes_1_percent\\test\\sushi'.\n",
      "There are 10 directories and 0 images in '10_food_classes_1_percent\\train'.\n",
      "There are 0 directories and 7 images in '10_food_classes_1_percent\\train\\chicken_curry'.\n",
      "There are 0 directories and 7 images in '10_food_classes_1_percent\\train\\chicken_wings'.\n",
      "There are 0 directories and 7 images in '10_food_classes_1_percent\\train\\fried_rice'.\n",
      "There are 0 directories and 7 images in '10_food_classes_1_percent\\train\\grilled_salmon'.\n",
      "There are 0 directories and 7 images in '10_food_classes_1_percent\\train\\hamburger'.\n",
      "There are 0 directories and 7 images in '10_food_classes_1_percent\\train\\ice_cream'.\n",
      "There are 0 directories and 7 images in '10_food_classes_1_percent\\train\\pizza'.\n",
      "There are 0 directories and 7 images in '10_food_classes_1_percent\\train\\ramen'.\n",
      "There are 0 directories and 7 images in '10_food_classes_1_percent\\train\\steak'.\n",
      "There are 0 directories and 7 images in '10_food_classes_1_percent\\train\\sushi'.\n"
     ]
    }
   ],
   "source": [
    "# How many images we are working with\n",
    "walk_through_dir(\"10_food_classes_1_percent\")"
   ]
  },
  {
   "cell_type": "markdown",
   "metadata": {
    "pycharm": {
     "name": "#%% md\n"
    }
   },
   "source": [
    "## Setup data loaders"
   ]
  },
  {
   "cell_type": "code",
   "execution_count": 22,
   "metadata": {
    "pycharm": {
     "name": "#%%\n"
    }
   },
   "outputs": [
    {
     "name": "stdout",
     "output_type": "stream",
     "text": [
      "Found 70 files belonging to 10 classes.\n",
      "Found 2500 files belonging to 10 classes.\n"
     ]
    }
   ],
   "source": [
    "IMG_SIZE = (224, 224)\n",
    "BATCH_SIZE = 32\n",
    "train_data_1_percent = tf.keras.preprocessing.image_dataset_from_directory(train_dir_1_percent,\n",
    "                                                                           label_mode=\"categorical\",\n",
    "                                                                           image_size=IMG_SIZE,\n",
    "                                                                           batch_size=BATCH_SIZE) # Default\n",
    "\n",
    "test_data = tf.keras.preprocessing.image_dataset_from_directory(test_dir,\n",
    "                                                                label_mode=\"categorical\",\n",
    "                                                                image_size=IMG_SIZE,\n",
    "                                                                batch_size=BATCH_SIZE)\n"
   ]
  },
  {
   "cell_type": "markdown",
   "metadata": {
    "pycharm": {
     "name": "#%% md\n"
    }
   },
   "source": [
    "## Adding data augmentation right into the model"
   ]
  },
  {
   "cell_type": "code",
   "execution_count": 23,
   "metadata": {
    "pycharm": {
     "name": "#%%\n"
    }
   },
   "outputs": [],
   "source": [
    "import tensorflow as tf\n",
    "from tensorflow import keras\n",
    "from tensorflow.keras import layers\n",
    "from tensorflow.keras.layers.experimental import preprocessing\n",
    "\n",
    "# Create data augmentation\n",
    "data_augmentation = keras.Sequential([\n",
    "    preprocessing.RandomFlip(\"horizontal\"),\n",
    "    preprocessing.RandomRotation(0.2),\n",
    "    preprocessing.RandomZoom(0.2),\n",
    "    preprocessing.RandomHeight(0.2),\n",
    "    preprocessing.RandomWidth(0.2),\n",
    "    # preprocessing.Rescale(1./255) # Keep for ResNet50V2\n",
    "], name=\"data_augmentation\")"
   ]
  },
  {
   "cell_type": "markdown",
   "metadata": {
    "pycharm": {
     "name": "#%% md\n"
    }
   },
   "source": [
    "### Visualize data augmentation layer"
   ]
  },
  {
   "cell_type": "code",
   "execution_count": 24,
   "metadata": {
    "pycharm": {
     "name": "#%%\n"
    }
   },
   "outputs": [
    {
     "data": {
      "image/png": "[encoded data removed]",
      "text/plain": [
       "<Figure size 432x288 with 1 Axes>"
      ]
     },
     "metadata": {
      "needs_background": "light"
     },
     "output_type": "display_data"
    },
    {
     "data": {
      "image/png": "[encoded data removed]",
      "text/plain": [
       "<Figure size 432x288 with 1 Axes>"
      ]
     },
     "metadata": {
      "needs_background": "light"
     },
     "output_type": "display_data"
    }
   ],
   "source": [
    "# View a random image and comapare it to augmentaed image\n",
    "import matplotlib.pyplot as plt\n",
    "import matplotlib.image as mpimg\n",
    "import os\n",
    "import random\n",
    "target_class = random.choice(train_data_1_percent.class_names)\n",
    "target_dir = \"10_food_classes_1_percent/train/\" + target_class\n",
    "\n",
    "random_image = random.choice(os.listdir(target_dir))\n",
    "random_image_path  = target_dir + \"/\" + random_image\n",
    "\n",
    "# Read in the random image\n",
    "img = mpimg.imread(random_image_path)\n",
    "plt.imshow(img)\n",
    "plt.title(f\"Original random image from class: {target_class}\")\n",
    "plt.axis(False);\n",
    "\n",
    "# Plot augmented image\n",
    "augmented_img = data_augmentation(img, training=True)\n",
    "plt.figure()\n",
    "plt.imshow(augmented_img/255.)\n",
    "plt.title(f\"Augmented random image form class: {target_class}\")\n",
    "plt.axis(False);"
   ]
  },
  {
   "cell_type": "markdown",
   "metadata": {
    "pycharm": {
     "name": "#%% md\n"
    }
   },
   "source": [
    "## Creating a model"
   ]
  },
  {
   "cell_type": "code",
   "execution_count": 25,
   "metadata": {
    "pycharm": {
     "name": "#%%\n"
    }
   },
   "outputs": [
    {
     "name": "stdout",
     "output_type": "stream",
     "text": [
      "WARNING:tensorflow:Model was constructed with shape (512, 382, 3) for input KerasTensor(type_spec=TensorSpec(shape=(512, 382, 3), dtype=tf.uint8, name='random_flip_input'), name='random_flip_input', description=\"created by layer 'random_flip_input'\"), but it was called on an input with incompatible shape (None, 224, 224, 3).\n",
      "Saving TensorBoard log files to: transfer_learning/1_percent_data_aug/20220615-222608\n",
      "Epoch 1/15\n",
      "WARNING:tensorflow:Model was constructed with shape (512, 382, 3) for input KerasTensor(type_spec=TensorSpec(shape=(512, 382, 3), dtype=tf.uint8, name='random_flip_input'), name='random_flip_input', description=\"created by layer 'random_flip_input'\"), but it was called on an input with incompatible shape (None, 224, 224, 3).\n",
      "WARNING:tensorflow:Model was constructed with shape (512, 382, 3) for input KerasTensor(type_spec=TensorSpec(shape=(512, 382, 3), dtype=tf.uint8, name='random_flip_input'), name='random_flip_input', description=\"created by layer 'random_flip_input'\"), but it was called on an input with incompatible shape (None, 224, 224, 3).\n",
      "3/3 [==============================] - ETA: 0s - loss: 2.4593 - accuracy: 0.0714WARNING:tensorflow:Model was constructed with shape (512, 382, 3) for input KerasTensor(type_spec=TensorSpec(shape=(512, 382, 3), dtype=tf.uint8, name='random_flip_input'), name='random_flip_input', description=\"created by layer 'random_flip_input'\"), but it was called on an input with incompatible shape (None, 224, 224, 3).\n",
      "3/3 [==============================] - 7s 1s/step - loss: 2.4593 - accuracy: 0.0714 - val_loss: 2.2473 - val_accuracy: 0.1497\n",
      "Epoch 2/15\n",
      "3/3 [==============================] - 2s 821ms/step - loss: 2.2043 - accuracy: 0.1429 - val_loss: 2.1119 - val_accuracy: 0.2599\n",
      "Epoch 3/15\n",
      "3/3 [==============================] - 2s 938ms/step - loss: 1.9367 - accuracy: 0.3714 - val_loss: 2.0040 - val_accuracy: 0.3355\n",
      "Epoch 4/15\n",
      "3/3 [==============================] - 2s 818ms/step - loss: 1.8368 - accuracy: 0.5286 - val_loss: 1.8876 - val_accuracy: 0.4391\n",
      "Epoch 5/15\n",
      "3/3 [==============================] - 2s 873ms/step - loss: 1.6143 - accuracy: 0.6714 - val_loss: 1.8018 - val_accuracy: 0.4424\n",
      "Epoch 6/15\n",
      "3/3 [==============================] - 2s 831ms/step - loss: 1.4781 - accuracy: 0.7429 - val_loss: 1.7295 - val_accuracy: 0.4934\n",
      "Epoch 7/15\n",
      "3/3 [==============================] - 2s 794ms/step - loss: 1.3819 - accuracy: 0.8143 - val_loss: 1.6530 - val_accuracy: 0.5395\n",
      "Epoch 8/15\n",
      "3/3 [==============================] - 2s 800ms/step - loss: 1.2360 - accuracy: 0.8714 - val_loss: 1.5738 - val_accuracy: 0.5822\n",
      "Epoch 9/15\n",
      "3/3 [==============================] - 2s 791ms/step - loss: 1.1053 - accuracy: 0.8714 - val_loss: 1.5017 - val_accuracy: 0.6283\n",
      "Epoch 10/15\n",
      "3/3 [==============================] - 2s 916ms/step - loss: 1.0427 - accuracy: 0.9286 - val_loss: 1.4296 - val_accuracy: 0.6628\n",
      "Epoch 11/15\n",
      "3/3 [==============================] - 2s 833ms/step - loss: 0.9441 - accuracy: 0.9286 - val_loss: 1.4113 - val_accuracy: 0.6546\n",
      "Epoch 12/15\n",
      "3/3 [==============================] - 2s 733ms/step - loss: 0.8394 - accuracy: 0.9286 - val_loss: 1.3564 - val_accuracy: 0.6727\n",
      "Epoch 13/15\n",
      "3/3 [==============================] - 2s 789ms/step - loss: 0.7857 - accuracy: 0.9429 - val_loss: 1.3051 - val_accuracy: 0.6924\n",
      "Epoch 14/15\n",
      "3/3 [==============================] - 2s 736ms/step - loss: 0.7290 - accuracy: 0.9714 - val_loss: 1.2358 - val_accuracy: 0.7171\n",
      "Epoch 15/15\n",
      "3/3 [==============================] - 2s 736ms/step - loss: 0.6733 - accuracy: 0.9714 - val_loss: 1.2218 - val_accuracy: 0.7171\n"
     ]
    }
   ],
   "source": [
    "# Setup input shape and base model, freezing the base model layers\n",
    "input_shape = (224, 224, 3)\n",
    "base_model = tf.keras.applications.EfficientNetB0(include_top=False)\n",
    "base_model.trainable = False\n",
    "\n",
    "# Create input layer\n",
    "inputs = layers.Input(shape=input_shape, name=\"input_layer\")\n",
    "\n",
    "# Add in data augmentation Sequential model as a layer\n",
    "x= data_augmentation(inputs)\n",
    "\n",
    "# Give base_model the inputs (after augmentation) and don't trainit\n",
    "x = base_model(x, training=False)\n",
    "\n",
    "# Pool output features of the base model\n",
    "x = layers.GlobalAveragePooling2D()(x)\n",
    "\n",
    "# Put a dense layer on as the output\n",
    "outputs = layers.Dense(10, activation=\"softmax\", name=\"output_layer\")(x)\n",
    "\n",
    "# Make a model using inputs and outputs\n",
    "model_1 = keras.Model(inputs, outputs)\n",
    "\n",
    "# Compile the model\n",
    "model_1.compile(loss=\"categorical_crossentropy\",\n",
    "               optimizer=tf.keras.optimizers.Adam(),\n",
    "               metrics=[\"accuracy\"])\n",
    "\n",
    "# Fit the model\n",
    "history_1_percent =  model_1.fit(train_data_1_percent,\n",
    "                                epochs=15,\n",
    "                                steps_per_epoch=len(train_data_1_percent),\n",
    "                                validation_data=test_data,\n",
    "                                validation_steps=int(0.25 * len(test_data)),\n",
    "                                # Track model training logs\n",
    "                                callbacks=[create_tensorboard_callback(dir_name=\"transfer_learning\",\n",
    "                                                                      experiment_name=\"1_percent_data_aug\")])\n"
   ]
  },
  {
   "cell_type": "code",
   "execution_count": 26,
   "metadata": {
    "pycharm": {
     "name": "#%%\n"
    }
   },
   "outputs": [
    {
     "name": "stdout",
     "output_type": "stream",
     "text": [
      "Model: \"model_1\"\n",
      "_________________________________________________________________\n",
      " Layer (type)                Output Shape              Param #   \n",
      "=================================================================\n",
      " input_layer (InputLayer)    [(None, 224, 224, 3)]     0         \n",
      "                                                                 \n",
      " data_augmentation (Sequenti  (None, None, 3)          0         \n",
      " al)                                                             \n",
      "                                                                 \n",
      " efficientnetb0 (Functional)  (None, None, None, 1280)  4049571  \n",
      "                                                                 \n",
      " global_average_pooling2d_1   (None, 1280)             0         \n",
      " (GlobalAveragePooling2D)                                        \n",
      "                                                                 \n",
      " output_layer (Dense)        (None, 10)                12810     \n",
      "                                                                 \n",
      "=================================================================\n",
      "Total params: 4,062,381\n",
      "Trainable params: 12,810\n",
      "Non-trainable params: 4,049,571\n",
      "_________________________________________________________________\n"
     ]
    }
   ],
   "source": [
    "# Check out model summary\n",
    "model_1.summary()"
   ]
  },
  {
   "cell_type": "code",
   "execution_count": 27,
   "metadata": {
    "pycharm": {
     "name": "#%%\n"
    }
   },
   "outputs": [
    {
     "name": "stdout",
     "output_type": "stream",
     "text": [
      "79/79 [==============================] - 5s 57ms/step - loss: 1.2086 - accuracy: 0.7164\n"
     ]
    },
    {
     "data": {
      "text/plain": [
       "[1.2086297273635864, 0.7164000272750854]"
      ]
     },
     "execution_count": 27,
     "metadata": {},
     "output_type": "execute_result"
    }
   ],
   "source": [
    "# Evaluate on full datasets\n",
    "results_1_percent_data_aug = model_1.evaluate(test_data)\n",
    "results_1_percent_data_aug"
   ]
  },
  {
   "cell_type": "code",
   "execution_count": 28,
   "metadata": {
    "pycharm": {
     "name": "#%%\n"
    }
   },
   "outputs": [
    {
     "data": {
      "image/png": "[encoded data removed]",
      "text/plain": [
       "<Figure size 432x288 with 1 Axes>"
      ]
     },
     "metadata": {
      "needs_background": "light"
     },
     "output_type": "display_data"
    },
    {
     "data": {
      "image/png": "[encoded data removed]",
      "text/plain": [
       "<Figure size 432x288 with 1 Axes>"
      ]
     },
     "metadata": {
      "needs_background": "light"
     },
     "output_type": "display_data"
    }
   ],
   "source": [
    "# How does the model with 1 percent data go with data augmentaion\n",
    "plot_loss_curves(history_1_percent)"
   ]
  },
  {
   "cell_type": "markdown",
   "metadata": {
    "pycharm": {
     "name": "#%% md\n"
    },
    "tags": []
   },
   "source": [
    "# Model 2: 10% data with data augmentation"
   ]
  },
  {
   "cell_type": "markdown",
   "metadata": {
    "pycharm": {
     "name": "#%% md\n"
    },
    "tags": []
   },
   "source": [
    "## Setting up data loaders"
   ]
  },
  {
   "cell_type": "code",
   "execution_count": 3,
   "metadata": {
    "pycharm": {
     "name": "#%%\n"
    }
   },
   "outputs": [],
   "source": [
    "import tensorflow as tf\n",
    "from tensorflow import keras\n",
    "from tensorflow.keras import layers"
   ]
  },
  {
   "cell_type": "code",
   "execution_count": 4,
   "metadata": {
    "pycharm": {
     "name": "#%%\n"
    }
   },
   "outputs": [],
   "source": [
    "train_10_percent_dir = \"10_food_classes_10_percent/train\"\n",
    "test_dir = \"10_food_classes_10_percent/test\""
   ]
  },
  {
   "cell_type": "code",
   "execution_count": 5,
   "metadata": {
    "pycharm": {
     "name": "#%%\n"
    }
   },
   "outputs": [
    {
     "name": "stdout",
     "output_type": "stream",
     "text": [
      "Found 750 files belonging to 10 classes.\n",
      "Found 2500 files belonging to 10 classes.\n"
     ]
    }
   ],
   "source": [
    "IMG_SIZE = (224, 224)\n",
    "BATCH_SIZE = 32\n",
    "\n",
    "train_10_percent_data = tf.keras.preprocessing.image_dataset_from_directory(train_10_percent_dir,\n",
    "                                                                            label_mode=\"categorical\",\n",
    "                                                                            image_size=IMG_SIZE,\n",
    "                                                                            batch_size=BATCH_SIZE)\n",
    "\n",
    "test_data = keras.preprocessing.image_dataset_from_directory(directory=test_dir,\n",
    "                                                             label_mode=\"categorical\",\n",
    "                                                             image_size=IMG_SIZE,\n",
    "                                                             batch_size=BATCH_SIZE)"
   ]
  },
  {
   "cell_type": "code",
   "execution_count": 6,
   "metadata": {
    "pycharm": {
     "name": "#%%\n"
    }
   },
   "outputs": [
    {
     "data": {
      "text/plain": [
       "['chicken_curry',\n",
       " 'chicken_wings',\n",
       " 'fried_rice',\n",
       " 'grilled_salmon',\n",
       " 'hamburger',\n",
       " 'ice_cream',\n",
       " 'pizza',\n",
       " 'ramen',\n",
       " 'steak',\n",
       " 'sushi']"
      ]
     },
     "execution_count": 6,
     "metadata": {},
     "output_type": "execute_result"
    }
   ],
   "source": [
    "train_10_percent_data.class_names"
   ]
  },
  {
   "cell_type": "markdown",
   "metadata": {
    "pycharm": {
     "name": "#%% md\n"
    },
    "tags": []
   },
   "source": [
    "## Setup data augmentation"
   ]
  },
  {
   "cell_type": "code",
   "execution_count": 7,
   "metadata": {
    "pycharm": {
     "name": "#%%\n"
    }
   },
   "outputs": [],
   "source": [
    "data_augmentation = keras.Sequential([\n",
    "    layers.RandomFlip(\"horizontal\"),\n",
    "    layers.RandomZoom(0.2),\n",
    "    layers.RandomHeight(0.2),\n",
    "    layers.RandomRotation(0.2),\n",
    "    layers.RandomWidth(0.2),\n",
    "    layers.RandomContrast(0.2)\n",
    "], name=\"data_augmentation\")\n"
   ]
  },
  {
   "cell_type": "code",
   "execution_count": 32,
   "metadata": {
    "pycharm": {
     "name": "#%%\n"
    }
   },
   "outputs": [],
   "source": [
    "import matplotlib.pyplot as plt\n",
    "import matplotlib.image as mpimg\n",
    "import os\n",
    "import random"
   ]
  },
  {
   "cell_type": "code",
   "execution_count": 8,
   "metadata": {
    "pycharm": {
     "name": "#%%\n"
    }
   },
   "outputs": [
    {
     "data": {
      "text/plain": [
       "Text(0.5, 1.0, 'Augmented image of sushi')"
      ]
     },
     "execution_count": 8,
     "metadata": {},
     "output_type": "execute_result"
    },
    {
     "data": {
      "image/png": "[encoded data removed]",
      "text/plain": [
       "<Figure size 432x288 with 1 Axes>"
      ]
     },
     "metadata": {
      "needs_background": "light"
     },
     "output_type": "display_data"
    },
    {
     "data": {
      "image/png": "[encoded data removed]",
      "text/plain": [
       "<Figure size 432x288 with 1 Axes>"
      ]
     },
     "metadata": {
      "needs_background": "light"
     },
     "output_type": "display_data"
    }
   ],
   "source": [
    "random_class = random.choice(train_10_percent_data.class_names)\n",
    "class_dir = \"10_food_classes_10_percent/train/\" + random_class\n",
    "\n",
    "random_image = random.choice(os.listdir(class_dir))\n",
    "random_image_path = class_dir + \"/\" + random_image\n",
    "\n",
    "img  = mpimg.imread(random_image_path)\n",
    "\n",
    "plt.imshow(img/255.)\n",
    "plt.axis(False)\n",
    "plt.title(f\"Image of {random_class} before applying data augmentation\");\n",
    "\n",
    "augmented_img = data_augmentation(img, training=True)\n",
    "plt.figure()\n",
    "plt.imshow(augmented_img/255.)\n",
    "plt.axis(False)\n",
    "plt.title(f\"Augmented image of {random_class}\")"
   ]
  },
  {
   "cell_type": "markdown",
   "metadata": {
    "pycharm": {
     "name": "#%% md\n"
    }
   },
   "source": [
    "## Create a model with functional API"
   ]
  },
  {
   "cell_type": "code",
   "execution_count": 8,
   "metadata": {
    "pycharm": {
     "name": "#%%\n"
    }
   },
   "outputs": [],
   "source": [
    "input_shape = (224, 224, 3)\n",
    "\n",
    "base_model = keras.applications.EfficientNetB0(include_top=False)\n",
    "base_model.trainable = False\n",
    "\n",
    "inputs = layers.Input(shape=input_shape, name=\"input_layer\")\n",
    "x = data_augmentation(inputs)\n",
    "x = base_model(x, training=False)\n",
    "x = layers.GlobalAveragePooling2D()(x)\n",
    "outputs = layers.Dense(10, activation=\"softmax\", name=\"output_layer\")(x)\n",
    "\n",
    "model_2 = keras.Model(inputs, outputs)\n",
    "\n",
    "model_2.compile(loss=\"categorical_crossentropy\",\n",
    "                optimizer=keras.optimizers.Adam(),\n",
    "               metrics=[\"accuracy\"])"
   ]
  },
  {
   "cell_type": "markdown",
   "metadata": {
    "pycharm": {
     "name": "#%% md\n"
    }
   },
   "source": [
    "## Create Model Checkpoints"
   ]
  },
  {
   "cell_type": "code",
   "execution_count": 9,
   "metadata": {
    "pycharm": {
     "name": "#%%\n"
    }
   },
   "outputs": [],
   "source": [
    "checkpoint_path = \"10_percent_model_checkpoints_weights/checkpoints.ckpt\"\n",
    "\n",
    "model_checkpoint_callback = keras.callbacks.ModelCheckpoint(filepath=checkpoint_path,\n",
    "                                                            save_weights_only=True,\n",
    "                                                            save_best_only=False,\n",
    "                                                           save_freq=\"epoch\",\n",
    "                                                           verbose=0)"
   ]
  },
  {
   "cell_type": "markdown",
   "metadata": {
    "pycharm": {
     "name": "#%% md\n"
    }
   },
   "source": [
    "## Fitting the model"
   ]
  },
  {
   "cell_type": "code",
   "execution_count": 10,
   "metadata": {
    "pycharm": {
     "name": "#%%\n"
    }
   },
   "outputs": [
    {
     "name": "stdout",
     "output_type": "stream",
     "text": [
      "Saving TensorBoard log files to: transfer_learning/10_percent_data_aug/20220617-212250\n",
      "Epoch 1/5\n",
      "24/24 [==============================] - 17s 426ms/step - loss: 2.0393 - accuracy: 0.3027 - val_loss: 1.5381 - val_accuracy: 0.5674\n",
      "Epoch 2/5\n",
      "24/24 [==============================] - 8s 310ms/step - loss: 1.4038 - accuracy: 0.6320 - val_loss: 1.0617 - val_accuracy: 0.7467\n",
      "Epoch 3/5\n",
      "24/24 [==============================] - 7s 283ms/step - loss: 1.0596 - accuracy: 0.7427 - val_loss: 0.8668 - val_accuracy: 0.7714\n",
      "Epoch 4/5\n",
      "24/24 [==============================] - 7s 281ms/step - loss: 0.9144 - accuracy: 0.7667 - val_loss: 0.7666 - val_accuracy: 0.7829\n",
      "Epoch 5/5\n",
      "24/24 [==============================] - 7s 281ms/step - loss: 0.8252 - accuracy: 0.7853 - val_loss: 0.7053 - val_accuracy: 0.7878\n"
     ]
    }
   ],
   "source": [
    "initial_epochs = 5\n",
    "\n",
    "history_model_2 = model_2.fit(train_10_percent_data,\n",
    "           epochs=initial_epochs,\n",
    "           steps_per_epoch=len(train_10_percent_data),\n",
    "           validation_data=test_data,\n",
    "           validation_steps=int(0.25 * len(test_data)),\n",
    "            callbacks=[model_checkpoint_callback, create_tensorboard_callback(dir_name=\"transfer_learning\",\n",
    "                                                   experiment_name=\"10_percent_data_aug\")])"
   ]
  },
  {
   "cell_type": "code",
   "execution_count": 11,
   "metadata": {
    "pycharm": {
     "name": "#%%\n"
    }
   },
   "outputs": [
    {
     "data": {
      "image/png": "[encoded data removed]",
      "text/plain": [
       "<Figure size 432x288 with 1 Axes>"
      ]
     },
     "metadata": {
      "needs_background": "light"
     },
     "output_type": "display_data"
    },
    {
     "data": {
      "image/png": "[encoded data removed]",
      "text/plain": [
       "<Figure size 432x288 with 1 Axes>"
      ]
     },
     "metadata": {
      "needs_background": "light"
     },
     "output_type": "display_data"
    }
   ],
   "source": [
    "plot_loss_curves(history_model_2)"
   ]
  },
  {
   "cell_type": "code",
   "execution_count": 12,
   "metadata": {
    "pycharm": {
     "name": "#%%\n"
    }
   },
   "outputs": [
    {
     "name": "stdout",
     "output_type": "stream",
     "text": [
      "79/79 [==============================] - 5s 58ms/step - loss: 0.7141 - accuracy: 0.8032\n"
     ]
    },
    {
     "data": {
      "text/plain": [
       "[0.7141461372375488, 0.8032000064849854]"
      ]
     },
     "execution_count": 12,
     "metadata": {},
     "output_type": "execute_result"
    }
   ],
   "source": [
    "model_2.evaluate(test_data)"
   ]
  },
  {
   "cell_type": "code",
   "execution_count": 13,
   "metadata": {
    "pycharm": {
     "name": "#%%\n"
    }
   },
   "outputs": [
    {
     "name": "stdout",
     "output_type": "stream",
     "text": [
      "Model: \"model\"\n",
      "_________________________________________________________________\n",
      " Layer (type)                Output Shape              Param #   \n",
      "=================================================================\n",
      " input_layer (InputLayer)    [(None, 224, 224, 3)]     0         \n",
      "                                                                 \n",
      " data_augmentation (Sequenti  (None, 224, 224, 3)      0         \n",
      " al)                                                             \n",
      "                                                                 \n",
      " efficientnetb0 (Functional)  (None, None, None, 1280)  4049571  \n",
      "                                                                 \n",
      " global_average_pooling2d (G  (None, 1280)             0         \n",
      " lobalAveragePooling2D)                                          \n",
      "                                                                 \n",
      " output_layer (Dense)        (None, 10)                12810     \n",
      "                                                                 \n",
      "=================================================================\n",
      "Total params: 4,062,381\n",
      "Trainable params: 12,810\n",
      "Non-trainable params: 4,049,571\n",
      "_________________________________________________________________\n"
     ]
    }
   ],
   "source": [
    "model_2.summary()"
   ]
  },
  {
   "cell_type": "code",
   "execution_count": 14,
   "metadata": {
    "pycharm": {
     "name": "#%%\n"
    }
   },
   "outputs": [
    {
     "name": "stdout",
     "output_type": "stream",
     "text": [
      "Model: \"data_augmentation\"\n",
      "_________________________________________________________________\n",
      " Layer (type)                Output Shape              Param #   \n",
      "=================================================================\n",
      " random_flip (RandomFlip)    (None, 224, 224, 3)       0         \n",
      "                                                                 \n",
      " random_zoom (RandomZoom)    (None, 224, 224, 3)       0         \n",
      "                                                                 \n",
      " random_height (RandomHeight  (None, 224, 224, 3)      0         \n",
      " )                                                               \n",
      "                                                                 \n",
      " random_rotation (RandomRota  (None, 224, 224, 3)      0         \n",
      " tion)                                                           \n",
      "                                                                 \n",
      " random_width (RandomWidth)  (None, 224, 224, 3)       0         \n",
      "                                                                 \n",
      " random_contrast (RandomCont  (None, 224, 224, 3)      0         \n",
      " rast)                                                           \n",
      "                                                                 \n",
      "=================================================================\n",
      "Total params: 0\n",
      "Trainable params: 0\n",
      "Non-trainable params: 0\n",
      "_________________________________________________________________\n"
     ]
    }
   ],
   "source": [
    "data_augmentation.summary()"
   ]
  },
  {
   "cell_type": "code",
   "execution_count": 16,
   "metadata": {
    "pycharm": {
     "name": "#%%\n"
    }
   },
   "outputs": [
    {
     "ename": "NameError",
     "evalue": "name 'model_0' is not defined",
     "output_type": "error",
     "traceback": [
      "\u001b[1;31m---------------------------------------------------------------------------\u001b[0m",
      "\u001b[1;31mNameError\u001b[0m                                 Traceback (most recent call last)",
      "Input \u001b[1;32mIn [16]\u001b[0m, in \u001b[0;36m<cell line: 2>\u001b[1;34m()\u001b[0m\n\u001b[0;32m      1\u001b[0m \u001b[38;5;66;03m# model 0 evaluation\u001b[39;00m\n\u001b[1;32m----> 2\u001b[0m result_10_pecent \u001b[38;5;241m=\u001b[39m \u001b[43mmodel_0\u001b[49m\u001b[38;5;241m.\u001b[39mevaluate(test_data)\n\u001b[0;32m      3\u001b[0m result_10_pecent\n",
      "\u001b[1;31mNameError\u001b[0m: name 'model_0' is not defined"
     ]
    }
   ],
   "source": [
    "# model 0 evaluation\n",
    "result_10_pecent = model_0.evaluate(test_data)\n",
    "result_10_pecent"
   ]
  },
  {
   "cell_type": "code",
   "execution_count": 15,
   "metadata": {
    "pycharm": {
     "name": "#%%\n"
    }
   },
   "outputs": [
    {
     "name": "stdout",
     "output_type": "stream",
     "text": [
      "79/79 [==============================] - 5s 55ms/step - loss: 0.7141 - accuracy: 0.8032\n"
     ]
    },
    {
     "data": {
      "text/plain": [
       "[0.7141463160514832, 0.8032000064849854]"
      ]
     },
     "execution_count": 15,
     "metadata": {},
     "output_type": "execute_result"
    }
   ],
   "source": [
    "# Model 2 evaluation\n",
    "result_10_percent_data_aug = model_2.evaluate(test_data)\n",
    "result_10_percent_data_aug"
   ]
  },
  {
   "cell_type": "markdown",
   "metadata": {
    "pycharm": {
     "name": "#%% md\n"
    }
   },
   "source": [
    "## Loading in the checkpointed weights"
   ]
  },
  {
   "cell_type": "code",
   "execution_count": 16,
   "metadata": {
    "pycharm": {
     "name": "#%%\n"
    }
   },
   "outputs": [
    {
     "data": {
      "text/plain": [
       "<tensorflow.python.training.tracking.util.CheckpointLoadStatus at 0x1a250a8fdc0>"
      ]
     },
     "execution_count": 16,
     "metadata": {},
     "output_type": "execute_result"
    }
   ],
   "source": [
    "model_2.load_weights(checkpoint_path)"
   ]
  },
  {
   "cell_type": "code",
   "execution_count": 17,
   "metadata": {
    "pycharm": {
     "name": "#%%\n"
    }
   },
   "outputs": [
    {
     "name": "stdout",
     "output_type": "stream",
     "text": [
      "79/79 [==============================] - 5s 56ms/step - loss: 0.7141 - accuracy: 0.8032\n"
     ]
    },
    {
     "data": {
      "text/plain": [
       "[0.7141460180282593, 0.8032000064849854]"
      ]
     },
     "execution_count": 17,
     "metadata": {},
     "output_type": "execute_result"
    }
   ],
   "source": [
    "# Evaluate model 2 with loaded weights\n",
    "loaded_weights_model_results = model_2.evaluate(test_data)\n",
    "loaded_weights_model_results"
   ]
  },
  {
   "cell_type": "code",
   "execution_count": 18,
   "metadata": {
    "pycharm": {
     "name": "#%%\n"
    }
   },
   "outputs": [
    {
     "data": {
      "text/plain": [
       "False"
      ]
     },
     "execution_count": 18,
     "metadata": {},
     "output_type": "execute_result"
    }
   ],
   "source": [
    "loaded_weights_model_results == result_10_percent_data_aug"
   ]
  },
  {
   "cell_type": "code",
   "execution_count": 19,
   "metadata": {
    "pycharm": {
     "name": "#%%\n"
    }
   },
   "outputs": [
    {
     "data": {
      "text/plain": [
       "array([ True,  True])"
      ]
     },
     "execution_count": 19,
     "metadata": {},
     "output_type": "execute_result"
    }
   ],
   "source": [
    "# Check how close results are\n",
    "import numpy as np\n",
    "np.isclose(np.array(loaded_weights_model_results), np.array(result_10_percent_data_aug))"
   ]
  },
  {
   "cell_type": "markdown",
   "metadata": {
    "jp-MarkdownHeadingCollapsed": true,
    "pycharm": {
     "name": "#%%\n"
    },
    "tags": []
   },
   "source": [
    "# Model 3: Fine-tuning model with 10% data"
   ]
  },
  {
   "cell_type": "code",
   "execution_count": 20,
   "metadata": {},
   "outputs": [
    {
     "data": {
      "text/plain": [
       "[<keras.engine.input_layer.InputLayer at 0x1a0eb927070>,\n",
       " <keras.engine.sequential.Sequential at 0x1a0eb9251b0>,\n",
       " <keras.engine.functional.Functional at 0x1a1dd563880>,\n",
       " <keras.layers.pooling.GlobalAveragePooling2D at 0x1a1dd4ef7c0>,\n",
       " <keras.layers.core.dense.Dense at 0x1a1de74c850>]"
      ]
     },
     "execution_count": 20,
     "metadata": {},
     "output_type": "execute_result"
    }
   ],
   "source": [
    "# layers in our loaded model\n",
    "model_2.layers"
   ]
  },
  {
   "cell_type": "code",
   "execution_count": 21,
   "metadata": {},
   "outputs": [
    {
     "name": "stdout",
     "output_type": "stream",
     "text": [
      "<keras.engine.input_layer.InputLayer object at 0x000001A0EB927070> True\n",
      "<keras.engine.sequential.Sequential object at 0x000001A0EB9251B0> True\n",
      "<keras.engine.functional.Functional object at 0x000001A1DD563880> False\n",
      "<keras.layers.pooling.GlobalAveragePooling2D object at 0x000001A1DD4EF7C0> True\n",
      "<keras.layers.core.dense.Dense object at 0x000001A1DE74C850> True\n"
     ]
    }
   ],
   "source": [
    "# Are layers trainable\n",
    "for layer in model_2.layers:\n",
    "    print(layer, layer.trainable)"
   ]
  },
  {
   "cell_type": "code",
   "execution_count": 22,
   "metadata": {},
   "outputs": [
    {
     "name": "stdout",
     "output_type": "stream",
     "text": [
      "No. 0 --> input_1 --> False\n",
      "No. 1 --> rescaling --> False\n",
      "No. 2 --> normalization --> False\n",
      "No. 3 --> stem_conv_pad --> False\n",
      "No. 4 --> stem_conv --> False\n",
      "No. 5 --> stem_bn --> False\n",
      "No. 6 --> stem_activation --> False\n",
      "No. 7 --> block1a_dwconv --> False\n",
      "No. 8 --> block1a_bn --> False\n",
      "No. 9 --> block1a_activation --> False\n",
      "No. 10 --> block1a_se_squeeze --> False\n",
      "No. 11 --> block1a_se_reshape --> False\n",
      "No. 12 --> block1a_se_reduce --> False\n",
      "No. 13 --> block1a_se_expand --> False\n",
      "No. 14 --> block1a_se_excite --> False\n",
      "No. 15 --> block1a_project_conv --> False\n",
      "No. 16 --> block1a_project_bn --> False\n",
      "No. 17 --> block2a_expand_conv --> False\n",
      "No. 18 --> block2a_expand_bn --> False\n",
      "No. 19 --> block2a_expand_activation --> False\n",
      "No. 20 --> block2a_dwconv_pad --> False\n",
      "No. 21 --> block2a_dwconv --> False\n",
      "No. 22 --> block2a_bn --> False\n",
      "No. 23 --> block2a_activation --> False\n",
      "No. 24 --> block2a_se_squeeze --> False\n",
      "No. 25 --> block2a_se_reshape --> False\n",
      "No. 26 --> block2a_se_reduce --> False\n",
      "No. 27 --> block2a_se_expand --> False\n",
      "No. 28 --> block2a_se_excite --> False\n",
      "No. 29 --> block2a_project_conv --> False\n",
      "No. 30 --> block2a_project_bn --> False\n",
      "No. 31 --> block2b_expand_conv --> False\n",
      "No. 32 --> block2b_expand_bn --> False\n",
      "No. 33 --> block2b_expand_activation --> False\n",
      "No. 34 --> block2b_dwconv --> False\n",
      "No. 35 --> block2b_bn --> False\n",
      "No. 36 --> block2b_activation --> False\n",
      "No. 37 --> block2b_se_squeeze --> False\n",
      "No. 38 --> block2b_se_reshape --> False\n",
      "No. 39 --> block2b_se_reduce --> False\n",
      "No. 40 --> block2b_se_expand --> False\n",
      "No. 41 --> block2b_se_excite --> False\n",
      "No. 42 --> block2b_project_conv --> False\n",
      "No. 43 --> block2b_project_bn --> False\n",
      "No. 44 --> block2b_drop --> False\n",
      "No. 45 --> block2b_add --> False\n",
      "No. 46 --> block3a_expand_conv --> False\n",
      "No. 47 --> block3a_expand_bn --> False\n",
      "No. 48 --> block3a_expand_activation --> False\n",
      "No. 49 --> block3a_dwconv_pad --> False\n",
      "No. 50 --> block3a_dwconv --> False\n",
      "No. 51 --> block3a_bn --> False\n",
      "No. 52 --> block3a_activation --> False\n",
      "No. 53 --> block3a_se_squeeze --> False\n",
      "No. 54 --> block3a_se_reshape --> False\n",
      "No. 55 --> block3a_se_reduce --> False\n",
      "No. 56 --> block3a_se_expand --> False\n",
      "No. 57 --> block3a_se_excite --> False\n",
      "No. 58 --> block3a_project_conv --> False\n",
      "No. 59 --> block3a_project_bn --> False\n",
      "No. 60 --> block3b_expand_conv --> False\n",
      "No. 61 --> block3b_expand_bn --> False\n",
      "No. 62 --> block3b_expand_activation --> False\n",
      "No. 63 --> block3b_dwconv --> False\n",
      "No. 64 --> block3b_bn --> False\n",
      "No. 65 --> block3b_activation --> False\n",
      "No. 66 --> block3b_se_squeeze --> False\n",
      "No. 67 --> block3b_se_reshape --> False\n",
      "No. 68 --> block3b_se_reduce --> False\n",
      "No. 69 --> block3b_se_expand --> False\n",
      "No. 70 --> block3b_se_excite --> False\n",
      "No. 71 --> block3b_project_conv --> False\n",
      "No. 72 --> block3b_project_bn --> False\n",
      "No. 73 --> block3b_drop --> False\n",
      "No. 74 --> block3b_add --> False\n",
      "No. 75 --> block4a_expand_conv --> False\n",
      "No. 76 --> block4a_expand_bn --> False\n",
      "No. 77 --> block4a_expand_activation --> False\n",
      "No. 78 --> block4a_dwconv_pad --> False\n",
      "No. 79 --> block4a_dwconv --> False\n",
      "No. 80 --> block4a_bn --> False\n",
      "No. 81 --> block4a_activation --> False\n",
      "No. 82 --> block4a_se_squeeze --> False\n",
      "No. 83 --> block4a_se_reshape --> False\n",
      "No. 84 --> block4a_se_reduce --> False\n",
      "No. 85 --> block4a_se_expand --> False\n",
      "No. 86 --> block4a_se_excite --> False\n",
      "No. 87 --> block4a_project_conv --> False\n",
      "No. 88 --> block4a_project_bn --> False\n",
      "No. 89 --> block4b_expand_conv --> False\n",
      "No. 90 --> block4b_expand_bn --> False\n",
      "No. 91 --> block4b_expand_activation --> False\n",
      "No. 92 --> block4b_dwconv --> False\n",
      "No. 93 --> block4b_bn --> False\n",
      "No. 94 --> block4b_activation --> False\n",
      "No. 95 --> block4b_se_squeeze --> False\n",
      "No. 96 --> block4b_se_reshape --> False\n",
      "No. 97 --> block4b_se_reduce --> False\n",
      "No. 98 --> block4b_se_expand --> False\n",
      "No. 99 --> block4b_se_excite --> False\n",
      "No. 100 --> block4b_project_conv --> False\n",
      "No. 101 --> block4b_project_bn --> False\n",
      "No. 102 --> block4b_drop --> False\n",
      "No. 103 --> block4b_add --> False\n",
      "No. 104 --> block4c_expand_conv --> False\n",
      "No. 105 --> block4c_expand_bn --> False\n",
      "No. 106 --> block4c_expand_activation --> False\n",
      "No. 107 --> block4c_dwconv --> False\n",
      "No. 108 --> block4c_bn --> False\n",
      "No. 109 --> block4c_activation --> False\n",
      "No. 110 --> block4c_se_squeeze --> False\n",
      "No. 111 --> block4c_se_reshape --> False\n",
      "No. 112 --> block4c_se_reduce --> False\n",
      "No. 113 --> block4c_se_expand --> False\n",
      "No. 114 --> block4c_se_excite --> False\n",
      "No. 115 --> block4c_project_conv --> False\n",
      "No. 116 --> block4c_project_bn --> False\n",
      "No. 117 --> block4c_drop --> False\n",
      "No. 118 --> block4c_add --> False\n",
      "No. 119 --> block5a_expand_conv --> False\n",
      "No. 120 --> block5a_expand_bn --> False\n",
      "No. 121 --> block5a_expand_activation --> False\n",
      "No. 122 --> block5a_dwconv --> False\n",
      "No. 123 --> block5a_bn --> False\n",
      "No. 124 --> block5a_activation --> False\n",
      "No. 125 --> block5a_se_squeeze --> False\n",
      "No. 126 --> block5a_se_reshape --> False\n",
      "No. 127 --> block5a_se_reduce --> False\n",
      "No. 128 --> block5a_se_expand --> False\n",
      "No. 129 --> block5a_se_excite --> False\n",
      "No. 130 --> block5a_project_conv --> False\n",
      "No. 131 --> block5a_project_bn --> False\n",
      "No. 132 --> block5b_expand_conv --> False\n",
      "No. 133 --> block5b_expand_bn --> False\n",
      "No. 134 --> block5b_expand_activation --> False\n",
      "No. 135 --> block5b_dwconv --> False\n",
      "No. 136 --> block5b_bn --> False\n",
      "No. 137 --> block5b_activation --> False\n",
      "No. 138 --> block5b_se_squeeze --> False\n",
      "No. 139 --> block5b_se_reshape --> False\n",
      "No. 140 --> block5b_se_reduce --> False\n",
      "No. 141 --> block5b_se_expand --> False\n",
      "No. 142 --> block5b_se_excite --> False\n",
      "No. 143 --> block5b_project_conv --> False\n",
      "No. 144 --> block5b_project_bn --> False\n",
      "No. 145 --> block5b_drop --> False\n",
      "No. 146 --> block5b_add --> False\n",
      "No. 147 --> block5c_expand_conv --> False\n",
      "No. 148 --> block5c_expand_bn --> False\n",
      "No. 149 --> block5c_expand_activation --> False\n",
      "No. 150 --> block5c_dwconv --> False\n",
      "No. 151 --> block5c_bn --> False\n",
      "No. 152 --> block5c_activation --> False\n",
      "No. 153 --> block5c_se_squeeze --> False\n",
      "No. 154 --> block5c_se_reshape --> False\n",
      "No. 155 --> block5c_se_reduce --> False\n",
      "No. 156 --> block5c_se_expand --> False\n",
      "No. 157 --> block5c_se_excite --> False\n",
      "No. 158 --> block5c_project_conv --> False\n",
      "No. 159 --> block5c_project_bn --> False\n",
      "No. 160 --> block5c_drop --> False\n",
      "No. 161 --> block5c_add --> False\n",
      "No. 162 --> block6a_expand_conv --> False\n",
      "No. 163 --> block6a_expand_bn --> False\n",
      "No. 164 --> block6a_expand_activation --> False\n",
      "No. 165 --> block6a_dwconv_pad --> False\n",
      "No. 166 --> block6a_dwconv --> False\n",
      "No. 167 --> block6a_bn --> False\n",
      "No. 168 --> block6a_activation --> False\n",
      "No. 169 --> block6a_se_squeeze --> False\n",
      "No. 170 --> block6a_se_reshape --> False\n",
      "No. 171 --> block6a_se_reduce --> False\n",
      "No. 172 --> block6a_se_expand --> False\n",
      "No. 173 --> block6a_se_excite --> False\n",
      "No. 174 --> block6a_project_conv --> False\n",
      "No. 175 --> block6a_project_bn --> False\n",
      "No. 176 --> block6b_expand_conv --> False\n",
      "No. 177 --> block6b_expand_bn --> False\n",
      "No. 178 --> block6b_expand_activation --> False\n",
      "No. 179 --> block6b_dwconv --> False\n",
      "No. 180 --> block6b_bn --> False\n",
      "No. 181 --> block6b_activation --> False\n",
      "No. 182 --> block6b_se_squeeze --> False\n",
      "No. 183 --> block6b_se_reshape --> False\n",
      "No. 184 --> block6b_se_reduce --> False\n",
      "No. 185 --> block6b_se_expand --> False\n",
      "No. 186 --> block6b_se_excite --> False\n",
      "No. 187 --> block6b_project_conv --> False\n",
      "No. 188 --> block6b_project_bn --> False\n",
      "No. 189 --> block6b_drop --> False\n",
      "No. 190 --> block6b_add --> False\n",
      "No. 191 --> block6c_expand_conv --> False\n",
      "No. 192 --> block6c_expand_bn --> False\n",
      "No. 193 --> block6c_expand_activation --> False\n",
      "No. 194 --> block6c_dwconv --> False\n",
      "No. 195 --> block6c_bn --> False\n",
      "No. 196 --> block6c_activation --> False\n",
      "No. 197 --> block6c_se_squeeze --> False\n",
      "No. 198 --> block6c_se_reshape --> False\n",
      "No. 199 --> block6c_se_reduce --> False\n",
      "No. 200 --> block6c_se_expand --> False\n",
      "No. 201 --> block6c_se_excite --> False\n",
      "No. 202 --> block6c_project_conv --> False\n",
      "No. 203 --> block6c_project_bn --> False\n",
      "No. 204 --> block6c_drop --> False\n",
      "No. 205 --> block6c_add --> False\n",
      "No. 206 --> block6d_expand_conv --> False\n",
      "No. 207 --> block6d_expand_bn --> False\n",
      "No. 208 --> block6d_expand_activation --> False\n",
      "No. 209 --> block6d_dwconv --> False\n",
      "No. 210 --> block6d_bn --> False\n",
      "No. 211 --> block6d_activation --> False\n",
      "No. 212 --> block6d_se_squeeze --> False\n",
      "No. 213 --> block6d_se_reshape --> False\n",
      "No. 214 --> block6d_se_reduce --> False\n",
      "No. 215 --> block6d_se_expand --> False\n",
      "No. 216 --> block6d_se_excite --> False\n",
      "No. 217 --> block6d_project_conv --> False\n",
      "No. 218 --> block6d_project_bn --> False\n",
      "No. 219 --> block6d_drop --> False\n",
      "No. 220 --> block6d_add --> False\n",
      "No. 221 --> block7a_expand_conv --> False\n",
      "No. 222 --> block7a_expand_bn --> False\n",
      "No. 223 --> block7a_expand_activation --> False\n",
      "No. 224 --> block7a_dwconv --> False\n",
      "No. 225 --> block7a_bn --> False\n",
      "No. 226 --> block7a_activation --> False\n",
      "No. 227 --> block7a_se_squeeze --> False\n",
      "No. 228 --> block7a_se_reshape --> False\n",
      "No. 229 --> block7a_se_reduce --> False\n",
      "No. 230 --> block7a_se_expand --> False\n",
      "No. 231 --> block7a_se_excite --> False\n",
      "No. 232 --> block7a_project_conv --> False\n",
      "No. 233 --> block7a_project_bn --> False\n",
      "No. 234 --> top_conv --> False\n",
      "No. 235 --> top_bn --> False\n",
      "No. 236 --> top_activation --> False\n"
     ]
    }
   ],
   "source": [
    "# What layers are in our base model (EfficientNetB0) and if they are trainable.\n",
    "for i, layer in enumerate(model_2.layers[2].layers):\n",
    "    print(f\"No. {i} --> {layer.name} --> {layer.trainable}\")"
   ]
  },
  {
   "cell_type": "code",
   "execution_count": 23,
   "metadata": {},
   "outputs": [
    {
     "name": "stdout",
     "output_type": "stream",
     "text": [
      "0\n"
     ]
    }
   ],
   "source": [
    "# how many trainable variables are in our base model?\n",
    "print(len(model_2.layers[2].trainable_variables))"
   ]
  },
  {
   "cell_type": "code",
   "execution_count": 24,
   "metadata": {},
   "outputs": [],
   "source": [
    "# To begin fine tuning, lets start by setting last 10 layers of our base_model.trainable =True\n",
    "base_model.trainable = True\n",
    "\n",
    "# Freeze all layers except last 10\n",
    "for layer in base_model.layers[:-10]:\n",
    "    layer.trainable = False\n",
    "    \n",
    "# Recompile (Do this every time we make change in model)\n",
    "model_2.compile(loss=\"categorical_crossentropy\",\n",
    "               optimizer=tf.keras.optimizers.Adam(learning_rate=0.0001), # when fine tuning, lower the learning rate by 10x\n",
    "               metrics=[\"accuracy\"])"
   ]
  },
  {
   "cell_type": "code",
   "execution_count": 25,
   "metadata": {},
   "outputs": [
    {
     "name": "stdout",
     "output_type": "stream",
     "text": [
      "0 input_1 False\n",
      "1 rescaling False\n",
      "2 normalization False\n",
      "3 stem_conv_pad False\n",
      "4 stem_conv False\n",
      "5 stem_bn False\n",
      "6 stem_activation False\n",
      "7 block1a_dwconv False\n",
      "8 block1a_bn False\n",
      "9 block1a_activation False\n",
      "10 block1a_se_squeeze False\n",
      "11 block1a_se_reshape False\n",
      "12 block1a_se_reduce False\n",
      "13 block1a_se_expand False\n",
      "14 block1a_se_excite False\n",
      "15 block1a_project_conv False\n",
      "16 block1a_project_bn False\n",
      "17 block2a_expand_conv False\n",
      "18 block2a_expand_bn False\n",
      "19 block2a_expand_activation False\n",
      "20 block2a_dwconv_pad False\n",
      "21 block2a_dwconv False\n",
      "22 block2a_bn False\n",
      "23 block2a_activation False\n",
      "24 block2a_se_squeeze False\n",
      "25 block2a_se_reshape False\n",
      "26 block2a_se_reduce False\n",
      "27 block2a_se_expand False\n",
      "28 block2a_se_excite False\n",
      "29 block2a_project_conv False\n",
      "30 block2a_project_bn False\n",
      "31 block2b_expand_conv False\n",
      "32 block2b_expand_bn False\n",
      "33 block2b_expand_activation False\n",
      "34 block2b_dwconv False\n",
      "35 block2b_bn False\n",
      "36 block2b_activation False\n",
      "37 block2b_se_squeeze False\n",
      "38 block2b_se_reshape False\n",
      "39 block2b_se_reduce False\n",
      "40 block2b_se_expand False\n",
      "41 block2b_se_excite False\n",
      "42 block2b_project_conv False\n",
      "43 block2b_project_bn False\n",
      "44 block2b_drop False\n",
      "45 block2b_add False\n",
      "46 block3a_expand_conv False\n",
      "47 block3a_expand_bn False\n",
      "48 block3a_expand_activation False\n",
      "49 block3a_dwconv_pad False\n",
      "50 block3a_dwconv False\n",
      "51 block3a_bn False\n",
      "52 block3a_activation False\n",
      "53 block3a_se_squeeze False\n",
      "54 block3a_se_reshape False\n",
      "55 block3a_se_reduce False\n",
      "56 block3a_se_expand False\n",
      "57 block3a_se_excite False\n",
      "58 block3a_project_conv False\n",
      "59 block3a_project_bn False\n",
      "60 block3b_expand_conv False\n",
      "61 block3b_expand_bn False\n",
      "62 block3b_expand_activation False\n",
      "63 block3b_dwconv False\n",
      "64 block3b_bn False\n",
      "65 block3b_activation False\n",
      "66 block3b_se_squeeze False\n",
      "67 block3b_se_reshape False\n",
      "68 block3b_se_reduce False\n",
      "69 block3b_se_expand False\n",
      "70 block3b_se_excite False\n",
      "71 block3b_project_conv False\n",
      "72 block3b_project_bn False\n",
      "73 block3b_drop False\n",
      "74 block3b_add False\n",
      "75 block4a_expand_conv False\n",
      "76 block4a_expand_bn False\n",
      "77 block4a_expand_activation False\n",
      "78 block4a_dwconv_pad False\n",
      "79 block4a_dwconv False\n",
      "80 block4a_bn False\n",
      "81 block4a_activation False\n",
      "82 block4a_se_squeeze False\n",
      "83 block4a_se_reshape False\n",
      "84 block4a_se_reduce False\n",
      "85 block4a_se_expand False\n",
      "86 block4a_se_excite False\n",
      "87 block4a_project_conv False\n",
      "88 block4a_project_bn False\n",
      "89 block4b_expand_conv False\n",
      "90 block4b_expand_bn False\n",
      "91 block4b_expand_activation False\n",
      "92 block4b_dwconv False\n",
      "93 block4b_bn False\n",
      "94 block4b_activation False\n",
      "95 block4b_se_squeeze False\n",
      "96 block4b_se_reshape False\n",
      "97 block4b_se_reduce False\n",
      "98 block4b_se_expand False\n",
      "99 block4b_se_excite False\n",
      "100 block4b_project_conv False\n",
      "101 block4b_project_bn False\n",
      "102 block4b_drop False\n",
      "103 block4b_add False\n",
      "104 block4c_expand_conv False\n",
      "105 block4c_expand_bn False\n",
      "106 block4c_expand_activation False\n",
      "107 block4c_dwconv False\n",
      "108 block4c_bn False\n",
      "109 block4c_activation False\n",
      "110 block4c_se_squeeze False\n",
      "111 block4c_se_reshape False\n",
      "112 block4c_se_reduce False\n",
      "113 block4c_se_expand False\n",
      "114 block4c_se_excite False\n",
      "115 block4c_project_conv False\n",
      "116 block4c_project_bn False\n",
      "117 block4c_drop False\n",
      "118 block4c_add False\n",
      "119 block5a_expand_conv False\n",
      "120 block5a_expand_bn False\n",
      "121 block5a_expand_activation False\n",
      "122 block5a_dwconv False\n",
      "123 block5a_bn False\n",
      "124 block5a_activation False\n",
      "125 block5a_se_squeeze False\n",
      "126 block5a_se_reshape False\n",
      "127 block5a_se_reduce False\n",
      "128 block5a_se_expand False\n",
      "129 block5a_se_excite False\n",
      "130 block5a_project_conv False\n",
      "131 block5a_project_bn False\n",
      "132 block5b_expand_conv False\n",
      "133 block5b_expand_bn False\n",
      "134 block5b_expand_activation False\n",
      "135 block5b_dwconv False\n",
      "136 block5b_bn False\n",
      "137 block5b_activation False\n",
      "138 block5b_se_squeeze False\n",
      "139 block5b_se_reshape False\n",
      "140 block5b_se_reduce False\n",
      "141 block5b_se_expand False\n",
      "142 block5b_se_excite False\n",
      "143 block5b_project_conv False\n",
      "144 block5b_project_bn False\n",
      "145 block5b_drop False\n",
      "146 block5b_add False\n",
      "147 block5c_expand_conv False\n",
      "148 block5c_expand_bn False\n",
      "149 block5c_expand_activation False\n",
      "150 block5c_dwconv False\n",
      "151 block5c_bn False\n",
      "152 block5c_activation False\n",
      "153 block5c_se_squeeze False\n",
      "154 block5c_se_reshape False\n",
      "155 block5c_se_reduce False\n",
      "156 block5c_se_expand False\n",
      "157 block5c_se_excite False\n",
      "158 block5c_project_conv False\n",
      "159 block5c_project_bn False\n",
      "160 block5c_drop False\n",
      "161 block5c_add False\n",
      "162 block6a_expand_conv False\n",
      "163 block6a_expand_bn False\n",
      "164 block6a_expand_activation False\n",
      "165 block6a_dwconv_pad False\n",
      "166 block6a_dwconv False\n",
      "167 block6a_bn False\n",
      "168 block6a_activation False\n",
      "169 block6a_se_squeeze False\n",
      "170 block6a_se_reshape False\n",
      "171 block6a_se_reduce False\n",
      "172 block6a_se_expand False\n",
      "173 block6a_se_excite False\n",
      "174 block6a_project_conv False\n",
      "175 block6a_project_bn False\n",
      "176 block6b_expand_conv False\n",
      "177 block6b_expand_bn False\n",
      "178 block6b_expand_activation False\n",
      "179 block6b_dwconv False\n",
      "180 block6b_bn False\n",
      "181 block6b_activation False\n",
      "182 block6b_se_squeeze False\n",
      "183 block6b_se_reshape False\n",
      "184 block6b_se_reduce False\n",
      "185 block6b_se_expand False\n",
      "186 block6b_se_excite False\n",
      "187 block6b_project_conv False\n",
      "188 block6b_project_bn False\n",
      "189 block6b_drop False\n",
      "190 block6b_add False\n",
      "191 block6c_expand_conv False\n",
      "192 block6c_expand_bn False\n",
      "193 block6c_expand_activation False\n",
      "194 block6c_dwconv False\n",
      "195 block6c_bn False\n",
      "196 block6c_activation False\n",
      "197 block6c_se_squeeze False\n",
      "198 block6c_se_reshape False\n",
      "199 block6c_se_reduce False\n",
      "200 block6c_se_expand False\n",
      "201 block6c_se_excite False\n",
      "202 block6c_project_conv False\n",
      "203 block6c_project_bn False\n",
      "204 block6c_drop False\n",
      "205 block6c_add False\n",
      "206 block6d_expand_conv False\n",
      "207 block6d_expand_bn False\n",
      "208 block6d_expand_activation False\n",
      "209 block6d_dwconv False\n",
      "210 block6d_bn False\n",
      "211 block6d_activation False\n",
      "212 block6d_se_squeeze False\n",
      "213 block6d_se_reshape False\n",
      "214 block6d_se_reduce False\n",
      "215 block6d_se_expand False\n",
      "216 block6d_se_excite False\n",
      "217 block6d_project_conv False\n",
      "218 block6d_project_bn False\n",
      "219 block6d_drop False\n",
      "220 block6d_add False\n",
      "221 block7a_expand_conv False\n",
      "222 block7a_expand_bn False\n",
      "223 block7a_expand_activation False\n",
      "224 block7a_dwconv False\n",
      "225 block7a_bn False\n",
      "226 block7a_activation False\n",
      "227 block7a_se_squeeze True\n",
      "228 block7a_se_reshape True\n",
      "229 block7a_se_reduce True\n",
      "230 block7a_se_expand True\n",
      "231 block7a_se_excite True\n",
      "232 block7a_project_conv True\n",
      "233 block7a_project_bn True\n",
      "234 top_conv True\n",
      "235 top_bn True\n",
      "236 top_activation True\n"
     ]
    }
   ],
   "source": [
    "# Check which layers are tunable\n",
    "for layer_number, layer in enumerate(model_2.layers[2].layers):\n",
    "    print(layer_number, layer.name, layer.trainable)"
   ]
  },
  {
   "cell_type": "code",
   "execution_count": 26,
   "metadata": {},
   "outputs": [
    {
     "name": "stdout",
     "output_type": "stream",
     "text": [
      "12\n"
     ]
    }
   ],
   "source": [
    "# Checking trainable variable after unfrezzein some layers\n",
    "print(len(model_2.trainable_variables))"
   ]
  },
  {
   "cell_type": "code",
   "execution_count": 27,
   "metadata": {},
   "outputs": [
    {
     "name": "stdout",
     "output_type": "stream",
     "text": [
      "Saving TensorBoard log files to: transfer_learning/10_percent_fine_tune_last_10/20220617-212659\n",
      "Epoch 5/10\n",
      "24/24 [==============================] - 12s 325ms/step - loss: 0.6869 - accuracy: 0.8147 - val_loss: 0.5577 - val_accuracy: 0.8092\n",
      "Epoch 6/10\n",
      "24/24 [==============================] - 6s 240ms/step - loss: 0.5752 - accuracy: 0.8120 - val_loss: 0.5230 - val_accuracy: 0.8273\n",
      "Epoch 7/10\n",
      "24/24 [==============================] - 6s 245ms/step - loss: 0.5037 - accuracy: 0.8480 - val_loss: 0.5135 - val_accuracy: 0.8273\n",
      "Epoch 8/10\n",
      "24/24 [==============================] - 6s 254ms/step - loss: 0.4621 - accuracy: 0.8560 - val_loss: 0.5008 - val_accuracy: 0.8224\n",
      "Epoch 9/10\n",
      "24/24 [==============================] - 5s 216ms/step - loss: 0.4154 - accuracy: 0.8840 - val_loss: 0.4847 - val_accuracy: 0.8421\n",
      "Epoch 10/10\n",
      "24/24 [==============================] - 5s 224ms/step - loss: 0.3721 - accuracy: 0.8867 - val_loss: 0.4655 - val_accuracy: 0.8322\n"
     ]
    }
   ],
   "source": [
    "# Fine tune for another 5 epochs\n",
    "fine_tune_epochs = initial_epochs + 5\n",
    "\n",
    "# Refit the model\n",
    "history_fine_10_percent_data_aug = model_2.fit(train_10_percent_data,\n",
    "                                            epochs=fine_tune_epochs,\n",
    "                                            validation_data=test_data,\n",
    "                                            validation_steps=int(0.25 * len(test_data)),\n",
    "                                            initial_epoch=history_model_2.epoch[-1],\n",
    "                                            callbacks=[create_tensorboard_callback(dir_name=\"transfer_learning\", experiment_name=\"10_percent_fine_tune_last_10\")])\n"
   ]
  },
  {
   "cell_type": "code",
   "execution_count": 28,
   "metadata": {},
   "outputs": [
    {
     "name": "stdout",
     "output_type": "stream",
     "text": [
      "79/79 [==============================] - 5s 56ms/step - loss: 0.4859 - accuracy: 0.8372\n"
     ]
    }
   ],
   "source": [
    "# Evaluate the fine-tuned model \n",
    "results_fine_tune_10_percent = model_2.evaluate(test_data)"
   ]
  },
  {
   "cell_type": "code",
   "execution_count": 29,
   "metadata": {},
   "outputs": [
    {
     "data": {
      "image/png": "[encoded data removed]",
      "text/plain": [
       "<Figure size 432x288 with 1 Axes>"
      ]
     },
     "metadata": {
      "needs_background": "light"
     },
     "output_type": "display_data"
    },
    {
     "data": {
      "image/png": "[encoded data removed]",
      "text/plain": [
       "<Figure size 432x288 with 1 Axes>"
      ]
     },
     "metadata": {
      "needs_background": "light"
     },
     "output_type": "display_data"
    }
   ],
   "source": [
    "# Check out plot loss curves\n",
    "plot_loss_curves(history_fine_10_percent_data_aug)"
   ]
  },
  {
   "cell_type": "code",
   "execution_count": 30,
   "metadata": {},
   "outputs": [],
   "source": [
    "# Create a function to compate training histories\n",
    "def compare_histories(original_history, new_history, initial_epochs=5):\n",
    "    \"\"\"\n",
    "    Compares two TensorFlow History objects\n",
    "    \"\"\"\n",
    "    # Get original history measurements\n",
    "    acc = original_history.history[\"accuracy\"]\n",
    "    loss = original_history.history[\"loss\"]\n",
    "                                    \n",
    "    val_acc = original_history.history[\"val_accuracy\"]\n",
    "    val_loss = original_history.history[\"val_loss\"]\n",
    "    \n",
    "    # combine original history\n",
    "    total_acc = acc + new_history.history[\"accuracy\"]\n",
    "    total_loss = loss + new_history.history[\"loss\"]\n",
    "    \n",
    "    total_val_acc = val_acc + new_history.history[\"val_accuracy\"]\n",
    "    total_val_loss = val_loss + new_history.history[\"val_loss\"]\n",
    "    \n",
    "    # Make plot for accuracy\n",
    "    plt.figure(figsize=(8, 8))\n",
    "    plt.subplot(2, 1, 1)\n",
    "    plt.plot(total_acc, label=\"Training Accuracy\")\n",
    "    plt.plot(total_val_acc, label=\"Val Accuracy\")\n",
    "    plt.plot([initial_epochs - 1, initial_epochs - 1], plt.ylim(), label=\"Start Fine Tuning\")\n",
    "    plt.legend(loc=\"lower right\")\n",
    "    plt.title(\"Training and Validation Accuracy\")\n",
    "    \n",
    "    # Make plot for loss\n",
    "    plt.figure(figsize=(8, 8))\n",
    "    plt.subplot(2, 1, 1)\n",
    "    plt.plot(total_loss, label=\"Training Loss\")\n",
    "    plt.plot(total_val_loss, label=\"Val Loss\")\n",
    "    plt.plot([initial_epochs - 1, initial_epochs - 1], plt.ylim(), label=\"Start Fine Tuning\")\n",
    "    plt.legend(loc=\"upper right\")\n",
    "    plt.title(\"Training and Validation loss\")"
   ]
  },
  {
   "cell_type": "code",
   "execution_count": 33,
   "metadata": {},
   "outputs": [
    {
     "data": {
      "image/png": "[encoded data removed]",
      "text/plain": [
       "<Figure size 576x576 with 1 Axes>"
      ]
     },
     "metadata": {
      "needs_background": "light"
     },
     "output_type": "display_data"
    },
    {
     "data": {
      "image/png": "[encoded data removed]",
      "text/plain": [
       "<Figure size 576x576 with 1 Axes>"
      ]
     },
     "metadata": {
      "needs_background": "light"
     },
     "output_type": "display_data"
    }
   ],
   "source": [
    "compare_histories(history_model_2, history_fine_10_percent_data_aug, initial_epochs=5)"
   ]
  },
  {
   "cell_type": "markdown",
   "metadata": {
    "tags": []
   },
   "source": [
    "# Model 4: Fine tuning existing model on 100% data"
   ]
  },
  {
   "cell_type": "code",
   "execution_count": 35,
   "metadata": {},
   "outputs": [
    {
     "name": "stdout",
     "output_type": "stream",
     "text": [
      "\n",
      "Saved under 10_food_classes_all_data.zip\n"
     ]
    }
   ],
   "source": [
    "# Download and unzip 10 classes of Food101 data with all images\n",
    "!python -m wget https://storage.googleapis.com/ztm_tf_course/food_vision/10_food_classes_all_data.zip\n",
    "\n",
    "unzip_data(\"10_food_classes_all_data.zip\")"
   ]
  },
  {
   "cell_type": "code",
   "execution_count": 36,
   "metadata": {},
   "outputs": [],
   "source": [
    "# print training and test dir\n",
    "train_dir_all_data = \"10_food_classes_all_data/train\"\n",
    "test_dir = \"10_food_classes_all_data/test\""
   ]
  },
  {
   "cell_type": "code",
   "execution_count": 37,
   "metadata": {},
   "outputs": [
    {
     "name": "stdout",
     "output_type": "stream",
     "text": [
      "There are 2 directories and 0 images in '10_food_classes_all_data'.\n",
      "There are 10 directories and 0 images in '10_food_classes_all_data\\test'.\n",
      "There are 0 directories and 250 images in '10_food_classes_all_data\\test\\chicken_curry'.\n",
      "There are 0 directories and 250 images in '10_food_classes_all_data\\test\\chicken_wings'.\n",
      "There are 0 directories and 250 images in '10_food_classes_all_data\\test\\fried_rice'.\n",
      "There are 0 directories and 250 images in '10_food_classes_all_data\\test\\grilled_salmon'.\n",
      "There are 0 directories and 250 images in '10_food_classes_all_data\\test\\hamburger'.\n",
      "There are 0 directories and 250 images in '10_food_classes_all_data\\test\\ice_cream'.\n",
      "There are 0 directories and 250 images in '10_food_classes_all_data\\test\\pizza'.\n",
      "There are 0 directories and 250 images in '10_food_classes_all_data\\test\\ramen'.\n",
      "There are 0 directories and 250 images in '10_food_classes_all_data\\test\\steak'.\n",
      "There are 0 directories and 250 images in '10_food_classes_all_data\\test\\sushi'.\n",
      "There are 10 directories and 0 images in '10_food_classes_all_data\\train'.\n",
      "There are 0 directories and 750 images in '10_food_classes_all_data\\train\\chicken_curry'.\n",
      "There are 0 directories and 750 images in '10_food_classes_all_data\\train\\chicken_wings'.\n",
      "There are 0 directories and 750 images in '10_food_classes_all_data\\train\\fried_rice'.\n",
      "There are 0 directories and 750 images in '10_food_classes_all_data\\train\\grilled_salmon'.\n",
      "There are 0 directories and 750 images in '10_food_classes_all_data\\train\\hamburger'.\n",
      "There are 0 directories and 750 images in '10_food_classes_all_data\\train\\ice_cream'.\n",
      "There are 0 directories and 750 images in '10_food_classes_all_data\\train\\pizza'.\n",
      "There are 0 directories and 750 images in '10_food_classes_all_data\\train\\ramen'.\n",
      "There are 0 directories and 750 images in '10_food_classes_all_data\\train\\steak'.\n",
      "There are 0 directories and 750 images in '10_food_classes_all_data\\train\\sushi'.\n"
     ]
    }
   ],
   "source": [
    "# How many images are we working with\n",
    "walk_through_dir(\"10_food_classes_all_data\")"
   ]
  },
  {
   "cell_type": "code",
   "execution_count": 38,
   "metadata": {},
   "outputs": [
    {
     "name": "stdout",
     "output_type": "stream",
     "text": [
      "Found 7500 files belonging to 10 classes.\n",
      "Found 2500 files belonging to 10 classes.\n"
     ]
    }
   ],
   "source": [
    "# Setup data inputs\n",
    "import tensorflow as tf\n",
    "\n",
    "IMG_SIZE = (224, 224)\n",
    "\n",
    "train_data_10_classes_full = tf.keras.preprocessing.image_dataset_from_directory(train_dir_all_data,\n",
    "                                                                                image_size=IMG_SIZE,\n",
    "                                                                                label_mode=\"categorical\")\n",
    "\n",
    "test_data = tf.keras.preprocessing.image_dataset_from_directory(test_dir,\n",
    "                                                               image_size=IMG_SIZE,\n",
    "                                                               label_mode=\"categorical\")"
   ]
  },
  {
   "cell_type": "code",
   "execution_count": 40,
   "metadata": {},
   "outputs": [
    {
     "name": "stdout",
     "output_type": "stream",
     "text": [
      "79/79 [==============================] - 5s 58ms/step - loss: 0.4859 - accuracy: 0.8372\n"
     ]
    },
    {
     "data": {
      "text/plain": [
       "[0.48592621088027954, 0.8371999859809875]"
      ]
     },
     "execution_count": 40,
     "metadata": {},
     "output_type": "execute_result"
    }
   ],
   "source": [
    "# Evaluate model 2\n",
    "model_2.evaluate(test_data)"
   ]
  },
  {
   "cell_type": "code",
   "execution_count": 41,
   "metadata": {},
   "outputs": [
    {
     "data": {
      "text/plain": [
       "[0.4859263300895691, 0.8371999859809875]"
      ]
     },
     "execution_count": 41,
     "metadata": {},
     "output_type": "execute_result"
    }
   ],
   "source": [
    "results_fine_tune_10_percent"
   ]
  },
  {
   "cell_type": "code",
   "execution_count": 42,
   "metadata": {},
   "outputs": [
    {
     "data": {
      "text/plain": [
       "<tensorflow.python.training.tracking.util.CheckpointLoadStatus at 0x1a0eb927280>"
      ]
     },
     "execution_count": 42,
     "metadata": {},
     "output_type": "execute_result"
    }
   ],
   "source": [
    "# Load checkpoint weights to remove fine tuned version\n",
    "model_2.load_weights(checkpoint_path)"
   ]
  },
  {
   "cell_type": "code",
   "execution_count": 44,
   "metadata": {},
   "outputs": [
    {
     "name": "stdout",
     "output_type": "stream",
     "text": [
      "79/79 [==============================] - 5s 58ms/step - loss: 0.7141 - accuracy: 0.8032\n"
     ]
    },
    {
     "data": {
      "text/plain": [
       "[0.7141461372375488, 0.8032000064849854]"
      ]
     },
     "execution_count": 44,
     "metadata": {},
     "output_type": "execute_result"
    }
   ],
   "source": [
    "# After removing fine tuning, accuracy is low and loss is high\n",
    "model_2.evaluate(test_data)"
   ]
  },
  {
   "cell_type": "code",
   "execution_count": 46,
   "metadata": {},
   "outputs": [
    {
     "data": {
      "text/plain": [
       "[0.7141463160514832, 0.8032000064849854]"
      ]
     },
     "execution_count": 46,
     "metadata": {},
     "output_type": "execute_result"
    }
   ],
   "source": [
    "# compare it to original evaluation of model_2\n",
    "result_10_percent_data_aug"
   ]
  },
  {
   "cell_type": "code",
   "execution_count": 47,
   "metadata": {},
   "outputs": [
    {
     "name": "stdout",
     "output_type": "stream",
     "text": [
      "0 input_layer True\n",
      "1 data_augmentation True\n",
      "2 efficientnetb0 True\n",
      "3 global_average_pooling2d True\n",
      "4 output_layer True\n"
     ]
    }
   ],
   "source": [
    "# Check which layers are tunable in model-2\n",
    "\n",
    "for layer_number, layer in enumerate(model_2.layers):\n",
    "    print(layer_number, layer.name, layer.trainable)"
   ]
  },
  {
   "cell_type": "code",
   "execution_count": 50,
   "metadata": {},
   "outputs": [
    {
     "name": "stdout",
     "output_type": "stream",
     "text": [
      "0 input_1 False\n",
      "1 rescaling False\n",
      "2 normalization False\n",
      "3 stem_conv_pad False\n",
      "4 stem_conv False\n",
      "5 stem_bn False\n",
      "6 stem_activation False\n",
      "7 block1a_dwconv False\n",
      "8 block1a_bn False\n",
      "9 block1a_activation False\n",
      "10 block1a_se_squeeze False\n",
      "11 block1a_se_reshape False\n",
      "12 block1a_se_reduce False\n",
      "13 block1a_se_expand False\n",
      "14 block1a_se_excite False\n",
      "15 block1a_project_conv False\n",
      "16 block1a_project_bn False\n",
      "17 block2a_expand_conv False\n",
      "18 block2a_expand_bn False\n",
      "19 block2a_expand_activation False\n",
      "20 block2a_dwconv_pad False\n",
      "21 block2a_dwconv False\n",
      "22 block2a_bn False\n",
      "23 block2a_activation False\n",
      "24 block2a_se_squeeze False\n",
      "25 block2a_se_reshape False\n",
      "26 block2a_se_reduce False\n",
      "27 block2a_se_expand False\n",
      "28 block2a_se_excite False\n",
      "29 block2a_project_conv False\n",
      "30 block2a_project_bn False\n",
      "31 block2b_expand_conv False\n",
      "32 block2b_expand_bn False\n",
      "33 block2b_expand_activation False\n",
      "34 block2b_dwconv False\n",
      "35 block2b_bn False\n",
      "36 block2b_activation False\n",
      "37 block2b_se_squeeze False\n",
      "38 block2b_se_reshape False\n",
      "39 block2b_se_reduce False\n",
      "40 block2b_se_expand False\n",
      "41 block2b_se_excite False\n",
      "42 block2b_project_conv False\n",
      "43 block2b_project_bn False\n",
      "44 block2b_drop False\n",
      "45 block2b_add False\n",
      "46 block3a_expand_conv False\n",
      "47 block3a_expand_bn False\n",
      "48 block3a_expand_activation False\n",
      "49 block3a_dwconv_pad False\n",
      "50 block3a_dwconv False\n",
      "51 block3a_bn False\n",
      "52 block3a_activation False\n",
      "53 block3a_se_squeeze False\n",
      "54 block3a_se_reshape False\n",
      "55 block3a_se_reduce False\n",
      "56 block3a_se_expand False\n",
      "57 block3a_se_excite False\n",
      "58 block3a_project_conv False\n",
      "59 block3a_project_bn False\n",
      "60 block3b_expand_conv False\n",
      "61 block3b_expand_bn False\n",
      "62 block3b_expand_activation False\n",
      "63 block3b_dwconv False\n",
      "64 block3b_bn False\n",
      "65 block3b_activation False\n",
      "66 block3b_se_squeeze False\n",
      "67 block3b_se_reshape False\n",
      "68 block3b_se_reduce False\n",
      "69 block3b_se_expand False\n",
      "70 block3b_se_excite False\n",
      "71 block3b_project_conv False\n",
      "72 block3b_project_bn False\n",
      "73 block3b_drop False\n",
      "74 block3b_add False\n",
      "75 block4a_expand_conv False\n",
      "76 block4a_expand_bn False\n",
      "77 block4a_expand_activation False\n",
      "78 block4a_dwconv_pad False\n",
      "79 block4a_dwconv False\n",
      "80 block4a_bn False\n",
      "81 block4a_activation False\n",
      "82 block4a_se_squeeze False\n",
      "83 block4a_se_reshape False\n",
      "84 block4a_se_reduce False\n",
      "85 block4a_se_expand False\n",
      "86 block4a_se_excite False\n",
      "87 block4a_project_conv False\n",
      "88 block4a_project_bn False\n",
      "89 block4b_expand_conv False\n",
      "90 block4b_expand_bn False\n",
      "91 block4b_expand_activation False\n",
      "92 block4b_dwconv False\n",
      "93 block4b_bn False\n",
      "94 block4b_activation False\n",
      "95 block4b_se_squeeze False\n",
      "96 block4b_se_reshape False\n",
      "97 block4b_se_reduce False\n",
      "98 block4b_se_expand False\n",
      "99 block4b_se_excite False\n",
      "100 block4b_project_conv False\n",
      "101 block4b_project_bn False\n",
      "102 block4b_drop False\n",
      "103 block4b_add False\n",
      "104 block4c_expand_conv False\n",
      "105 block4c_expand_bn False\n",
      "106 block4c_expand_activation False\n",
      "107 block4c_dwconv False\n",
      "108 block4c_bn False\n",
      "109 block4c_activation False\n",
      "110 block4c_se_squeeze False\n",
      "111 block4c_se_reshape False\n",
      "112 block4c_se_reduce False\n",
      "113 block4c_se_expand False\n",
      "114 block4c_se_excite False\n",
      "115 block4c_project_conv False\n",
      "116 block4c_project_bn False\n",
      "117 block4c_drop False\n",
      "118 block4c_add False\n",
      "119 block5a_expand_conv False\n",
      "120 block5a_expand_bn False\n",
      "121 block5a_expand_activation False\n",
      "122 block5a_dwconv False\n",
      "123 block5a_bn False\n",
      "124 block5a_activation False\n",
      "125 block5a_se_squeeze False\n",
      "126 block5a_se_reshape False\n",
      "127 block5a_se_reduce False\n",
      "128 block5a_se_expand False\n",
      "129 block5a_se_excite False\n",
      "130 block5a_project_conv False\n",
      "131 block5a_project_bn False\n",
      "132 block5b_expand_conv False\n",
      "133 block5b_expand_bn False\n",
      "134 block5b_expand_activation False\n",
      "135 block5b_dwconv False\n",
      "136 block5b_bn False\n",
      "137 block5b_activation False\n",
      "138 block5b_se_squeeze False\n",
      "139 block5b_se_reshape False\n",
      "140 block5b_se_reduce False\n",
      "141 block5b_se_expand False\n",
      "142 block5b_se_excite False\n",
      "143 block5b_project_conv False\n",
      "144 block5b_project_bn False\n",
      "145 block5b_drop False\n",
      "146 block5b_add False\n",
      "147 block5c_expand_conv False\n",
      "148 block5c_expand_bn False\n",
      "149 block5c_expand_activation False\n",
      "150 block5c_dwconv False\n",
      "151 block5c_bn False\n",
      "152 block5c_activation False\n",
      "153 block5c_se_squeeze False\n",
      "154 block5c_se_reshape False\n",
      "155 block5c_se_reduce False\n",
      "156 block5c_se_expand False\n",
      "157 block5c_se_excite False\n",
      "158 block5c_project_conv False\n",
      "159 block5c_project_bn False\n",
      "160 block5c_drop False\n",
      "161 block5c_add False\n",
      "162 block6a_expand_conv False\n",
      "163 block6a_expand_bn False\n",
      "164 block6a_expand_activation False\n",
      "165 block6a_dwconv_pad False\n",
      "166 block6a_dwconv False\n",
      "167 block6a_bn False\n",
      "168 block6a_activation False\n",
      "169 block6a_se_squeeze False\n",
      "170 block6a_se_reshape False\n",
      "171 block6a_se_reduce False\n",
      "172 block6a_se_expand False\n",
      "173 block6a_se_excite False\n",
      "174 block6a_project_conv False\n",
      "175 block6a_project_bn False\n",
      "176 block6b_expand_conv False\n",
      "177 block6b_expand_bn False\n",
      "178 block6b_expand_activation False\n",
      "179 block6b_dwconv False\n",
      "180 block6b_bn False\n",
      "181 block6b_activation False\n",
      "182 block6b_se_squeeze False\n",
      "183 block6b_se_reshape False\n",
      "184 block6b_se_reduce False\n",
      "185 block6b_se_expand False\n",
      "186 block6b_se_excite False\n",
      "187 block6b_project_conv False\n",
      "188 block6b_project_bn False\n",
      "189 block6b_drop False\n",
      "190 block6b_add False\n",
      "191 block6c_expand_conv False\n",
      "192 block6c_expand_bn False\n",
      "193 block6c_expand_activation False\n",
      "194 block6c_dwconv False\n",
      "195 block6c_bn False\n",
      "196 block6c_activation False\n",
      "197 block6c_se_squeeze False\n",
      "198 block6c_se_reshape False\n",
      "199 block6c_se_reduce False\n",
      "200 block6c_se_expand False\n",
      "201 block6c_se_excite False\n",
      "202 block6c_project_conv False\n",
      "203 block6c_project_bn False\n",
      "204 block6c_drop False\n",
      "205 block6c_add False\n",
      "206 block6d_expand_conv False\n",
      "207 block6d_expand_bn False\n",
      "208 block6d_expand_activation False\n",
      "209 block6d_dwconv False\n",
      "210 block6d_bn False\n",
      "211 block6d_activation False\n",
      "212 block6d_se_squeeze False\n",
      "213 block6d_se_reshape False\n",
      "214 block6d_se_reduce False\n",
      "215 block6d_se_expand False\n",
      "216 block6d_se_excite False\n",
      "217 block6d_project_conv False\n",
      "218 block6d_project_bn False\n",
      "219 block6d_drop False\n",
      "220 block6d_add False\n",
      "221 block7a_expand_conv False\n",
      "222 block7a_expand_bn False\n",
      "223 block7a_expand_activation False\n",
      "224 block7a_dwconv False\n",
      "225 block7a_bn False\n",
      "226 block7a_activation False\n",
      "227 block7a_se_squeeze True\n",
      "228 block7a_se_reshape True\n",
      "229 block7a_se_reduce True\n",
      "230 block7a_se_expand True\n",
      "231 block7a_se_excite True\n",
      "232 block7a_project_conv True\n",
      "233 block7a_project_bn True\n",
      "234 top_conv True\n",
      "235 top_bn True\n",
      "236 top_activation True\n"
     ]
    }
   ],
   "source": [
    "# Check the same for EfficientNetB0\n",
    "\n",
    "for layer_number, layer in enumerate(model_2.layers[2].layers):\n",
    "    print(layer_number, layer.name, layer.trainable)"
   ]
  },
  {
   "cell_type": "code",
   "execution_count": 52,
   "metadata": {},
   "outputs": [],
   "source": [
    "# Compile the model\n",
    "model_2.compile(loss=\"categorical_crossentropy\",\n",
    "               optimizer=tf.keras.optimizers.Adam(learning_rate=0.0001),\n",
    "               metrics=[\"accuracy\"])"
   ]
  },
  {
   "cell_type": "code",
   "execution_count": 61,
   "metadata": {},
   "outputs": [
    {
     "name": "stdout",
     "output_type": "stream",
     "text": [
      "Saving TensorBoard log files to: transfer_learning/full_10_classes_fine_tune_last_10/20220617-221001\n",
      "Epoch 5/10\n",
      "235/235 [==============================] - 26s 109ms/step - loss: 0.3904 - accuracy: 0.8715 - val_loss: 0.3279 - val_accuracy: 0.9079\n",
      "Epoch 6/10\n",
      "235/235 [==============================] - 25s 105ms/step - loss: 0.3728 - accuracy: 0.8744 - val_loss: 0.3531 - val_accuracy: 0.8964\n",
      "Epoch 7/10\n",
      "235/235 [==============================] - 25s 108ms/step - loss: 0.3534 - accuracy: 0.8849 - val_loss: 0.3278 - val_accuracy: 0.8964\n",
      "Epoch 8/10\n",
      "235/235 [==============================] - 26s 111ms/step - loss: 0.3315 - accuracy: 0.8972 - val_loss: 0.3127 - val_accuracy: 0.9030\n",
      "Epoch 9/10\n",
      "235/235 [==============================] - 25s 105ms/step - loss: 0.3176 - accuracy: 0.8971 - val_loss: 0.3237 - val_accuracy: 0.8980\n",
      "Epoch 10/10\n",
      "235/235 [==============================] - 24s 104ms/step - loss: 0.2944 - accuracy: 0.9061 - val_loss: 0.3335 - val_accuracy: 0.8947\n"
     ]
    }
   ],
   "source": [
    "# Continue to train and fit the model\n",
    "fine_tune_epochs = initial_epochs + 5\n",
    "\n",
    "history_fine_10_classes_full = model_2.fit(train_data_10_classes_full,\n",
    "                                         epochs=fine_tune_epochs,\n",
    "                                         validation_data=test_data,\n",
    "                                         validation_steps=int(0.25*len(test_data)),\n",
    "                                         initial_epoch=history_model_2.epoch[-1],\n",
    "                                         callbacks=[create_tensorboard_callback(dir_name=\"transfer_learning\",\n",
    "                                                                               experiment_name=\"full_10_classes_fine_tune_last_10\")])"
   ]
  },
  {
   "cell_type": "markdown",
   "metadata": {},
   "source": [
    "model_3 end: loss: 0.3721 - accuracy: 0.8867 - val_loss: 0.4655 - val_accuracy: 0.8322"
   ]
  },
  {
   "cell_type": "code",
   "execution_count": 62,
   "metadata": {},
   "outputs": [
    {
     "name": "stdout",
     "output_type": "stream",
     "text": [
      "79/79 [==============================] - 5s 55ms/step - loss: 0.3216 - accuracy: 0.8972\n"
     ]
    }
   ],
   "source": [
    "# Evaluate on all the data\n",
    "result_fine_tune_full_data = model_2.evaluate(test_data)"
   ]
  },
  {
   "cell_type": "code",
   "execution_count": 63,
   "metadata": {},
   "outputs": [
    {
     "data": {
      "image/png": "[encoded data removed]",
      "text/plain": [
       "<Figure size 576x576 with 1 Axes>"
      ]
     },
     "metadata": {
      "needs_background": "light"
     },
     "output_type": "display_data"
    },
    {
     "data": {
      "image/png": "[encoded data removed]",
      "text/plain": [
       "<Figure size 576x576 with 1 Axes>"
      ]
     },
     "metadata": {
      "needs_background": "light"
     },
     "output_type": "display_data"
    }
   ],
   "source": [
    "# Compare fine tuning with all data vs 10% data\n",
    "compare_histories(original_history=history_fine_10_percent_data_aug,\n",
    "                 new_history=history_fine_10_classes_full,\n",
    "                 initial_epochs=5)"
   ]
  },
  {
   "cell_type": "markdown",
   "metadata": {},
   "source": [
    "# View our expermients data on TensorBoard"
   ]
  },
  {
   "cell_type": "code",
   "execution_count": 70,
   "metadata": {},
   "outputs": [
    {
     "name": "stdout",
     "output_type": "stream",
     "text": [
      "^C\n"
     ]
    }
   ],
   "source": [
    "# View tensorboard logs of transfer learning modelling experments\n",
    "# Upload TensorBoard logs\n",
    "!tensorboard dev upload --logdir ./transfer_learning --name \"Transfer learning experiments\" --description \"Experments\" --one_shot\n"
   ]
  },
  {
   "cell_type": "code",
   "execution_count": null,
   "metadata": {},
   "outputs": [],
   "source": []
  }
 ],
 "metadata": {
  "accelerator": "GPU",
  "colab": {
   "authorship_tag": "ABX9TyMTPExneOQ42uG+gzzahI4I",
   "name": "transfer_learning_part_2_fine_tuning.ipynb",
   "provenance": []
  },
  "kernelspec": {
   "display_name": "tensorflow",
   "language": "python",
   "name": "tensorflow"
  },
  "language_info": {
   "codemirror_mode": {
    "name": "ipython",
    "version": 3
   },
   "file_extension": ".py",
   "mimetype": "text/x-python",
   "name": "python",
   "nbconvert_exporter": "python",
   "pygments_lexer": "ipython3",
   "version": "3.10.4"
  }
 },
 "nbformat": 4,
 "nbformat_minor": 4
}
