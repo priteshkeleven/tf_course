{
  "nbformat": 4,
  "nbformat_minor": 5,
  "metadata": {
    "kernelspec": {
      "name": "python3",
      "display_name": "Python 3"
    },
    "colab": {
      "name": "compueter_vision_and_cnn.ipynb",
      "provenance": []
    },
    "language_info": {
      "name": "python"
    },
    "accelerator": "GPU"
  },
  "cells": [
    {
      "cell_type": "markdown",
      "metadata": {
        "id": "wAgZsqdIet6X"
      },
      "source": [
        "# Get the data"
      ],
      "id": "wAgZsqdIet6X"
    },
    {
      "cell_type": "code",
      "metadata": {
        "id": "WDjZhQS0tq57"
      },
      "source": [
        "import tensorflow as tf\n",
        "import pandas as pd"
      ],
      "id": "WDjZhQS0tq57",
      "execution_count": 2,
      "outputs": []
    },
    {
      "cell_type": "code",
      "metadata": {
        "colab": {
          "base_uri": "https://localhost:8080/"
        },
        "id": "749ce3a8",
        "outputId": "b2386087-051b-4b0e-f86e-d21f56ea3d6c"
      },
      "source": [
        "import zipfile\n",
        "\n",
        "!wget https://storage.googleapis.com/ztm_tf_course/food_vision/pizza_steak.zip\n",
        "\n",
        "# unzip the downloaded file\n",
        "zip_ref = zipfile.ZipFile(\"pizza_steak.zip\")\n",
        "zip_ref.extractall()\n",
        "zip_ref.close()"
      ],
      "id": "749ce3a8",
      "execution_count": 3,
      "outputs": [
        {
          "output_type": "stream",
          "text": [
            "--2021-06-18 12:32:23--  https://storage.googleapis.com/ztm_tf_course/food_vision/pizza_steak.zip\n",
            "Resolving storage.googleapis.com (storage.googleapis.com)... 74.125.142.128, 74.125.195.128, 74.125.197.128, ...\n",
            "Connecting to storage.googleapis.com (storage.googleapis.com)|74.125.142.128|:443... connected.\n",
            "HTTP request sent, awaiting response... 200 OK\n",
            "Length: 109579078 (105M) [application/zip]\n",
            "Saving to: ‘pizza_steak.zip’\n",
            "\n",
            "pizza_steak.zip     100%[===================>] 104.50M   267MB/s    in 0.4s    \n",
            "\n",
            "2021-06-18 12:32:23 (267 MB/s) - ‘pizza_steak.zip’ saved [109579078/109579078]\n",
            "\n"
          ],
          "name": "stdout"
        }
      ]
    },
    {
      "cell_type": "markdown",
      "metadata": {
        "id": "gRdYDzBGgmPN"
      },
      "source": [
        "## Inspect the data"
      ],
      "id": "gRdYDzBGgmPN"
    },
    {
      "cell_type": "code",
      "metadata": {
        "colab": {
          "base_uri": "https://localhost:8080/"
        },
        "id": "C1N50dZlfjX_",
        "outputId": "c5a13df6-919e-4037-b2df-d2848b01e34c"
      },
      "source": [
        "!ls pizza_steak/test/pizza"
      ],
      "id": "C1N50dZlfjX_",
      "execution_count": 4,
      "outputs": [
        {
          "output_type": "stream",
          "text": [
            "1001116.jpg  1507019.jpg  2242047.jpg  2944567.jpg  3669673.jpg  556507.jpg\n",
            "1032754.jpg  1512557.jpg  22489.jpg    296426.jpg   3724187.jpg  565112.jpg\n",
            "103708.jpg   153195.jpg   2250611.jpg  2971095.jpg  3724353.jpg  573054.jpg\n",
            "1060407.jpg  1555015.jpg  226472.jpg   2992605.jpg  3724416.jpg  614236.jpg\n",
            "106507.jpg   1594097.jpg  2265512.jpg  2997525.jpg  3728155.jpg  614981.jpg\n",
            "1067986.jpg  1618659.jpg  2276783.jpg  300157.jpg   3729167.jpg  61656.jpg\n",
            "1106738.jpg  1636919.jpg  2296393.jpg  3042459.jpg  373847.jpg\t 625434.jpg\n",
            "1119571.jpg  1655630.jpg  2320458.jpg  3049449.jpg  3754474.jpg  645087.jpg\n",
            "11297.jpg    1686938.jpg  2323860.jpg  3092704.jpg  3758160.jpg  648055.jpg\n",
            "1152100.jpg  1687143.jpg  2343304.jpg  309892.jpg   376625.jpg\t 65128.jpg\n",
            "1179703.jpg  1691503.jpg  2392727.jpg  3174637.jpg  3770514.jpg  666569.jpg\n",
            "1180001.jpg  1694874.jpg  2398925.jpg  321526.jpg   3784357.jpg  678708.jpg\n",
            "1180273.jpg  1765727.jpg  2406842.jpg  3216107.jpg  3785667.jpg  714866.jpg\n",
            "1183595.jpg  177513.jpg   242976.jpg   3248869.jpg  3793004.jpg  723745.jpg\n",
            "1202689.jpg  1843754.jpg  2478048.jpg  324942.jpg   380739.jpg\t 724290.jpg\n",
            "121960.jpg   1895182.jpg  2478221.jpg  3261551.jpg  3814200.jpg  728260.jpg\n",
            "1220156.jpg  1925494.jpg  248199.jpg   3281205.jpg  3827990.jpg  729262.jpg\n",
            "1223284.jpg  194643.jpg   2508316.jpg  3282393.jpg  3898047.jpg  771336.jpg\n",
            "1226346.jpg  194784.jpg   2508636.jpg  328965.jpg   3913440.jpg  788315.jpg\n",
            "1228171.jpg  1949644.jpg  2514438.jpg  3296507.jpg  3919151.jpg  790058.jpg\n",
            "124815.jpg   195160.jpg   2517724.jpg  3296907.jpg  395662.jpg\t 796922.jpg\n",
            "1265335.jpg  1962101.jpg  2521769.jpg  3316410.jpg  397910.jpg\t 800546.jpg\n",
            "1275885.jpg  1980749.jpg  2542065.jpg  331644.jpg   398345.jpg\t 80750.jpg\n",
            "1280320.jpg  1983369.jpg  2543207.jpg  335474.jpg   398812.jpg\t 833711.jpg\n",
            "129666.jpg   1986128.jpg  254812.jpg   3375083.jpg  40449.jpg\t 837119.jpg\n",
            "1315645.jpg  1991586.jpg  2549661.jpg  3376617.jpg  415551.jpg\t 849291.jpg\n",
            "1342321.jpg  1999711.jpg  2572488.jpg  3385460.jpg  416067.jpg\t 852436.jpg\n",
            "1380247.jpg  2003290.jpg  2582289.jpg  3392194.jpg  418251.jpg\t 863509.jpg\n",
            "138961.jpg   2019408.jpg  2583389.jpg  341377.jpg   419962.jpg\t 89197.jpg\n",
            "1398213.jpg  204151.jpg   2605853.jpg  3430418.jpg  420409.jpg\t 897300.jpg\n",
            "139952.jpg   2082495.jpg  2615100.jpg  343480.jpg   430904.jpg\t 930553.jpg\n",
            "139987.jpg   2101820.jpg  2619955.jpg  3442426.jpg  441659.jpg\t 94215.jpg\n",
            "140016.jpg   2111981.jpg  2631321.jpg  344397.jpg   447914.jpg\t 96357.jpg\n",
            "1412011.jpg  2124579.jpg  2719697.jpg  3456604.jpg  44810.jpg\t 969461.jpg\n",
            "1445608.jpg  212995.jpg   2782998.jpg  346091.jpg   457350.jpg\t 971934.jpg\n",
            "144631.jpg   2157510.jpg  2827154.jpg  3475871.jpg  476421.jpg\t 976107.jpg\n",
            "1459760.jpg  2161321.jpg  2841536.jpg  3486640.jpg  482858.jpg\t 979933.jpg\n",
            "1475479.jpg  2165223.jpg  2870405.jpg  3497151.jpg  513415.jpg\t 98607.jpg\n",
            "1484836.jpg  2195935.jpg  2871261.jpg  3581181.jpg  522543.jpg\t 99604.jpg\n",
            "148765.jpg   2203687.jpg  2880804.jpg  3586083.jpg  53217.jpg\t 998005.jpg\n",
            "1503858.jpg  2218680.jpg  2901001.jpg  3612981.jpg  537575.jpg\n",
            "1506213.jpg  2236338.jpg  293433.jpg   3650727.jpg  540882.jpg\n"
          ],
          "name": "stdout"
        }
      ]
    },
    {
      "cell_type": "code",
      "metadata": {
        "colab": {
          "base_uri": "https://localhost:8080/"
        },
        "id": "1AfTdsQlgzNc",
        "outputId": "a266a13d-0b68-4278-c44c-21c9c830d00f"
      },
      "source": [
        "import os\n",
        "\n",
        "# Walk through pizza_steak directory\n",
        "for dirpath, dirnames, filenames in os.walk(\"pizza_steak\"):\n",
        "  print(f\"There are {len(dirnames)} directories and {len(filenames)} images in '{dirpath}'\")"
      ],
      "id": "1AfTdsQlgzNc",
      "execution_count": 5,
      "outputs": [
        {
          "output_type": "stream",
          "text": [
            "There are 2 directories and 1 images in 'pizza_steak'\n",
            "There are 2 directories and 1 images in 'pizza_steak/test'\n",
            "There are 0 directories and 250 images in 'pizza_steak/test/pizza'\n",
            "There are 0 directories and 250 images in 'pizza_steak/test/steak'\n",
            "There are 2 directories and 1 images in 'pizza_steak/train'\n",
            "There are 0 directories and 750 images in 'pizza_steak/train/pizza'\n",
            "There are 0 directories and 750 images in 'pizza_steak/train/steak'\n"
          ],
          "name": "stdout"
        }
      ]
    },
    {
      "cell_type": "code",
      "metadata": {
        "colab": {
          "base_uri": "https://localhost:8080/"
        },
        "id": "h1LYhMRQhfcl",
        "outputId": "155f2966-618e-4dbf-9443-7af36bdc5081"
      },
      "source": [
        "num_steak_images_train = len(os.listdir(\"pizza_steak/train/steak\"))\n",
        "num_steak_images_train"
      ],
      "id": "h1LYhMRQhfcl",
      "execution_count": 6,
      "outputs": [
        {
          "output_type": "execute_result",
          "data": {
            "text/plain": [
              "750"
            ]
          },
          "metadata": {
            "tags": []
          },
          "execution_count": 6
        }
      ]
    },
    {
      "cell_type": "code",
      "metadata": {
        "colab": {
          "base_uri": "https://localhost:8080/"
        },
        "id": "r53StWKuil5T",
        "outputId": "650e4ba5-518f-4499-bbff-165f670164a4"
      },
      "source": [
        "# Get the classnames programmatically\n",
        "import pathlib\n",
        "import numpy as np\n",
        "\n",
        "data_dir = pathlib.Path(\"pizza_steak/train\")\n",
        "class_names = np.array(sorted([item.name for item in data_dir.glob(\"*\")]))\n",
        "class_names = class_names[1:]\n",
        "class_names"
      ],
      "id": "r53StWKuil5T",
      "execution_count": 7,
      "outputs": [
        {
          "output_type": "execute_result",
          "data": {
            "text/plain": [
              "array(['pizza', 'steak'], dtype='<U9')"
            ]
          },
          "metadata": {
            "tags": []
          },
          "execution_count": 7
        }
      ]
    },
    {
      "cell_type": "code",
      "metadata": {
        "id": "k70ZycbSjLrc"
      },
      "source": [
        "import matplotlib.pyplot as plt\n",
        "import matplotlib.image as mpimg\n",
        "import random\n",
        "\n",
        "def view_random_image(target_dir, target_class):\n",
        "  target_folder = target_dir + target_class\n",
        "  random_image = random.sample(os.listdir(target_folder), 1)\n",
        "\n",
        "  img = mpimg.imread(target_folder + \"/\" + random_image[0])\n",
        "  plt.imshow(img)\n",
        "  plt.title(target_class)\n",
        "  plt.axis(\"off\");\n",
        "\n",
        "  print(f\"Image shape: {img.shape}\")\n",
        "\n",
        "  return img"
      ],
      "id": "k70ZycbSjLrc",
      "execution_count": 8,
      "outputs": []
    },
    {
      "cell_type": "code",
      "metadata": {
        "id": "1C7hQ8KHs2pH",
        "outputId": "3ba19afe-1e61-4e9d-ce2a-a23fcbce4645",
        "colab": {
          "base_uri": "https://localhost:8080/",
          "height": 282
        }
      },
      "source": [
        "# View random image\n",
        "img = view_random_image(target_class=\"pizza\", target_dir=\"pizza_steak/train/\")"
      ],
      "id": "1C7hQ8KHs2pH",
      "execution_count": 9,
      "outputs": [
        {
          "output_type": "stream",
          "text": [
            "Image shape: (512, 288, 3)\n"
          ],
          "name": "stdout"
        },
        {
          "output_type": "display_data",
          "data": {
            "image/png": "[encoded data removed]",
            "text/plain": [
              "<Figure size 432x288 with 1 Axes>"
            ]
          },
          "metadata": {
            "tags": [],
            "needs_background": "light"
          }
        }
      ]
    },
    {
      "cell_type": "code",
      "metadata": {
        "id": "FYKz0y4YtFIf",
        "outputId": "b80fa95e-a9a0-4707-8a70-f2d7791b8b03",
        "colab": {
          "base_uri": "https://localhost:8080/"
        }
      },
      "source": [
        "tf.constant(img)"
      ],
      "id": "FYKz0y4YtFIf",
      "execution_count": 10,
      "outputs": [
        {
          "output_type": "execute_result",
          "data": {
            "text/plain": [
              "<tf.Tensor: shape=(512, 288, 3), dtype=uint8, numpy=\n",
              "array([[[107,  60,  16],\n",
              "        [103,  59,  14],\n",
              "        [102,  58,  13],\n",
              "        ...,\n",
              "        [130,  81,  40],\n",
              "        [123,  74,  33],\n",
              "        [107,  58,  17]],\n",
              "\n",
              "       [[109,  62,  18],\n",
              "        [106,  62,  17],\n",
              "        [103,  59,  14],\n",
              "        ...,\n",
              "        [123,  74,  33],\n",
              "        [123,  74,  33],\n",
              "        [123,  74,  33]],\n",
              "\n",
              "       [[108,  61,  17],\n",
              "        [106,  62,  17],\n",
              "        [106,  62,  17],\n",
              "        ...,\n",
              "        [116,  67,  26],\n",
              "        [119,  70,  29],\n",
              "        [125,  76,  35]],\n",
              "\n",
              "       ...,\n",
              "\n",
              "       [[ 54,  44,  34],\n",
              "        [ 61,  51,  41],\n",
              "        [ 69,  59,  50],\n",
              "        ...,\n",
              "        [ 97,  51,  17],\n",
              "        [ 98,  52,  16],\n",
              "        [ 94,  48,  12]],\n",
              "\n",
              "       [[ 62,  52,  42],\n",
              "        [ 60,  50,  40],\n",
              "        [ 60,  50,  40],\n",
              "        ...,\n",
              "        [ 94,  48,  14],\n",
              "        [ 99,  53,  19],\n",
              "        [ 90,  44,  10]],\n",
              "\n",
              "       [[ 59,  49,  39],\n",
              "        [ 59,  49,  39],\n",
              "        [ 63,  53,  43],\n",
              "        ...,\n",
              "        [ 80,  34,   0],\n",
              "        [ 88,  42,   8],\n",
              "        [106,  60,  26]]], dtype=uint8)>"
            ]
          },
          "metadata": {
            "tags": []
          },
          "execution_count": 10
        }
      ]
    },
    {
      "cell_type": "code",
      "metadata": {
        "id": "yzOEAYHZtj0m",
        "outputId": "26c5770f-1a67-46ae-94c4-eb0aa1cf2a84",
        "colab": {
          "base_uri": "https://localhost:8080/"
        }
      },
      "source": [
        "img.shape # returns width, height, color channels"
      ],
      "id": "yzOEAYHZtj0m",
      "execution_count": 11,
      "outputs": [
        {
          "output_type": "execute_result",
          "data": {
            "text/plain": [
              "(512, 288, 3)"
            ]
          },
          "metadata": {
            "tags": []
          },
          "execution_count": 11
        }
      ]
    },
    {
      "cell_type": "code",
      "metadata": {
        "id": "cwVEVXuRuF1k",
        "outputId": "cf9eda0f-51de-49c5-f2c8-06626d9d53a3",
        "colab": {
          "base_uri": "https://localhost:8080/"
        }
      },
      "source": [
        "# Get all the pixel values between 0 & 1\n",
        "img/255"
      ],
      "id": "cwVEVXuRuF1k",
      "execution_count": 12,
      "outputs": [
        {
          "output_type": "execute_result",
          "data": {
            "text/plain": [
              "array([[[0.41960784, 0.23529412, 0.0627451 ],\n",
              "        [0.40392157, 0.23137255, 0.05490196],\n",
              "        [0.4       , 0.22745098, 0.05098039],\n",
              "        ...,\n",
              "        [0.50980392, 0.31764706, 0.15686275],\n",
              "        [0.48235294, 0.29019608, 0.12941176],\n",
              "        [0.41960784, 0.22745098, 0.06666667]],\n",
              "\n",
              "       [[0.42745098, 0.24313725, 0.07058824],\n",
              "        [0.41568627, 0.24313725, 0.06666667],\n",
              "        [0.40392157, 0.23137255, 0.05490196],\n",
              "        ...,\n",
              "        [0.48235294, 0.29019608, 0.12941176],\n",
              "        [0.48235294, 0.29019608, 0.12941176],\n",
              "        [0.48235294, 0.29019608, 0.12941176]],\n",
              "\n",
              "       [[0.42352941, 0.23921569, 0.06666667],\n",
              "        [0.41568627, 0.24313725, 0.06666667],\n",
              "        [0.41568627, 0.24313725, 0.06666667],\n",
              "        ...,\n",
              "        [0.45490196, 0.2627451 , 0.10196078],\n",
              "        [0.46666667, 0.2745098 , 0.11372549],\n",
              "        [0.49019608, 0.29803922, 0.1372549 ]],\n",
              "\n",
              "       ...,\n",
              "\n",
              "       [[0.21176471, 0.17254902, 0.13333333],\n",
              "        [0.23921569, 0.2       , 0.16078431],\n",
              "        [0.27058824, 0.23137255, 0.19607843],\n",
              "        ...,\n",
              "        [0.38039216, 0.2       , 0.06666667],\n",
              "        [0.38431373, 0.20392157, 0.0627451 ],\n",
              "        [0.36862745, 0.18823529, 0.04705882]],\n",
              "\n",
              "       [[0.24313725, 0.20392157, 0.16470588],\n",
              "        [0.23529412, 0.19607843, 0.15686275],\n",
              "        [0.23529412, 0.19607843, 0.15686275],\n",
              "        ...,\n",
              "        [0.36862745, 0.18823529, 0.05490196],\n",
              "        [0.38823529, 0.20784314, 0.0745098 ],\n",
              "        [0.35294118, 0.17254902, 0.03921569]],\n",
              "\n",
              "       [[0.23137255, 0.19215686, 0.15294118],\n",
              "        [0.23137255, 0.19215686, 0.15294118],\n",
              "        [0.24705882, 0.20784314, 0.16862745],\n",
              "        ...,\n",
              "        [0.31372549, 0.13333333, 0.        ],\n",
              "        [0.34509804, 0.16470588, 0.03137255],\n",
              "        [0.41568627, 0.23529412, 0.10196078]]])"
            ]
          },
          "metadata": {
            "tags": []
          },
          "execution_count": 12
        }
      ]
    },
    {
      "cell_type": "markdown",
      "metadata": {
        "id": "Yagw3chlvKVj"
      },
      "source": [
        "## An End to End Example"
      ],
      "id": "Yagw3chlvKVj"
    },
    {
      "cell_type": "code",
      "metadata": {
        "id": "eKoU0MVvum6-",
        "outputId": "7470c3d9-38ae-49bf-ca33-b179f5edbbe7",
        "colab": {
          "base_uri": "https://localhost:8080/"
        }
      },
      "source": [
        "from tensorflow.keras.preprocessing.image import ImageDataGenerator\n",
        "\n",
        "# set seed\n",
        "tf.random.set_seed(42)\n",
        "\n",
        "# Preprocess data\n",
        "train_datagen = ImageDataGenerator(rescale=1./255)\n",
        "valid_datagen = ImageDataGenerator(rescale=1./255)\n",
        "\n",
        "# Setup paths to our data directories\n",
        "train_dir = \"/content/pizza_steak/train\"\n",
        "test_dir = \"pizza_steak/test\"\n",
        "\n",
        "# Import data from dirs and turn it into batches\n",
        "train_data = train_datagen.flow_from_directory(directory=train_dir,\n",
        "                                               batch_size=32,\n",
        "                                               target_size=(224, 224),\n",
        "                                               class_mode=\"binary\",\n",
        "                                               seed=42)\n",
        "\n",
        "valid_data = valid_datagen.flow_from_directory(directory=test_dir,\n",
        "                                               batch_size=32,\n",
        "                                               target_size=(224,224),\n",
        "                                               class_mode=\"binary\",\n",
        "                                               seed=42)\n",
        "\n",
        "# Build a CNN model\n",
        "model_1 = tf.keras.Sequential([\n",
        "  tf.keras.layers.Conv2D(filters=10,\n",
        "                         kernel_size=3,\n",
        "                         activation=\"relu\",\n",
        "                         input_shape=(224, 224, 3)),\n",
        "  tf.keras.layers.Conv2D(10, 3, activation=\"relu\"),\n",
        "  tf.keras.layers.MaxPool2D(pool_size=2,\n",
        "                            padding=\"valid\"),\n",
        "  tf.keras.layers.Conv2D(10, 3, activation=\"relu\"),\n",
        "  tf.keras.layers.Conv2D(10, 3, activation=\"relu\"),\n",
        "  tf.keras.layers.MaxPool2D(2),\n",
        "  tf.keras.layers.Flatten(),\n",
        "  tf.keras.layers.Dense(1, activation=\"sigmoid\")\n",
        "])\n",
        "\n",
        "model_1.compile(loss=tf.keras.losses.BinaryCrossentropy(),\n",
        "                optimizer=tf.keras.optimizers.Adam(),\n",
        "                metrics=([\"accuracy\"]))\n",
        "\n",
        "history_1 = model_1.fit(train_data, epochs=5,\n",
        "                        steps_per_epoch=len(train_data),\n",
        "                        validation_data=valid_data,\n",
        "                        validation_steps=len(valid_data))"
      ],
      "id": "eKoU0MVvum6-",
      "execution_count": 13,
      "outputs": [
        {
          "output_type": "stream",
          "text": [
            "Found 1500 images belonging to 2 classes.\n",
            "Found 500 images belonging to 2 classes.\n",
            "Epoch 1/5\n",
            "47/47 [==============================] - 41s 204ms/step - loss: 0.5854 - accuracy: 0.6887 - val_loss: 0.3778 - val_accuracy: 0.8440\n",
            "Epoch 2/5\n",
            "47/47 [==============================] - 9s 185ms/step - loss: 0.4090 - accuracy: 0.8153 - val_loss: 0.3945 - val_accuracy: 0.8180\n",
            "Epoch 3/5\n",
            "47/47 [==============================] - 9s 186ms/step - loss: 0.3925 - accuracy: 0.8373 - val_loss: 0.3091 - val_accuracy: 0.8720\n",
            "Epoch 4/5\n",
            "47/47 [==============================] - 9s 186ms/step - loss: 0.3336 - accuracy: 0.8640 - val_loss: 0.2973 - val_accuracy: 0.8780\n",
            "Epoch 5/5\n",
            "47/47 [==============================] - 9s 186ms/step - loss: 0.3387 - accuracy: 0.8480 - val_loss: 0.3118 - val_accuracy: 0.8800\n"
          ],
          "name": "stdout"
        }
      ]
    },
    {
      "cell_type": "code",
      "metadata": {
        "id": "av2-tqXtF1ts"
      },
      "source": [
        ""
      ],
      "id": "av2-tqXtF1ts",
      "execution_count": 13,
      "outputs": []
    }
  ]
}