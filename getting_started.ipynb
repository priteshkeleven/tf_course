{
 "cells": [
  {
   "cell_type": "code",
   "execution_count": 1,
   "id": "91ca81b1-5941-4f17-b71f-4ab684ef2ebb",
   "metadata": {},
   "outputs": [
    {
     "name": "stdout",
     "output_type": "stream",
     "text": [
      "INFO:tensorflow:Enabling eager execution\n",
      "INFO:tensorflow:Enabling v2 tensorshape\n",
      "INFO:tensorflow:Enabling resource variables\n",
      "INFO:tensorflow:Enabling tensor equality\n",
      "INFO:tensorflow:Enabling control flow v2\n",
      "2.5.0-rc2\n"
     ]
    }
   ],
   "source": [
    "import tensorflow as tf\n",
    "print(tf.__version__)"
   ]
  },
  {
   "cell_type": "code",
   "execution_count": 2,
   "id": "ae1a7d6f-895e-4126-8ea5-2059a1867530",
   "metadata": {},
   "outputs": [
    {
     "data": {
      "text/plain": [
       "<tf.Tensor: shape=(), dtype=int32, numpy=7>"
      ]
     },
     "execution_count": 2,
     "metadata": {},
     "output_type": "execute_result"
    }
   ],
   "source": [
    "scalar = tf.constant(7)\n",
    "scalar"
   ]
  },
  {
   "cell_type": "code",
   "execution_count": 3,
   "id": "3952e675-9875-4e94-97eb-07ba6b5cb083",
   "metadata": {},
   "outputs": [
    {
     "data": {
      "text/plain": [
       "0"
      ]
     },
     "execution_count": 3,
     "metadata": {},
     "output_type": "execute_result"
    }
   ],
   "source": [
    "scalar.ndim"
   ]
  },
  {
   "cell_type": "code",
   "execution_count": 4,
   "id": "260ae11e-407e-41cd-8b14-fcaf93c48d55",
   "metadata": {},
   "outputs": [
    {
     "data": {
      "text/plain": [
       "<tf.Tensor: shape=(2,), dtype=int32, numpy=array([10, 10])>"
      ]
     },
     "execution_count": 4,
     "metadata": {},
     "output_type": "execute_result"
    }
   ],
   "source": [
    "vector = tf.constant([10, 10])\n",
    "vector"
   ]
  },
  {
   "cell_type": "code",
   "execution_count": 5,
   "id": "744cec19-70c5-40ee-80c8-cda68f755a83",
   "metadata": {},
   "outputs": [
    {
     "data": {
      "text/plain": [
       "1"
      ]
     },
     "execution_count": 5,
     "metadata": {},
     "output_type": "execute_result"
    }
   ],
   "source": [
    "vector.ndim"
   ]
  },
  {
   "cell_type": "code",
   "execution_count": 6,
   "id": "22f5ee11-c4e4-4c4d-9982-8a7521ef2b1e",
   "metadata": {},
   "outputs": [
    {
     "data": {
      "text/plain": [
       "<tf.Tensor: shape=(2, 3), dtype=int32, numpy=\n",
       "array([[10,  7,  4],\n",
       "       [ 7, 10,  5]])>"
      ]
     },
     "execution_count": 6,
     "metadata": {},
     "output_type": "execute_result"
    }
   ],
   "source": [
    "matrix = tf.constant([[10, 7, 4],\n",
    "                     [7, 10, 5]])\n",
    "matrix"
   ]
  },
  {
   "cell_type": "code",
   "execution_count": 7,
   "id": "7a573507-fab0-4a4e-9520-ad3e39787561",
   "metadata": {},
   "outputs": [
    {
     "data": {
      "text/plain": [
       "2"
      ]
     },
     "execution_count": 7,
     "metadata": {},
     "output_type": "execute_result"
    }
   ],
   "source": [
    "matrix.ndim"
   ]
  },
  {
   "cell_type": "code",
   "execution_count": 8,
   "id": "f0c0cda6-3314-4e94-a272-7452786033a4",
   "metadata": {},
   "outputs": [
    {
     "data": {
      "text/plain": [
       "<tf.Tensor: shape=(3, 2), dtype=float16, numpy=\n",
       "array([[10.,  7.],\n",
       "       [ 7., 10.],\n",
       "       [ 5.,  6.]], dtype=float16)>"
      ]
     },
     "execution_count": 8,
     "metadata": {},
     "output_type": "execute_result"
    }
   ],
   "source": [
    "matrix_2 = tf.constant([[10. , 7.],\n",
    "                       [7., 10.],\n",
    "                       [5., 6.]], dtype=tf.float16)\n",
    "matrix_2"
   ]
  },
  {
   "cell_type": "code",
   "execution_count": 9,
   "id": "198f7df7-b8f6-48de-9578-d1673f263560",
   "metadata": {},
   "outputs": [
    {
     "data": {
      "text/plain": [
       "2"
      ]
     },
     "execution_count": 9,
     "metadata": {},
     "output_type": "execute_result"
    }
   ],
   "source": [
    "matrix_2.ndim"
   ]
  },
  {
   "cell_type": "code",
   "execution_count": 10,
   "id": "dc7728ba-64c2-4c40-93c0-823432d6233a",
   "metadata": {},
   "outputs": [
    {
     "data": {
      "text/plain": [
       "<tf.Tensor: shape=(2, 3, 2), dtype=float32, numpy=\n",
       "array([[[10.,  7.],\n",
       "        [ 7., 10.],\n",
       "        [ 5.,  6.]],\n",
       "\n",
       "       [[ 6.,  7.],\n",
       "        [ 6., 30.],\n",
       "        [ 2.,  3.]]], dtype=float32)>"
      ]
     },
     "execution_count": 10,
     "metadata": {},
     "output_type": "execute_result"
    }
   ],
   "source": [
    "tensor = tf.constant([[[10. , 7.],\n",
    "                       [7., 10.],\n",
    "                       [5., 6.]], \n",
    "                      \n",
    "                      [[6. , 7.],\n",
    "                       [6., 30.],\n",
    "                       [2., 3.]]])\n",
    "tensor"
   ]
  },
  {
   "cell_type": "markdown",
   "id": "ef023fd9-8798-405b-ae14-e55151789910",
   "metadata": {},
   "source": [
    "## Tensor with Variable"
   ]
  },
  {
   "cell_type": "code",
   "execution_count": 11,
   "id": "e5da6b3b-19c9-441b-a562-01bb4545145b",
   "metadata": {},
   "outputs": [
    {
     "data": {
      "text/plain": [
       "<tf.Variable 'Variable:0' shape=(2,) dtype=float32, numpy=array([10.,  8.], dtype=float32)>"
      ]
     },
     "execution_count": 11,
     "metadata": {},
     "output_type": "execute_result"
    }
   ],
   "source": [
    "changable_tensor = tf.Variable([10., 8.])\n",
    "changable_tensor"
   ]
  },
  {
   "cell_type": "code",
   "execution_count": 12,
   "id": "133a87d5-981f-4f0d-8ff7-1467f00f4808",
   "metadata": {},
   "outputs": [
    {
     "data": {
      "text/plain": [
       "<tf.Variable 'Variable:0' shape=(2,) dtype=float32, numpy=array([8., 8.], dtype=float32)>"
      ]
     },
     "execution_count": 12,
     "metadata": {},
     "output_type": "execute_result"
    }
   ],
   "source": [
    "changable_tensor[0].assign(8)\n",
    "changable_tensor"
   ]
  },
  {
   "cell_type": "markdown",
   "id": "b68193f6-8044-4fd2-9cde-c7d28c892154",
   "metadata": {},
   "source": [
    "## Creating random tensor"
   ]
  },
  {
   "cell_type": "code",
   "execution_count": 13,
   "id": "9999a190-75d5-481e-8b7f-7b5214a3de30",
   "metadata": {},
   "outputs": [
    {
     "data": {
      "text/plain": [
       "<tf.Tensor: shape=(3, 2), dtype=float32, numpy=\n",
       "array([[-0.7565803 , -0.06854702],\n",
       "       [ 0.07595026, -1.2573844 ],\n",
       "       [-0.23193765, -1.8107855 ]], dtype=float32)>"
      ]
     },
     "execution_count": 13,
     "metadata": {},
     "output_type": "execute_result"
    }
   ],
   "source": [
    "random_1 = tf.random.Generator.from_seed(42)\n",
    "random_1 = random_1.normal(shape=(3,2, ))\n",
    "random_1"
   ]
  },
  {
   "cell_type": "code",
   "execution_count": 14,
   "id": "fbc3e713-94d0-4755-90ed-bc5d8d6786d1",
   "metadata": {},
   "outputs": [
    {
     "data": {
      "text/plain": [
       "<tf.Tensor: shape=(3, 2), dtype=float32, numpy=\n",
       "array([[-0.7565803 , -0.06854702],\n",
       "       [ 0.07595026, -1.2573844 ],\n",
       "       [-0.23193765, -1.8107855 ]], dtype=float32)>"
      ]
     },
     "execution_count": 14,
     "metadata": {},
     "output_type": "execute_result"
    }
   ],
   "source": [
    "random_2 = tf.random.Generator.from_seed(42)\n",
    "random_2 = random_2.normal(shape=(3,2, ))\n",
    "random_2"
   ]
  },
  {
   "cell_type": "code",
   "execution_count": 15,
   "id": "1b80be83-237a-46b5-b10c-7c1d7c30343f",
   "metadata": {},
   "outputs": [
    {
     "data": {
      "text/plain": [
       "<tf.Tensor: shape=(3, 2), dtype=bool, numpy=\n",
       "array([[ True,  True],\n",
       "       [ True,  True],\n",
       "       [ True,  True]])>"
      ]
     },
     "execution_count": 15,
     "metadata": {},
     "output_type": "execute_result"
    }
   ],
   "source": [
    "random_1 == random_2"
   ]
  },
  {
   "cell_type": "markdown",
   "id": "6cfc45fd-acf1-4c17-b624-d0ef1fb1bfd2",
   "metadata": {},
   "source": [
    "## Shuffling Tensors"
   ]
  },
  {
   "cell_type": "code",
   "execution_count": 16,
   "id": "60597dab-ddb9-4868-a9b8-1112cc41c58e",
   "metadata": {},
   "outputs": [
    {
     "data": {
      "text/plain": [
       "<tf.Tensor: shape=(3, 2), dtype=int32, numpy=\n",
       "array([[12,  4],\n",
       "       [ 5,  7],\n",
       "       [ 3,  2]])>"
      ]
     },
     "execution_count": 16,
     "metadata": {},
     "output_type": "execute_result"
    }
   ],
   "source": [
    "not_shuffled = tf.constant([[12,4],\n",
    "                           [3,2],\n",
    "                           [5,7]])\n",
    "\n",
    "tf.random.shuffle(not_shuffled)"
   ]
  },
  {
   "cell_type": "code",
   "execution_count": 17,
   "id": "86a97453-69ba-4b68-9fd9-4514224c1180",
   "metadata": {},
   "outputs": [
    {
     "data": {
      "text/plain": [
       "<tf.Tensor: shape=(3, 2), dtype=int32, numpy=\n",
       "array([[ 3,  2],\n",
       "       [12,  4],\n",
       "       [ 5,  7]])>"
      ]
     },
     "execution_count": 17,
     "metadata": {},
     "output_type": "execute_result"
    }
   ],
   "source": [
    "tf.random.shuffle(not_shuffled)"
   ]
  },
  {
   "cell_type": "markdown",
   "id": "0b533e6b-f3fc-41b0-b1c8-bb72c7869287",
   "metadata": {},
   "source": [
    " ## Other ways to make tensors"
   ]
  },
  {
   "cell_type": "code",
   "execution_count": 18,
   "id": "248fd275-252f-4932-8dc4-1901a5efcf6b",
   "metadata": {},
   "outputs": [
    {
     "data": {
      "text/plain": [
       "<tf.Tensor: shape=(10, 7), dtype=float32, numpy=\n",
       "array([[1., 1., 1., 1., 1., 1., 1.],\n",
       "       [1., 1., 1., 1., 1., 1., 1.],\n",
       "       [1., 1., 1., 1., 1., 1., 1.],\n",
       "       [1., 1., 1., 1., 1., 1., 1.],\n",
       "       [1., 1., 1., 1., 1., 1., 1.],\n",
       "       [1., 1., 1., 1., 1., 1., 1.],\n",
       "       [1., 1., 1., 1., 1., 1., 1.],\n",
       "       [1., 1., 1., 1., 1., 1., 1.],\n",
       "       [1., 1., 1., 1., 1., 1., 1.],\n",
       "       [1., 1., 1., 1., 1., 1., 1.]], dtype=float32)>"
      ]
     },
     "execution_count": 18,
     "metadata": {},
     "output_type": "execute_result"
    }
   ],
   "source": [
    "# Ones\n",
    "tf.ones([10, 7])"
   ]
  },
  {
   "cell_type": "code",
   "execution_count": 19,
   "id": "8b141e54-e094-4557-bd35-f6bc42cd5b30",
   "metadata": {},
   "outputs": [
    {
     "data": {
      "text/plain": [
       "<tf.Tensor: shape=(10, 7), dtype=float32, numpy=\n",
       "array([[0., 0., 0., 0., 0., 0., 0.],\n",
       "       [0., 0., 0., 0., 0., 0., 0.],\n",
       "       [0., 0., 0., 0., 0., 0., 0.],\n",
       "       [0., 0., 0., 0., 0., 0., 0.],\n",
       "       [0., 0., 0., 0., 0., 0., 0.],\n",
       "       [0., 0., 0., 0., 0., 0., 0.],\n",
       "       [0., 0., 0., 0., 0., 0., 0.],\n",
       "       [0., 0., 0., 0., 0., 0., 0.],\n",
       "       [0., 0., 0., 0., 0., 0., 0.],\n",
       "       [0., 0., 0., 0., 0., 0., 0.]], dtype=float32)>"
      ]
     },
     "execution_count": 19,
     "metadata": {},
     "output_type": "execute_result"
    }
   ],
   "source": [
    "# zeros\n",
    "tf.zeros([10, 7])"
   ]
  },
  {
   "cell_type": "code",
   "execution_count": 20,
   "id": "23e0a807-d71b-4b8b-b4ed-c2ae44021e2b",
   "metadata": {},
   "outputs": [
    {
     "data": {
      "text/plain": [
       "array([ 1,  2,  3,  4,  5,  6,  7,  8,  9, 10, 11, 12, 13, 14, 15, 16, 17,\n",
       "       18, 19, 20, 21, 22, 23, 24])"
      ]
     },
     "execution_count": 20,
     "metadata": {},
     "output_type": "execute_result"
    }
   ],
   "source": [
    "import numpy as np\n",
    "\n",
    "numpy_A = np.arange(1,25, dtype=np.int32)\n",
    "numpy_A"
   ]
  },
  {
   "cell_type": "code",
   "execution_count": 21,
   "id": "2784fe31-8a2e-4f96-89aa-0d29bdc392ba",
   "metadata": {},
   "outputs": [
    {
     "data": {
      "text/plain": [
       "<tf.Tensor: shape=(2, 3, 4), dtype=int32, numpy=\n",
       "array([[[ 1,  2,  3,  4],\n",
       "        [ 5,  6,  7,  8],\n",
       "        [ 9, 10, 11, 12]],\n",
       "\n",
       "       [[13, 14, 15, 16],\n",
       "        [17, 18, 19, 20],\n",
       "        [21, 22, 23, 24]]])>"
      ]
     },
     "execution_count": 21,
     "metadata": {},
     "output_type": "execute_result"
    }
   ],
   "source": [
    "A = tf.constant(numpy_A, shape=(2, 3, 4))\n",
    "\n",
    "A"
   ]
  },
  {
   "cell_type": "markdown",
   "id": "4fd995fd-7490-4d69-b877-92ee924665fd",
   "metadata": {},
   "source": [
    "## Getting info from tensor\n",
    "\n",
    "* Shape\n",
    "* rank\n",
    "* axis or dimension\n",
    "* size"
   ]
  },
  {
   "cell_type": "code",
   "execution_count": 22,
   "id": "e58e617b-8327-469c-ab2e-28d8dded9bf0",
   "metadata": {},
   "outputs": [
    {
     "data": {
      "text/plain": [
       "(<tf.Tensor: shape=(2,), dtype=int32, numpy=array([12, 24])>,\n",
       " 3,\n",
       " TensorShape([2, 3, 4]),\n",
       " <tf.Tensor: shape=(), dtype=int32, numpy=24>)"
      ]
     },
     "execution_count": 22,
     "metadata": {},
     "output_type": "execute_result"
    }
   ],
   "source": [
    "A_shape = A.shape\n",
    "A_rank = A.ndim\n",
    "A_axis = A[:, 2, 3]\n",
    "A_size = tf.size(A)\n",
    "\n",
    "A_axis, A_rank, A_shape, A_size"
   ]
  },
  {
   "cell_type": "code",
   "execution_count": 23,
   "id": "99bc0540-f354-4d06-bacb-f9f0e218bd77",
   "metadata": {},
   "outputs": [
    {
     "data": {
      "text/plain": [
       "<tf.Tensor: shape=(2, 3, 4, 5), dtype=float32, numpy=\n",
       "array([[[[0., 0., 0., 0., 0.],\n",
       "         [0., 0., 0., 0., 0.],\n",
       "         [0., 0., 0., 0., 0.],\n",
       "         [0., 0., 0., 0., 0.]],\n",
       "\n",
       "        [[0., 0., 0., 0., 0.],\n",
       "         [0., 0., 0., 0., 0.],\n",
       "         [0., 0., 0., 0., 0.],\n",
       "         [0., 0., 0., 0., 0.]],\n",
       "\n",
       "        [[0., 0., 0., 0., 0.],\n",
       "         [0., 0., 0., 0., 0.],\n",
       "         [0., 0., 0., 0., 0.],\n",
       "         [0., 0., 0., 0., 0.]]],\n",
       "\n",
       "\n",
       "       [[[0., 0., 0., 0., 0.],\n",
       "         [0., 0., 0., 0., 0.],\n",
       "         [0., 0., 0., 0., 0.],\n",
       "         [0., 0., 0., 0., 0.]],\n",
       "\n",
       "        [[0., 0., 0., 0., 0.],\n",
       "         [0., 0., 0., 0., 0.],\n",
       "         [0., 0., 0., 0., 0.],\n",
       "         [0., 0., 0., 0., 0.]],\n",
       "\n",
       "        [[0., 0., 0., 0., 0.],\n",
       "         [0., 0., 0., 0., 0.],\n",
       "         [0., 0., 0., 0., 0.],\n",
       "         [0., 0., 0., 0., 0.]]]], dtype=float32)>"
      ]
     },
     "execution_count": 23,
     "metadata": {},
     "output_type": "execute_result"
    }
   ],
   "source": [
    "large_matrix_B = tf.zeros(shape=(2,3,4,5))\n",
    "large_matrix_B"
   ]
  },
  {
   "cell_type": "markdown",
   "id": "42080ca3-841d-49d5-b37f-667e127b67d7",
   "metadata": {},
   "source": [
    "## Indexing Tensors"
   ]
  },
  {
   "cell_type": "code",
   "execution_count": 24,
   "id": "01406623-dd5b-4039-8b8d-72387f4bf82a",
   "metadata": {},
   "outputs": [
    {
     "data": {
      "text/plain": [
       "<tf.Tensor: shape=(2, 2, 2, 2), dtype=float32, numpy=\n",
       "array([[[[0., 0.],\n",
       "         [0., 0.]],\n",
       "\n",
       "        [[0., 0.],\n",
       "         [0., 0.]]],\n",
       "\n",
       "\n",
       "       [[[0., 0.],\n",
       "         [0., 0.]],\n",
       "\n",
       "        [[0., 0.],\n",
       "         [0., 0.]]]], dtype=float32)>"
      ]
     },
     "execution_count": 24,
     "metadata": {},
     "output_type": "execute_result"
    }
   ],
   "source": [
    "large_matrix_B[:2, :2, :2, :2]"
   ]
  },
  {
   "cell_type": "markdown",
   "id": "3e6163a5-a4dc-4e04-b0ee-ebf1a53b6ef1",
   "metadata": {},
   "source": [
    "## Expanding matrix"
   ]
  },
  {
   "cell_type": "code",
   "execution_count": 25,
   "id": "5672015c-86a5-429d-9775-ef42ae205602",
   "metadata": {},
   "outputs": [
    {
     "data": {
      "text/plain": [
       "<tf.Tensor: shape=(2, 3, 4), dtype=float32, numpy=\n",
       "array([[[1., 1., 1., 1.],\n",
       "        [1., 1., 1., 1.],\n",
       "        [1., 1., 1., 1.]],\n",
       "\n",
       "       [[1., 1., 1., 1.],\n",
       "        [1., 1., 1., 1.],\n",
       "        [1., 1., 1., 1.]]], dtype=float32)>"
      ]
     },
     "execution_count": 25,
     "metadata": {},
     "output_type": "execute_result"
    }
   ],
   "source": [
    "rank_3_matrix = tf.ones(shape=(2,3,4))\n",
    "rank_3_matrix"
   ]
  },
  {
   "cell_type": "code",
   "execution_count": 26,
   "id": "8e3ecd38-3e84-405a-adea-ad6ed8aba54a",
   "metadata": {},
   "outputs": [
    {
     "data": {
      "text/plain": [
       "<tf.Tensor: shape=(2, 3, 4, 1), dtype=float32, numpy=\n",
       "array([[[[1.],\n",
       "         [1.],\n",
       "         [1.],\n",
       "         [1.]],\n",
       "\n",
       "        [[1.],\n",
       "         [1.],\n",
       "         [1.],\n",
       "         [1.]],\n",
       "\n",
       "        [[1.],\n",
       "         [1.],\n",
       "         [1.],\n",
       "         [1.]]],\n",
       "\n",
       "\n",
       "       [[[1.],\n",
       "         [1.],\n",
       "         [1.],\n",
       "         [1.]],\n",
       "\n",
       "        [[1.],\n",
       "         [1.],\n",
       "         [1.],\n",
       "         [1.]],\n",
       "\n",
       "        [[1.],\n",
       "         [1.],\n",
       "         [1.],\n",
       "         [1.]]]], dtype=float32)>"
      ]
     },
     "execution_count": 26,
     "metadata": {},
     "output_type": "execute_result"
    }
   ],
   "source": [
    "tf.expand_dims(rank_3_matrix, axis=-1)"
   ]
  },
  {
   "cell_type": "markdown",
   "id": "1d8e717c-528a-4a5a-ac73-eb300d5b2322",
   "metadata": {},
   "source": [
    "## Manipulating tensors\n",
    "\n",
    "**Basic Operations**\n",
    "`+`,`-`,`*`,`/`"
   ]
  },
  {
   "cell_type": "code",
   "execution_count": 27,
   "id": "79699727-86a9-436e-bf2b-b83ec3b17316",
   "metadata": {},
   "outputs": [
    {
     "data": {
      "text/plain": [
       "<tf.Tensor: shape=(2, 2), dtype=int32, numpy=\n",
       "array([[10, -7],\n",
       "       [ 3,  4]])>"
      ]
     },
     "execution_count": 27,
     "metadata": {},
     "output_type": "execute_result"
    }
   ],
   "source": [
    "tensor = tf.constant([[10, -7], [3 ,4]])\n",
    "tensor"
   ]
  },
  {
   "cell_type": "code",
   "execution_count": 28,
   "id": "2bef49a1-7a4c-4ad8-8ccf-f70db73c11bd",
   "metadata": {},
   "outputs": [
    {
     "data": {
      "text/plain": [
       "<tf.Tensor: shape=(2, 2), dtype=int32, numpy=\n",
       "array([[20,  3],\n",
       "       [13, 14]])>"
      ]
     },
     "execution_count": 28,
     "metadata": {},
     "output_type": "execute_result"
    }
   ],
   "source": [
    "tensor = tensor + 10\n",
    "tensor"
   ]
  },
  {
   "cell_type": "code",
   "execution_count": 29,
   "id": "a0a37e22-2bbf-4c9b-abd7-a5680ed561cc",
   "metadata": {},
   "outputs": [
    {
     "data": {
      "text/plain": [
       "<tf.Tensor: shape=(2, 2), dtype=int32, numpy=\n",
       "array([[10, -7],\n",
       "       [ 3,  4]])>"
      ]
     },
     "execution_count": 29,
     "metadata": {},
     "output_type": "execute_result"
    }
   ],
   "source": [
    "tensor = tensor - 10\n",
    "tensor"
   ]
  },
  {
   "cell_type": "code",
   "execution_count": 30,
   "id": "165c92ed-07aa-41ff-b684-499b2b829a38",
   "metadata": {},
   "outputs": [
    {
     "data": {
      "text/plain": [
       "<tf.Tensor: shape=(2, 2), dtype=int32, numpy=\n",
       "array([[100, -70],\n",
       "       [ 30,  40]])>"
      ]
     },
     "execution_count": 30,
     "metadata": {},
     "output_type": "execute_result"
    }
   ],
   "source": [
    "tensor = tensor * 10\n",
    "tensor"
   ]
  },
  {
   "cell_type": "code",
   "execution_count": 31,
   "id": "51986ddd-f0c1-4fa0-a8ce-bd87b4536f01",
   "metadata": {},
   "outputs": [
    {
     "data": {
      "text/plain": [
       "<tf.Tensor: shape=(2, 2), dtype=float64, numpy=\n",
       "array([[10., -7.],\n",
       "       [ 3.,  4.]])>"
      ]
     },
     "execution_count": 31,
     "metadata": {},
     "output_type": "execute_result"
    }
   ],
   "source": [
    "tensor = tensor / 10\n",
    "tensor"
   ]
  },
  {
   "cell_type": "code",
   "execution_count": 32,
   "id": "4177402a-24ff-486b-bbaa-b94e6719165e",
   "metadata": {},
   "outputs": [
    {
     "data": {
      "text/plain": [
       "<tf.Tensor: shape=(2, 2), dtype=float64, numpy=\n",
       "array([[100., -70.],\n",
       "       [ 30.,  40.]])>"
      ]
     },
     "execution_count": 32,
     "metadata": {},
     "output_type": "execute_result"
    }
   ],
   "source": [
    "tf.multiply(tensor, 10)"
   ]
  },
  {
   "cell_type": "code",
   "execution_count": 33,
   "id": "c46189a9-9534-413a-acb5-5e504d9e1e35",
   "metadata": {},
   "outputs": [
    {
     "data": {
      "text/plain": [
       "<tf.Tensor: shape=(2, 2), dtype=float64, numpy=\n",
       "array([[ 1. , -0.7],\n",
       "       [ 0.3,  0.4]])>"
      ]
     },
     "execution_count": 33,
     "metadata": {},
     "output_type": "execute_result"
    }
   ],
   "source": [
    "tf.divide(tensor, 10)"
   ]
  },
  {
   "cell_type": "markdown",
   "id": "14c5864e-5197-4fcc-aef0-4c9f3364e281",
   "metadata": {},
   "source": [
    "## Matrix Multiplication"
   ]
  },
  {
   "cell_type": "code",
   "execution_count": 36,
   "id": "0f86f974-d2fc-4c19-9b45-d0b400991fb2",
   "metadata": {},
   "outputs": [
    {
     "name": "stdout",
     "output_type": "stream",
     "text": [
      "tf.Tensor(\n",
      "[[10. -7.]\n",
      " [ 3.  4.]], shape=(2, 2), dtype=float64)\n"
     ]
    },
    {
     "data": {
      "text/plain": [
       "<tf.Tensor: shape=(2, 2), dtype=float64, numpy=\n",
       "array([[ 79., -98.],\n",
       "       [ 42.,  -5.]])>"
      ]
     },
     "execution_count": 36,
     "metadata": {},
     "output_type": "execute_result"
    }
   ],
   "source": [
    "print(tensor)\n",
    "tf.matmul(tensor, tensor)"
   ]
  },
  {
   "cell_type": "code",
   "execution_count": 37,
   "id": "0d861508-f9d2-4660-a554-d4c987d2ee42",
   "metadata": {},
   "outputs": [
    {
     "data": {
      "text/plain": [
       "(<tf.Tensor: shape=(3, 3), dtype=int32, numpy=\n",
       " array([[1, 2, 5],\n",
       "        [7, 2, 1],\n",
       "        [3, 3, 3]])>,\n",
       " <tf.Tensor: shape=(3, 2), dtype=int32, numpy=\n",
       " array([[3, 5],\n",
       "        [6, 7],\n",
       "        [1, 8]])>)"
      ]
     },
     "execution_count": 37,
     "metadata": {},
     "output_type": "execute_result"
    }
   ],
   "source": [
    "ten_1 = tf.constant([[1,2,5],\n",
    "                    [7,2,1],\n",
    "                    [3,3,3]])\n",
    "\n",
    "ten_2 = tf.constant([[3,5],\n",
    "                    [6,7],\n",
    "                    [1,8]])\n",
    "\n",
    "ten_1, ten_2"
   ]
  },
  {
   "cell_type": "code",
   "execution_count": 38,
   "id": "6dac6e2d-fbca-4fa0-b52e-2d77e9a84ea9",
   "metadata": {},
   "outputs": [
    {
     "data": {
      "text/plain": [
       "<tf.Tensor: shape=(3, 2), dtype=int32, numpy=\n",
       "array([[20, 59],\n",
       "       [34, 57],\n",
       "       [30, 60]])>"
      ]
     },
     "execution_count": 38,
     "metadata": {},
     "output_type": "execute_result"
    }
   ],
   "source": [
    "ten_mul = tf.matmul(ten_1, ten_2)\n",
    "ten_mul"
   ]
  },
  {
   "cell_type": "code",
   "execution_count": 45,
   "id": "209fe735-c46e-4f8e-935a-fe53bf311db9",
   "metadata": {},
   "outputs": [
    {
     "data": {
      "text/plain": [
       "<tf.Tensor: shape=(3, 3), dtype=int32, numpy=\n",
       "array([[44, 20, 58],\n",
       "       [67, 37, 92],\n",
       "       [59, 13, 70]])>"
      ]
     },
     "execution_count": 45,
     "metadata": {},
     "output_type": "execute_result"
    }
   ],
   "source": [
    "ten_2 @ tf.reshape(ten_2, shape=(2,3))"
   ]
  },
  {
   "cell_type": "code",
   "execution_count": 46,
   "id": "63e8d7a8-e4c3-4fc7-8dfd-643336dce302",
   "metadata": {},
   "outputs": [
    {
     "data": {
      "text/plain": [
       "<tf.Tensor: shape=(3, 3), dtype=int32, numpy=\n",
       "array([[34, 53, 43],\n",
       "       [53, 85, 62],\n",
       "       [43, 62, 65]])>"
      ]
     },
     "execution_count": 46,
     "metadata": {},
     "output_type": "execute_result"
    }
   ],
   "source": [
    "ten_2 @ tf.transpose(ten_2)"
   ]
  },
  {
   "cell_type": "code",
   "execution_count": 49,
   "id": "b6420839-cbbc-4f00-ba14-1d154d4f2924",
   "metadata": {},
   "outputs": [
    {
     "data": {
      "text/plain": [
       "<tf.Tensor: shape=(3, 2), dtype=int32, numpy=\n",
       "array([[20, 59],\n",
       "       [34, 57],\n",
       "       [30, 60]])>"
      ]
     },
     "execution_count": 49,
     "metadata": {},
     "output_type": "execute_result"
    }
   ],
   "source": [
    "tf.tensordot(ten_1, ten_2, axes=1)"
   ]
  },
  {
   "cell_type": "markdown",
   "id": "baf676c5-300c-4124-adc9-7283623691ef",
   "metadata": {},
   "source": [
    "## Changing the datatype"
   ]
  },
  {
   "cell_type": "code",
   "execution_count": 57,
   "id": "cb14dba8-206b-423d-a895-773f08a3bf2f",
   "metadata": {},
   "outputs": [
    {
     "name": "stdout",
     "output_type": "stream",
     "text": [
      "<dtype: 'int32'>\n",
      "tf.Tensor(\n",
      "[[0.3125 0.625  1.5625]\n",
      " [2.1875 0.625  0.3125]\n",
      " [0.9375 0.9375 0.9375]], shape=(3, 3), dtype=float64)\n"
     ]
    }
   ],
   "source": [
    "print(ten_1.dtype)\n",
    "\n",
    "print(tf.cast(ten_1, dtype=tf.float64) / 3.2)"
   ]
  },
  {
   "cell_type": "markdown",
   "id": "f5480937-1b2a-4f5a-968d-86188eecd01a",
   "metadata": {},
   "source": [
    "## Aggrigating Tensors"
   ]
  },
  {
   "cell_type": "code",
   "execution_count": 60,
   "id": "e6e1650d-0525-48d3-a8dd-b49d0b97b6c9",
   "metadata": {},
   "outputs": [
    {
     "data": {
      "text/plain": [
       "<tf.Tensor: shape=(500, 500), dtype=float32, numpy=\n",
       "array([[0.7790557 , 0.73819196, 0.9186162 , ..., 0.10057127, 0.70349157,\n",
       "        0.9213711 ],\n",
       "       [0.1868751 , 0.7985039 , 0.08883631, ..., 0.47699344, 0.8109751 ,\n",
       "        0.5091548 ],\n",
       "       [0.0613811 , 0.9851836 , 0.75963366, ..., 0.63726115, 0.54136693,\n",
       "        0.03316998],\n",
       "       ...,\n",
       "       [0.13313913, 0.05457509, 0.6621311 , ..., 0.7322196 , 0.6060301 ,\n",
       "        0.8383118 ],\n",
       "       [0.5555872 , 0.46405184, 0.81347704, ..., 0.32122326, 0.43215215,\n",
       "        0.85085857],\n",
       "       [0.502072  , 0.06491387, 0.09556592, ..., 0.5268407 , 0.5580033 ,\n",
       "        0.8450661 ]], dtype=float32)>"
      ]
     },
     "execution_count": 60,
     "metadata": {},
     "output_type": "execute_result"
    }
   ],
   "source": [
    "new_ten = tf.random.uniform(shape=(500, 500))\n",
    "new_ten"
   ]
  },
  {
   "cell_type": "code",
   "execution_count": 61,
   "id": "b33a4372-a42b-4f73-b4fa-f2e94f35d714",
   "metadata": {},
   "outputs": [
    {
     "data": {
      "text/plain": [
       "<tf.Tensor: shape=(500, 500), dtype=float32, numpy=\n",
       "array([[0.7790557 , 0.73819196, 0.9186162 , ..., 0.10057127, 0.70349157,\n",
       "        0.9213711 ],\n",
       "       [0.1868751 , 0.7985039 , 0.08883631, ..., 0.47699344, 0.8109751 ,\n",
       "        0.5091548 ],\n",
       "       [0.0613811 , 0.9851836 , 0.75963366, ..., 0.63726115, 0.54136693,\n",
       "        0.03316998],\n",
       "       ...,\n",
       "       [0.13313913, 0.05457509, 0.6621311 , ..., 0.7322196 , 0.6060301 ,\n",
       "        0.8383118 ],\n",
       "       [0.5555872 , 0.46405184, 0.81347704, ..., 0.32122326, 0.43215215,\n",
       "        0.85085857],\n",
       "       [0.502072  , 0.06491387, 0.09556592, ..., 0.5268407 , 0.5580033 ,\n",
       "        0.8450661 ]], dtype=float32)>"
      ]
     },
     "execution_count": 61,
     "metadata": {},
     "output_type": "execute_result"
    }
   ],
   "source": [
    "tf.abs(new_ten)"
   ]
  },
  {
   "cell_type": "code",
   "execution_count": 63,
   "id": "03ddd894-8363-4471-9ce6-171efcec653a",
   "metadata": {},
   "outputs": [
    {
     "data": {
      "text/plain": [
       "<tf.Tensor: shape=(), dtype=float32, numpy=7.1525574e-07>"
      ]
     },
     "execution_count": 63,
     "metadata": {},
     "output_type": "execute_result"
    }
   ],
   "source": [
    "tf.reduce_min(new_ten)"
   ]
  },
  {
   "cell_type": "code",
   "execution_count": 64,
   "id": "baea6d81-9556-4901-8af7-cbeef20a8f11",
   "metadata": {},
   "outputs": [
    {
     "data": {
      "text/plain": [
       "<tf.Tensor: shape=(), dtype=float32, numpy=0.99999857>"
      ]
     },
     "execution_count": 64,
     "metadata": {},
     "output_type": "execute_result"
    }
   ],
   "source": [
    "tf.reduce_max(new_ten)"
   ]
  },
  {
   "cell_type": "code",
   "execution_count": 69,
   "id": "e87c64c3-fae7-473b-91a0-1c25e2b6d8c9",
   "metadata": {},
   "outputs": [],
   "source": [
    "mean = tf.reduce_mean(new_ten)"
   ]
  },
  {
   "cell_type": "code",
   "execution_count": 76,
   "id": "7dbbde9c-8e6a-45fd-9af0-493d9b4af4ab",
   "metadata": {},
   "outputs": [
    {
     "data": {
      "text/plain": [
       "<tf.Tensor: shape=(), dtype=float32, numpy=0.28883353>"
      ]
     },
     "execution_count": 76,
     "metadata": {},
     "output_type": "execute_result"
    }
   ],
   "source": [
    "diff = new_ten - mean\n",
    "\n",
    "diff_sqr = tf.square(diff)\n",
    "\n",
    "sum_diff_sqr = tf.reduce_sum(diff_sqr)\n",
    "\n",
    "variance = sum_diff_sqr / tf.cast(tf.size(new_ten), dtype=tf.float32)\n",
    "sd = tf.sqrt(variance)\n",
    "\n",
    "sd"
   ]
  },
  {
   "cell_type": "code",
   "execution_count": 79,
   "id": "9f4dc96d-1fd1-43bf-9571-89288b5467dc",
   "metadata": {},
   "outputs": [
    {
     "data": {
      "text/plain": [
       "<tf.Tensor: shape=(), dtype=float32, numpy=0.28883353>"
      ]
     },
     "execution_count": 79,
     "metadata": {},
     "output_type": "execute_result"
    }
   ],
   "source": [
    "tf.math.reduce_std(new_ten)"
   ]
  },
  {
   "cell_type": "markdown",
   "id": "8b264453-6015-4d2c-9d62-97df41c74241",
   "metadata": {},
   "source": [
    "## Squeezing  a tensor"
   ]
  },
  {
   "cell_type": "code",
   "execution_count": 84,
   "id": "6097a57b-24f9-4836-b255-4c53c749d11d",
   "metadata": {},
   "outputs": [
    {
     "data": {
      "text/plain": [
       "<tf.Tensor: shape=(1, 1, 1, 1, 50), dtype=float32, numpy=\n",
       "array([[[[[0.6645621 , 0.44100678, 0.3528825 , 0.46448255, 0.03366041,\n",
       "           0.68467236, 0.74011743, 0.8724445 , 0.22632635, 0.22319686,\n",
       "           0.3103881 , 0.7223358 , 0.13318717, 0.5480639 , 0.5746088 ,\n",
       "           0.8996835 , 0.00946367, 0.5212307 , 0.6345445 , 0.1993283 ,\n",
       "           0.72942245, 0.54583454, 0.10756552, 0.6767061 , 0.6602763 ,\n",
       "           0.33695042, 0.60141766, 0.21062577, 0.8527372 , 0.44062173,\n",
       "           0.9485276 , 0.23752594, 0.81179297, 0.5263394 , 0.494308  ,\n",
       "           0.21612847, 0.8457197 , 0.8718841 , 0.3083862 , 0.6868038 ,\n",
       "           0.23764038, 0.7817228 , 0.9671384 , 0.06870162, 0.79873943,\n",
       "           0.66028714, 0.5871513 , 0.16461694, 0.7381023 , 0.32054043]]]]],\n",
       "      dtype=float32)>"
      ]
     },
     "execution_count": 84,
     "metadata": {},
     "output_type": "execute_result"
    }
   ],
   "source": [
    "tf.random.set_seed(42)\n",
    "G = tf.constant(tf.random.uniform(shape=[50]), shape=[1,1,1,1,50])\n",
    "G"
   ]
  },
  {
   "cell_type": "code",
   "execution_count": 85,
   "id": "4e20255d-a839-4e82-80c5-87fdb64ffb20",
   "metadata": {},
   "outputs": [
    {
     "data": {
      "text/plain": [
       "TensorShape([1, 1, 1, 1, 50])"
      ]
     },
     "execution_count": 85,
     "metadata": {},
     "output_type": "execute_result"
    }
   ],
   "source": [
    "G.shape"
   ]
  },
  {
   "cell_type": "code",
   "execution_count": 86,
   "id": "9419e966-798d-4edd-973e-130cd33a1052",
   "metadata": {},
   "outputs": [
    {
     "data": {
      "text/plain": [
       "(<tf.Tensor: shape=(50,), dtype=float32, numpy=\n",
       " array([0.6645621 , 0.44100678, 0.3528825 , 0.46448255, 0.03366041,\n",
       "        0.68467236, 0.74011743, 0.8724445 , 0.22632635, 0.22319686,\n",
       "        0.3103881 , 0.7223358 , 0.13318717, 0.5480639 , 0.5746088 ,\n",
       "        0.8996835 , 0.00946367, 0.5212307 , 0.6345445 , 0.1993283 ,\n",
       "        0.72942245, 0.54583454, 0.10756552, 0.6767061 , 0.6602763 ,\n",
       "        0.33695042, 0.60141766, 0.21062577, 0.8527372 , 0.44062173,\n",
       "        0.9485276 , 0.23752594, 0.81179297, 0.5263394 , 0.494308  ,\n",
       "        0.21612847, 0.8457197 , 0.8718841 , 0.3083862 , 0.6868038 ,\n",
       "        0.23764038, 0.7817228 , 0.9671384 , 0.06870162, 0.79873943,\n",
       "        0.66028714, 0.5871513 , 0.16461694, 0.7381023 , 0.32054043],\n",
       "       dtype=float32)>,\n",
       " TensorShape([50]))"
      ]
     },
     "execution_count": 86,
     "metadata": {},
     "output_type": "execute_result"
    }
   ],
   "source": [
    "G_squeezed = tf.squeeze(G)\n",
    "G_squeezed, G_squeezed.shape"
   ]
  },
  {
   "cell_type": "markdown",
   "id": "c6a3f50c-9df5-4e77-abc8-b5e851d8dd8b",
   "metadata": {},
   "source": [
    "## one Hot encoding"
   ]
  },
  {
   "cell_type": "code",
   "execution_count": 88,
   "id": "0e232f86-06a4-4f34-968b-35697a2ab597",
   "metadata": {},
   "outputs": [
    {
     "data": {
      "text/plain": [
       "<tf.Tensor: shape=(4, 4), dtype=float32, numpy=\n",
       "array([[1., 0., 0., 0.],\n",
       "       [0., 1., 0., 0.],\n",
       "       [0., 0., 1., 0.],\n",
       "       [0., 0., 0., 1.]], dtype=float32)>"
      ]
     },
     "execution_count": 88,
     "metadata": {},
     "output_type": "execute_result"
    }
   ],
   "source": [
    "## lIST OF indices\n",
    "some_list = [0,1,2,3]\n",
    "\n",
    "# One hot encoding\n",
    "tf.one_hot(some_list, depth=4)"
   ]
  },
  {
   "cell_type": "code",
   "execution_count": 92,
   "id": "a4e51cde-eca0-436b-a8f4-dfb5276695c9",
   "metadata": {},
   "outputs": [
    {
     "data": {
      "text/plain": [
       "<tf.Tensor: shape=(4, 4), dtype=bool, numpy=\n",
       "array([[ True, False, False, False],\n",
       "       [False,  True, False, False],\n",
       "       [False, False,  True, False],\n",
       "       [False, False, False,  True]])>"
      ]
     },
     "execution_count": 92,
     "metadata": {},
     "output_type": "execute_result"
    }
   ],
   "source": [
    "tf.one_hot(some_list, depth=4, on_value=True, off_value=False)"
   ]
  },
  {
   "cell_type": "markdown",
   "id": "d5e44fbf-d3e3-4a7d-95a5-915330727c10",
   "metadata": {},
   "source": [
    "## Some Extra operations"
   ]
  },
  {
   "cell_type": "code",
   "execution_count": 95,
   "id": "4031faa0-0f93-4139-989c-c265672c7cf5",
   "metadata": {},
   "outputs": [
    {
     "data": {
      "text/plain": [
       "<tf.Tensor: shape=(49,), dtype=int32, numpy=\n",
       "array([ 1,  2,  3,  4,  5,  6,  7,  8,  9, 10, 11, 12, 13, 14, 15, 16, 17,\n",
       "       18, 19, 20, 21, 22, 23, 24, 25, 26, 27, 28, 29, 30, 31, 32, 33, 34,\n",
       "       35, 36, 37, 38, 39, 40, 41, 42, 43, 44, 45, 46, 47, 48, 49])>"
      ]
     },
     "execution_count": 95,
     "metadata": {},
     "output_type": "execute_result"
    }
   ],
   "source": [
    "H = tf.range(1, 50)\n",
    "H"
   ]
  },
  {
   "cell_type": "code",
   "execution_count": 96,
   "id": "258cace3-9707-4498-abae-def0963ae582",
   "metadata": {},
   "outputs": [
    {
     "data": {
      "text/plain": [
       "<tf.Tensor: shape=(49,), dtype=int32, numpy=\n",
       "array([   1,    4,    9,   16,   25,   36,   49,   64,   81,  100,  121,\n",
       "        144,  169,  196,  225,  256,  289,  324,  361,  400,  441,  484,\n",
       "        529,  576,  625,  676,  729,  784,  841,  900,  961, 1024, 1089,\n",
       "       1156, 1225, 1296, 1369, 1444, 1521, 1600, 1681, 1764, 1849, 1936,\n",
       "       2025, 2116, 2209, 2304, 2401])>"
      ]
     },
     "execution_count": 96,
     "metadata": {},
     "output_type": "execute_result"
    }
   ],
   "source": [
    "tf.square(H)"
   ]
  },
  {
   "cell_type": "code",
   "execution_count": 98,
   "id": "a0e07199-fc43-48ed-abf2-0f25a58aeb62",
   "metadata": {},
   "outputs": [
    {
     "data": {
      "text/plain": [
       "<tf.Tensor: shape=(49,), dtype=float32, numpy=\n",
       "array([1.       , 1.4142137, 1.7320509, 2.       , 2.2360682, 2.4494898,\n",
       "       2.6457515, 2.8284273, 3.0000002, 3.1622777, 3.3166249, 3.4641018,\n",
       "       3.6055512, 3.7416575, 3.8729835, 4.       , 4.1231055, 4.2426405,\n",
       "       4.3588996, 4.4721365, 4.582576 , 4.6904163, 4.7958317, 4.8989797,\n",
       "       5.       , 5.0990195, 5.196152 , 5.291503 , 5.385165 , 5.477226 ,\n",
       "       5.5677643, 5.6568546, 5.744563 , 5.8309526, 5.91608  , 6.0000005,\n",
       "       6.0827627, 6.1644144, 6.244998 , 6.3245554, 6.4031243, 6.480741 ,\n",
       "       6.5574384, 6.6332498, 6.7082043, 6.78233  , 6.8556547, 6.9282036,\n",
       "       7.       ], dtype=float32)>"
      ]
     },
     "execution_count": 98,
     "metadata": {},
     "output_type": "execute_result"
    }
   ],
   "source": [
    "tf.sqrt(tf.cast(H, dtype=tf.float32))"
   ]
  },
  {
   "cell_type": "code",
   "execution_count": 100,
   "id": "81f5fc22-8352-4dfb-b9d7-be51a3e649b0",
   "metadata": {},
   "outputs": [
    {
     "data": {
      "text/plain": [
       "<tf.Tensor: shape=(49,), dtype=float32, numpy=\n",
       "array([0.       , 0.6931472, 1.0986123, 1.3862944, 1.609438 , 1.7917595,\n",
       "       1.9459102, 2.0794415, 2.1972246, 2.3025851, 2.3978953, 2.4849067,\n",
       "       2.5649493, 2.6390574, 2.7080503, 2.7725887, 2.8332133, 2.8903718,\n",
       "       2.944439 , 2.9957323, 3.0445225, 3.0910425, 3.1354942, 3.1780539,\n",
       "       3.218876 , 3.2580965, 3.295837 , 3.3322046, 3.3672957, 3.4011974,\n",
       "       3.4339871, 3.465736 , 3.4965076, 3.5263605, 3.5553482, 3.583519 ,\n",
       "       3.610918 , 3.637586 , 3.6635616, 3.6888795, 3.713572 , 3.7376697,\n",
       "       3.7612002, 3.7841897, 3.8066626, 3.8286414, 3.8501477, 3.871201 ,\n",
       "       3.8918204], dtype=float32)>"
      ]
     },
     "execution_count": 100,
     "metadata": {},
     "output_type": "execute_result"
    }
   ],
   "source": [
    "tf.math.log(tf.cast(H, dtype=tf.float32))"
   ]
  },
  {
   "cell_type": "markdown",
   "id": "9d176c5d-2cd2-40bf-aee8-71525d97d916",
   "metadata": {},
   "source": [
    "## Tensors and Numpy"
   ]
  },
  {
   "cell_type": "code",
   "execution_count": 101,
   "id": "e2b45626-9eb1-4e57-93e2-09b1b4cc8a6f",
   "metadata": {},
   "outputs": [
    {
     "data": {
      "text/plain": [
       "<tf.Tensor: shape=(3,), dtype=float64, numpy=array([ 3.,  7., 10.])>"
      ]
     },
     "execution_count": 101,
     "metadata": {},
     "output_type": "execute_result"
    }
   ],
   "source": [
    "J = tf.constant(np.array([3., 7., 10.]))\n",
    "J"
   ]
  },
  {
   "cell_type": "code",
   "execution_count": 103,
   "id": "33412e9d-9fd3-40fd-9bfc-10d1bb245952",
   "metadata": {},
   "outputs": [
    {
     "data": {
      "text/plain": [
       "numpy.ndarray"
      ]
     },
     "execution_count": 103,
     "metadata": {},
     "output_type": "execute_result"
    }
   ],
   "source": [
    "np.array(J)\n",
    "\n",
    "type(np.array(J))"
   ]
  },
  {
   "cell_type": "code",
   "execution_count": 104,
   "id": "6b7fc8e6-f5b2-4154-972d-1e3286ccd715",
   "metadata": {},
   "outputs": [
    {
     "data": {
      "text/plain": [
       "(array([ 3.,  7., 10.]), numpy.ndarray)"
      ]
     },
     "execution_count": 104,
     "metadata": {},
     "output_type": "execute_result"
    }
   ],
   "source": [
    "J.numpy(), type(J.numpy())"
   ]
  },
  {
   "cell_type": "code",
   "execution_count": 106,
   "id": "a1cc5df7-fcaa-4361-a6ef-ddd91609d4fa",
   "metadata": {},
   "outputs": [
    {
     "data": {
      "text/plain": [
       "(tf.float64, tf.float32)"
      ]
     },
     "execution_count": 106,
     "metadata": {},
     "output_type": "execute_result"
    }
   ],
   "source": [
    "numpy_J = tf.constant(np.array([3., 7., 10.]))\n",
    "tensor_J = tf.constant([3., 7., 10.])\n",
    "\n",
    "numpy_J.dtype, tensor_J.dtype"
   ]
  },
  {
   "cell_type": "markdown",
   "id": "ad2b3c08-e98d-45f2-a93e-9c86834f8210",
   "metadata": {},
   "source": [
    "## Finding Access to GPU"
   ]
  },
  {
   "cell_type": "code",
   "execution_count": 109,
   "id": "d75dce93-710b-4c97-9970-3ea5c81dfd71",
   "metadata": {},
   "outputs": [
    {
     "data": {
      "text/plain": [
       "[PhysicalDevice(name='/physical_device:GPU:0', device_type='GPU')]"
      ]
     },
     "execution_count": 109,
     "metadata": {},
     "output_type": "execute_result"
    }
   ],
   "source": [
    "tf.config.list_physical_devices(\"GPU\")"
   ]
  },
  {
   "cell_type": "code",
   "execution_count": 110,
   "id": "7f29f390-6fb8-4503-af98-6505f653dd38",
   "metadata": {},
   "outputs": [
    {
     "name": "stdout",
     "output_type": "stream",
     "text": [
      "Mon May 10 17:30:03 2021       \n",
      "+-----------------------------------------------------------------------------+\n",
      "| NVIDIA-SMI 466.27       Driver Version: 466.27       CUDA Version: 11.3     |\n",
      "|-------------------------------+----------------------+----------------------+\n",
      "| GPU  Name            TCC/WDDM | Bus-Id        Disp.A | Volatile Uncorr. ECC |\n",
      "| Fan  Temp  Perf  Pwr:Usage/Cap|         Memory-Usage | GPU-Util  Compute M. |\n",
      "|                               |                      |               MIG M. |\n",
      "|===============================+======================+======================|\n",
      "|   0  NVIDIA GeForce ... WDDM  | 00000000:02:00.0 Off |                  N/A |\n",
      "| N/A   47C    P8    N/A /  N/A |   3053MiB /  4096MiB |      0%      Default |\n",
      "|                               |                      |                  N/A |\n",
      "+-------------------------------+----------------------+----------------------+\n",
      "                                                                               \n",
      "+-----------------------------------------------------------------------------+\n",
      "| Processes:                                                                  |\n",
      "|  GPU   GI   CI        PID   Type   Process name                  GPU Memory |\n",
      "|        ID   ID                                                   Usage      |\n",
      "|=============================================================================|\n",
      "|    0   N/A  N/A     20328    C+G   ...op\\app-1.7.26\\Element.exe    N/A      |\n",
      "|    0   N/A  N/A     21536      C   ...chine-learning\\python.exe    N/A      |\n",
      "+-----------------------------------------------------------------------------+\n"
     ]
    }
   ],
   "source": [
    "!nvidia-smi"
   ]
  },
  {
   "cell_type": "markdown",
   "id": "ff2d1735-265b-4226-8448-c16205750037",
   "metadata": {},
   "source": [
    "## Exercise"
   ]
  },
  {
   "cell_type": "code",
   "execution_count": null,
   "id": "27a6879e-2544-41b1-9200-9325e385e6c6",
   "metadata": {},
   "outputs": [],
   "source": []
  }
 ],
 "metadata": {
  "kernelspec": {
   "display_name": "machine-learning",
   "language": "python",
   "name": "machine-learning"
  },
  "language_info": {
   "codemirror_mode": {
    "name": "ipython",
    "version": 3
   },
   "file_extension": ".py",
   "mimetype": "text/x-python",
   "name": "python",
   "nbconvert_exporter": "python",
   "pygments_lexer": "ipython3",
   "version": "3.9.4"
  }
 },
 "nbformat": 4,
 "nbformat_minor": 5
}
